{
 "cells": [
  {
   "cell_type": "markdown",
   "metadata": {},
   "source": [
    "**This notebook serves the purpose of 1) concatenating scraped author and publication information across the 10-year span and 2) merging funding, author, and publication information together for later analysis for later analysis.**"
   ]
  },
  {
   "cell_type": "markdown",
   "metadata": {},
   "source": [
    "**Resources consulted online**:\n",
    "1. https://pandas.pydata.org/docs/user_guide/merging.html"
   ]
  },
  {
   "cell_type": "markdown",
   "metadata": {},
   "source": [
    "# Load libraries"
   ]
  },
  {
   "cell_type": "code",
   "execution_count": 1,
   "metadata": {},
   "outputs": [],
   "source": [
    "import pandas as pd"
   ]
  },
  {
   "cell_type": "markdown",
   "metadata": {},
   "source": [
    "# Define functions to concatenate author or publication information across years"
   ]
  },
  {
   "cell_type": "code",
   "execution_count": 2,
   "metadata": {},
   "outputs": [],
   "source": [
    "def concatenate_author_info(start_year, stop_year, base_path='../database/author_info/'):\n",
    "    \"\"\"\n",
    "    Loads author information from CSV files for a range of years, adds an 'award_year' column,\n",
    "    and concatenates them into a single DataFrame.\n",
    "    \n",
    "    Parameters:\n",
    "    - start_year: The starting year of the range (inclusive).\n",
    "    - stop_year: The stopping year of the range (inclusive).\n",
    "    - base_path: The base path where the CSV files are stored.\n",
    "    \n",
    "    Returns:\n",
    "    - A concatenated DataFrame containing all the author information across the specified years.\n",
    "    \"\"\"\n",
    "    concatenated_df = pd.DataFrame()\n",
    "    \n",
    "    for year in range(start_year, stop_year + 1):\n",
    "        file_name = f'author_info_{year}.csv'\n",
    "        file_path = f'{base_path}{file_name}'\n",
    "\n",
    "        # Load the CSV file into a DataFrame\n",
    "        df = pd.read_csv(file_path, index_col=0)\n",
    "        # Add 'award_year' column\n",
    "        df['award_year'] = year\n",
    "        # Concatenate to the main DataFrame\n",
    "        concatenated_df = pd.concat([concatenated_df, df], ignore_index=True)\n",
    "    \n",
    "    return concatenated_df"
   ]
  },
  {
   "cell_type": "code",
   "execution_count": 3,
   "metadata": {},
   "outputs": [],
   "source": [
    "def concatenate_publication_info(start_year, stop_year, base_path='../database/publication_info/'):\n",
    "    \"\"\"\n",
    "    Loads publication information from CSV files for a range of years and concatenates them into a single DataFrame.\n",
    "    \n",
    "    Parameters:\n",
    "    - start_year: The starting year of the range (inclusive).\n",
    "    - stop_year: The stopping year of the range (inclusive).\n",
    "    - base_path: The base path where the CSV files are stored.\n",
    "    \n",
    "    Returns:\n",
    "    - A concatenated DataFrame containing all the publication information across the specified years.\n",
    "    \"\"\"\n",
    "    concatenated_df = pd.DataFrame()\n",
    "    \n",
    "    for year in range(start_year, stop_year + 1):\n",
    "        file_name = f'pub_info_{year-3}_{year+3}.csv'\n",
    "        file_path = f'{base_path}{file_name}'\n",
    "\n",
    "        # Load the CSV file into a DataFrame\n",
    "        df = pd.read_csv(file_path, index_col=0)\n",
    "        # Add 'award_year' column\n",
    "        df['award_year'] = year\n",
    "        # Concatenate to the main DataFrame\n",
    "        concatenated_df = pd.concat([concatenated_df, df], ignore_index=True)\n",
    "    \n",
    "    return concatenated_df"
   ]
  },
  {
   "cell_type": "markdown",
   "metadata": {},
   "source": [
    "# Define a function that merges funding, author, and publication information together for later analysis"
   ]
  },
  {
   "cell_type": "code",
   "execution_count": 2,
   "metadata": {},
   "outputs": [],
   "source": [
    "def aggregate_info():\n",
    "    \"\"\"\n",
    "    Loads funding, author, and publication information from CSV files and merges them into a single DataFrame.\n",
    "    \n",
    "    Parameters:\n",
    "    - funding_info: The DataFrame of funding information. \n",
    "    - author_info: The DataFrame of author information. \n",
    "    - publication_info: The DataFrame of publication information.\n",
    "    - base_path: The base path where the CSV files are stored.\n",
    "    \n",
    "    Returns:\n",
    "    - A merged DataFrame containing all funding, author, and publication information.\n",
    "    \"\"\"\n",
    "    # Load csv files into DataFrames\n",
    "    funding_info = pd.read_csv('../database/funding_info.csv', index_col=0)\n",
    "    author_info = pd.read_csv('../database/author_info.csv', index_col=0)\n",
    "    publication_info = pd.read_csv('../database/publication_info.csv', index_col=0)\n",
    "\n",
    "    # Merge funding information with author information \n",
    "    aggregated_info = pd.merge(funding_info, author_info, on=['first_name', 'middle_name', 'last_name', 'email', 'institution', 'award_year'], how='inner')\n",
    "\n",
    "    # Merge publication information with the aggregated information\n",
    "    aggregated_info = pd.merge(aggregated_info, publication_info, on=['first_name', 'middle_name', 'last_name', 'email', 'award_year'], how='inner')\n",
    "\n",
    "    return aggregated_info"
   ]
  },
  {
   "cell_type": "markdown",
   "metadata": {},
   "source": [
    "# Implement the functions to perform merging"
   ]
  },
  {
   "cell_type": "code",
   "execution_count": 5,
   "metadata": {},
   "outputs": [],
   "source": [
    "# Save concatenated author information\n",
    "author_info = concatenate_author_info(2011, 2020)\n",
    "author_info.to_csv('../database/author_info.csv')"
   ]
  },
  {
   "cell_type": "code",
   "execution_count": 6,
   "metadata": {},
   "outputs": [],
   "source": [
    "# Save concatenated publication information\n",
    "publication_info = concatenate_publication_info(2011, 2020)\n",
    "publication_info.to_csv('../database/publication_info.csv')"
   ]
  },
  {
   "cell_type": "code",
   "execution_count": null,
   "metadata": {},
   "outputs": [],
   "source": [
    "# Save the merged DataFrame\n",
    "content_analysis = aggregate_info()\n",
    "content_analysis.to_csv('../database/content_analysis.csv')"
   ]
  }
 ],
 "metadata": {
  "kernelspec": {
   "display_name": "base",
   "language": "python",
   "name": "python3"
  },
  "language_info": {
   "codemirror_mode": {
    "name": "ipython",
    "version": 3
   },
   "file_extension": ".py",
   "mimetype": "text/x-python",
   "name": "python",
   "nbconvert_exporter": "python",
   "pygments_lexer": "ipython3",
   "version": "3.11.5"
  }
 },
 "nbformat": 4,
 "nbformat_minor": 2
}
