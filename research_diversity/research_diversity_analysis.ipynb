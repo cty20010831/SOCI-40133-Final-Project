{
 "cells": [
  {
   "cell_type": "markdown",
   "metadata": {},
   "source": [
    "# Import required libraries"
   ]
  },
  {
   "cell_type": "code",
   "execution_count": 1,
   "metadata": {},
   "outputs": [],
   "source": [
    "import os\n",
    "import pandas as pd\n",
    "import numpy as np\n",
    "import seaborn as sns\n",
    "import matplotlib.pyplot as plt\n",
    "%matplotlib inline\n",
    "\n",
    "# Modules for SciBert\n",
    "from transformers import AutoTokenizer, AutoModel\n",
    "import torch\n",
    "\n",
    "# Modules for calculating diversity of research topics\n",
    "from scipy.spatial.distance import pdist, squareform\n",
    "from scipy.stats import entropy\n",
    "from sklearn.decomposition import PCA\n",
    "from sklearn.cluster import MeanShift, estimate_bandwidth\n",
    "from sklearn.preprocessing import StandardScaler\n",
    "from sklearn.metrics import silhouette_score\n",
    "from scipy.special import kl_div\n",
    "\n",
    "# Module for conducting repeated-measure tests\n",
    "from scipy.stats import wilcoxon\n",
    "from scipy.stats import shapiro\n",
    "import statsmodels.api as sm\n",
    "import pylab as py \n",
    "\n",
    "# Ignore warning messages (only) for display purpose\n",
    "import warnings\n",
    "warnings.filterwarnings('ignore')"
   ]
  },
  {
   "cell_type": "markdown",
   "metadata": {},
   "source": [
    "# Read data"
   ]
  },
  {
   "cell_type": "code",
   "execution_count": 8,
   "metadata": {},
   "outputs": [
    {
     "data": {
      "text/html": [
       "<div>\n",
       "<style scoped>\n",
       "    .dataframe tbody tr th:only-of-type {\n",
       "        vertical-align: middle;\n",
       "    }\n",
       "\n",
       "    .dataframe tbody tr th {\n",
       "        vertical-align: top;\n",
       "    }\n",
       "\n",
       "    .dataframe thead th {\n",
       "        text-align: right;\n",
       "    }\n",
       "</style>\n",
       "<table border=\"1\" class=\"dataframe\">\n",
       "  <thead>\n",
       "    <tr style=\"text-align: right;\">\n",
       "      <th></th>\n",
       "      <th>first_name</th>\n",
       "      <th>middle_name</th>\n",
       "      <th>last_name</th>\n",
       "      <th>email</th>\n",
       "      <th>institution</th>\n",
       "      <th>award_year</th>\n",
       "      <th>award_amount</th>\n",
       "      <th>paper_title</th>\n",
       "      <th>journal</th>\n",
       "      <th>publication_year</th>\n",
       "      <th>...</th>\n",
       "      <th>citation_2019</th>\n",
       "      <th>citation_2020</th>\n",
       "      <th>citation_2021</th>\n",
       "      <th>citation_2022</th>\n",
       "      <th>citation_2023</th>\n",
       "      <th>citation_2024</th>\n",
       "      <th>tokenized_title</th>\n",
       "      <th>normalized_title</th>\n",
       "      <th>tokenized_abstract</th>\n",
       "      <th>normalized_abstract</th>\n",
       "    </tr>\n",
       "  </thead>\n",
       "  <tbody>\n",
       "    <tr>\n",
       "      <th>0</th>\n",
       "      <td>Talal</td>\n",
       "      <td>NaN</td>\n",
       "      <td>Asad</td>\n",
       "      <td>talalasad@earthlink.net</td>\n",
       "      <td>cuny graduate school university center</td>\n",
       "      <td>2011</td>\n",
       "      <td>19901</td>\n",
       "      <td>Effect of oxidation and geometrical dimensions...</td>\n",
       "      <td>Desalination</td>\n",
       "      <td>2011</td>\n",
       "      <td>...</td>\n",
       "      <td>13</td>\n",
       "      <td>5</td>\n",
       "      <td>10</td>\n",
       "      <td>5</td>\n",
       "      <td>7</td>\n",
       "      <td>1</td>\n",
       "      <td>['Effect', 'of', 'oxidation', 'and', 'geometri...</td>\n",
       "      <td>['effect', 'oxidation', 'geometrical', 'dimens...</td>\n",
       "      <td>['This', 'study', 'reports', 'for', 'the', 'fi...</td>\n",
       "      <td>['study', 'report', 'time', 'use', 'oxidize', ...</td>\n",
       "    </tr>\n",
       "    <tr>\n",
       "      <th>1</th>\n",
       "      <td>Talal</td>\n",
       "      <td>NaN</td>\n",
       "      <td>Asad</td>\n",
       "      <td>talalasad@earthlink.net</td>\n",
       "      <td>cuny graduate school university center</td>\n",
       "      <td>2011</td>\n",
       "      <td>19901</td>\n",
       "      <td>Synthesis and biological evaluation of new pyr...</td>\n",
       "      <td>Molecules</td>\n",
       "      <td>2014</td>\n",
       "      <td>...</td>\n",
       "      <td>13</td>\n",
       "      <td>5</td>\n",
       "      <td>10</td>\n",
       "      <td>5</td>\n",
       "      <td>7</td>\n",
       "      <td>1</td>\n",
       "      <td>['Synthesis', 'and', 'biological', 'evaluation...</td>\n",
       "      <td>['synthesis', 'biological', 'evaluation', 'new...</td>\n",
       "      <td>['A', 'selected', 'set', 'of', 'substituted', ...</td>\n",
       "      <td>['select', 'set', 'substituted', 'pyridone', '...</td>\n",
       "    </tr>\n",
       "    <tr>\n",
       "      <th>2</th>\n",
       "      <td>Talal</td>\n",
       "      <td>NaN</td>\n",
       "      <td>Asad</td>\n",
       "      <td>talalasad@earthlink.net</td>\n",
       "      <td>cuny graduate school university center</td>\n",
       "      <td>2011</td>\n",
       "      <td>19901</td>\n",
       "      <td>Synthesis of 6-Ethyl-1, 2, 9-trioxopyrrolo [3,...</td>\n",
       "      <td>Zeitschrift für Naturforschung B</td>\n",
       "      <td>2013</td>\n",
       "      <td>...</td>\n",
       "      <td>13</td>\n",
       "      <td>5</td>\n",
       "      <td>10</td>\n",
       "      <td>5</td>\n",
       "      <td>7</td>\n",
       "      <td>1</td>\n",
       "      <td>['Synthesis', 'of', '6', 'Ethyl-1', '2', '9', ...</td>\n",
       "      <td>['synthesis', 'ethyl-1', 'trioxopyrrolo', 'f',...</td>\n",
       "      <td>['Interaction', 'of', '6', 'amino-1', 'ethyl-4...</td>\n",
       "      <td>['interaction', 'amino-1', 'ethyl-4', 'oxoquin...</td>\n",
       "    </tr>\n",
       "    <tr>\n",
       "      <th>3</th>\n",
       "      <td>Talal</td>\n",
       "      <td>NaN</td>\n",
       "      <td>Asad</td>\n",
       "      <td>talalasad@earthlink.net</td>\n",
       "      <td>cuny graduate school university center</td>\n",
       "      <td>2011</td>\n",
       "      <td>19901</td>\n",
       "      <td>Randa M. Al-As’ ada, Mustafa M. El-abadelaha, ...</td>\n",
       "      <td>Z. Naturforsch</td>\n",
       "      <td>2013</td>\n",
       "      <td>...</td>\n",
       "      <td>13</td>\n",
       "      <td>5</td>\n",
       "      <td>10</td>\n",
       "      <td>5</td>\n",
       "      <td>7</td>\n",
       "      <td>1</td>\n",
       "      <td>['Randa', 'M.', 'Al', 'As', 'ada', 'Mustafa', ...</td>\n",
       "      <td>['randa', 'm.', 'al', 'ada', 'mustafa', 'm.', ...</td>\n",
       "      <td>['Interaction', 'of', '6', 'amino-1', 'ethyl-4...</td>\n",
       "      <td>['interaction', 'amino-1', 'ethyl-4', 'oxoquin...</td>\n",
       "    </tr>\n",
       "    <tr>\n",
       "      <th>4</th>\n",
       "      <td>Leaf</td>\n",
       "      <td>NaN</td>\n",
       "      <td>Van Boven</td>\n",
       "      <td>vanboven@colorado.edu</td>\n",
       "      <td>university of colorado at boulder</td>\n",
       "      <td>2011</td>\n",
       "      <td>250000</td>\n",
       "      <td>Identifiable but not identical: Combining soci...</td>\n",
       "      <td>Journal of Consumer research</td>\n",
       "      <td>2012</td>\n",
       "      <td>...</td>\n",
       "      <td>868</td>\n",
       "      <td>1234</td>\n",
       "      <td>1132</td>\n",
       "      <td>1198</td>\n",
       "      <td>1222</td>\n",
       "      <td>179</td>\n",
       "      <td>['Identifiable', 'but', 'not', 'identical', 'C...</td>\n",
       "      <td>['identifiable', 'identical', 'combine', 'soci...</td>\n",
       "      <td>['How', 'do', 'consumers', 'reconcile', 'confl...</td>\n",
       "      <td>['consumer', 'reconcile', 'conflicting', 'moti...</td>\n",
       "    </tr>\n",
       "  </tbody>\n",
       "</table>\n",
       "<p>5 rows × 41 columns</p>\n",
       "</div>"
      ],
      "text/plain": [
       "  first_name middle_name  last_name                    email  \\\n",
       "0      Talal         NaN       Asad  talalasad@earthlink.net   \n",
       "1      Talal         NaN       Asad  talalasad@earthlink.net   \n",
       "2      Talal         NaN       Asad  talalasad@earthlink.net   \n",
       "3      Talal         NaN       Asad  talalasad@earthlink.net   \n",
       "4       Leaf         NaN  Van Boven    vanboven@colorado.edu   \n",
       "\n",
       "                              institution  award_year  award_amount  \\\n",
       "0  cuny graduate school university center        2011         19901   \n",
       "1  cuny graduate school university center        2011         19901   \n",
       "2  cuny graduate school university center        2011         19901   \n",
       "3  cuny graduate school university center        2011         19901   \n",
       "4       university of colorado at boulder        2011        250000   \n",
       "\n",
       "                                         paper_title  \\\n",
       "0  Effect of oxidation and geometrical dimensions...   \n",
       "1  Synthesis and biological evaluation of new pyr...   \n",
       "2  Synthesis of 6-Ethyl-1, 2, 9-trioxopyrrolo [3,...   \n",
       "3  Randa M. Al-As’ ada, Mustafa M. El-abadelaha, ...   \n",
       "4  Identifiable but not identical: Combining soci...   \n",
       "\n",
       "                            journal  publication_year  ... citation_2019  \\\n",
       "0                      Desalination              2011  ...            13   \n",
       "1                         Molecules              2014  ...            13   \n",
       "2  Zeitschrift für Naturforschung B              2013  ...            13   \n",
       "3                    Z. Naturforsch              2013  ...            13   \n",
       "4      Journal of Consumer research              2012  ...           868   \n",
       "\n",
       "  citation_2020  citation_2021  citation_2022  citation_2023  citation_2024  \\\n",
       "0             5             10              5              7              1   \n",
       "1             5             10              5              7              1   \n",
       "2             5             10              5              7              1   \n",
       "3             5             10              5              7              1   \n",
       "4          1234           1132           1198           1222            179   \n",
       "\n",
       "                                     tokenized_title  \\\n",
       "0  ['Effect', 'of', 'oxidation', 'and', 'geometri...   \n",
       "1  ['Synthesis', 'and', 'biological', 'evaluation...   \n",
       "2  ['Synthesis', 'of', '6', 'Ethyl-1', '2', '9', ...   \n",
       "3  ['Randa', 'M.', 'Al', 'As', 'ada', 'Mustafa', ...   \n",
       "4  ['Identifiable', 'but', 'not', 'identical', 'C...   \n",
       "\n",
       "                                    normalized_title  \\\n",
       "0  ['effect', 'oxidation', 'geometrical', 'dimens...   \n",
       "1  ['synthesis', 'biological', 'evaluation', 'new...   \n",
       "2  ['synthesis', 'ethyl-1', 'trioxopyrrolo', 'f',...   \n",
       "3  ['randa', 'm.', 'al', 'ada', 'mustafa', 'm.', ...   \n",
       "4  ['identifiable', 'identical', 'combine', 'soci...   \n",
       "\n",
       "                                  tokenized_abstract  \\\n",
       "0  ['This', 'study', 'reports', 'for', 'the', 'fi...   \n",
       "1  ['A', 'selected', 'set', 'of', 'substituted', ...   \n",
       "2  ['Interaction', 'of', '6', 'amino-1', 'ethyl-4...   \n",
       "3  ['Interaction', 'of', '6', 'amino-1', 'ethyl-4...   \n",
       "4  ['How', 'do', 'consumers', 'reconcile', 'confl...   \n",
       "\n",
       "                                 normalized_abstract  \n",
       "0  ['study', 'report', 'time', 'use', 'oxidize', ...  \n",
       "1  ['select', 'set', 'substituted', 'pyridone', '...  \n",
       "2  ['interaction', 'amino-1', 'ethyl-4', 'oxoquin...  \n",
       "3  ['interaction', 'amino-1', 'ethyl-4', 'oxoquin...  \n",
       "4  ['consumer', 'reconcile', 'conflicting', 'moti...  \n",
       "\n",
       "[5 rows x 41 columns]"
      ]
     },
     "execution_count": 8,
     "metadata": {},
     "output_type": "execute_result"
    }
   ],
   "source": [
    "# Read dataframe\n",
    "df = pd.read_csv(\"../database/preprocessed_content_analysis.csv\")\n",
    "df.drop(columns=['Unnamed: 0'], inplace=True)\n",
    "df.head()"
   ]
  },
  {
   "cell_type": "code",
   "execution_count": 9,
   "metadata": {},
   "outputs": [
    {
     "data": {
      "text/plain": [
       "Index(['first_name', 'middle_name', 'last_name', 'email', 'institution',\n",
       "       'award_year', 'award_amount', 'paper_title', 'journal',\n",
       "       'publication_year', 'coauthors', 'paper_abstract',\n",
       "       'paper_total_citations', 'citation_2001', 'citation_2002',\n",
       "       'citation_2003', 'citation_2004', 'citation_2005', 'citation_2006',\n",
       "       'citation_2007', 'citation_2008', 'citation_2009', 'citation_2010',\n",
       "       'citation_2011', 'citation_2012', 'citation_2013', 'citation_2014',\n",
       "       'citation_2015', 'citation_2016', 'citation_2017', 'citation_2018',\n",
       "       'citation_2019', 'citation_2020', 'citation_2021', 'citation_2022',\n",
       "       'citation_2023', 'citation_2024', 'tokenized_title', 'normalized_title',\n",
       "       'tokenized_abstract', 'normalized_abstract'],\n",
       "      dtype='object')"
      ]
     },
     "execution_count": 9,
     "metadata": {},
     "output_type": "execute_result"
    }
   ],
   "source": [
    "df.columns"
   ]
  },
  {
   "cell_type": "markdown",
   "metadata": {},
   "source": [
    "# Use SciBERT to construct embeddings of each paper's abstract"
   ]
  },
  {
   "cell_type": "code",
   "execution_count": 10,
   "metadata": {},
   "outputs": [],
   "source": [
    "# Load SciBERT tokenizer and model\n",
    "tokenizer = AutoTokenizer.from_pretrained('allenai/scibert_scivocab_uncased')\n",
    "model = AutoModel.from_pretrained('allenai/scibert_scivocab_uncased')"
   ]
  },
  {
   "cell_type": "code",
   "execution_count": 12,
   "metadata": {},
   "outputs": [],
   "source": [
    "df_path = \"../database/content_analysis_abstract_embedding.csv\"\n",
    "\n",
    "if os.path.exists(df_path):\n",
    "    df = pd.read_csv(df_path)\n",
    "else:\n",
    "    # Initialize the `abstract_embedding` column\n",
    "    df['abstract_embedding'] = None\n",
    "\n",
    "    for index, row in df.iterrows():\n",
    "        text = row['paper_abstract']\n",
    "        encoded_input = tokenizer(text, return_tensors='pt',\n",
    "                                  max_length=512, truncation=True)\n",
    "\n",
    "        # Avoid using gradient calculation to reduce memory consumption and speeds up \n",
    "        # computation since obtaining the model output for inference does not require it.\n",
    "        with torch.no_grad():\n",
    "            output = model(**encoded_input)\n",
    "\n",
    "        # Use pooler_ouput to capture the essence of the entire input sequence in a single vector\n",
    "        embedding = output.pooler_output.cpu().detach().numpy().flatten()\n",
    "        df.at[index,'abstract_embedding'] = embedding\n",
    "\n",
    "    # Save the dataframe\n",
    "    df.to_csv(df_path, index=False)"
   ]
  },
  {
   "cell_type": "markdown",
   "metadata": {},
   "source": [
    "Visualize the embedding (take James Evans as a case study)"
   ]
  },
  {
   "cell_type": "markdown",
   "metadata": {},
   "source": [
    "# Use repeated-measure test to test the effect of funding on diversity of publication"
   ]
  },
  {
   "cell_type": "code",
   "execution_count": 13,
   "metadata": {},
   "outputs": [],
   "source": [
    "# Add a column indicating whether the specific publication is before or after NSF award\n",
    "# Here, we take publication year which is the same as award year as \"before_award\"\n",
    "df[\"before_after_award\"] = np.where(df[\"publication_year\"] <= df[\"award_year\"], \"before_award\", \"after_award\")"
   ]
  },
  {
   "cell_type": "code",
   "execution_count": 14,
   "metadata": {},
   "outputs": [
    {
     "data": {
      "text/html": [
       "<div>\n",
       "<style scoped>\n",
       "    .dataframe tbody tr th:only-of-type {\n",
       "        vertical-align: middle;\n",
       "    }\n",
       "\n",
       "    .dataframe tbody tr th {\n",
       "        vertical-align: top;\n",
       "    }\n",
       "\n",
       "    .dataframe thead th {\n",
       "        text-align: right;\n",
       "    }\n",
       "</style>\n",
       "<table border=\"1\" class=\"dataframe\">\n",
       "  <thead>\n",
       "    <tr style=\"text-align: right;\">\n",
       "      <th></th>\n",
       "      <th>email</th>\n",
       "      <th>before_after_award</th>\n",
       "      <th>embedding_matrix</th>\n",
       "    </tr>\n",
       "  </thead>\n",
       "  <tbody>\n",
       "    <tr>\n",
       "      <th>0</th>\n",
       "      <td>00t0holtgrav@bsu.edu</td>\n",
       "      <td>after_award</td>\n",
       "      <td>[[-0.32955742, -0.5743396, -0.97046256, 0.2215...</td>\n",
       "    </tr>\n",
       "    <tr>\n",
       "      <th>1</th>\n",
       "      <td>00t0holtgrav@bsu.edu</td>\n",
       "      <td>before_award</td>\n",
       "      <td>[[-0.30634096, -0.4522231, -0.97391766, -0.939...</td>\n",
       "    </tr>\n",
       "    <tr>\n",
       "      <th>2</th>\n",
       "      <td>a.satpute@northeastern.edu</td>\n",
       "      <td>after_award</td>\n",
       "      <td>[[-0.32639113, -0.16873796, -0.15368238, 0.286...</td>\n",
       "    </tr>\n",
       "    <tr>\n",
       "      <th>3</th>\n",
       "      <td>a.satpute@northeastern.edu</td>\n",
       "      <td>before_award</td>\n",
       "      <td>[[-0.3914881, -0.11487491, -0.9629283, -0.3523...</td>\n",
       "    </tr>\n",
       "    <tr>\n",
       "      <th>4</th>\n",
       "      <td>aabrewer@uci.edu</td>\n",
       "      <td>after_award</td>\n",
       "      <td>[[-0.4823957, -0.40220445, -0.99880356, -0.968...</td>\n",
       "    </tr>\n",
       "    <tr>\n",
       "      <th>...</th>\n",
       "      <td>...</td>\n",
       "      <td>...</td>\n",
       "      <td>...</td>\n",
       "    </tr>\n",
       "    <tr>\n",
       "      <th>4022</th>\n",
       "      <td>zook@uky.edu</td>\n",
       "      <td>before_award</td>\n",
       "      <td>[[-0.055216346, -0.15407999, -0.9122512, 0.754...</td>\n",
       "    </tr>\n",
       "    <tr>\n",
       "      <th>4023</th>\n",
       "      <td>zulu@msu.edu</td>\n",
       "      <td>after_award</td>\n",
       "      <td>[[-0.15892313, -0.11903335, -0.9209364, -0.578...</td>\n",
       "    </tr>\n",
       "    <tr>\n",
       "      <th>4024</th>\n",
       "      <td>zulu@msu.edu</td>\n",
       "      <td>before_award</td>\n",
       "      <td>[[-0.27684975, -0.20300557, -0.6392335, 0.1452...</td>\n",
       "    </tr>\n",
       "    <tr>\n",
       "      <th>4025</th>\n",
       "      <td>zygmunt.frajzyngier@colorado.edu</td>\n",
       "      <td>after_award</td>\n",
       "      <td>[[-0.26335523, -0.17618415, -0.17456537, 0.923...</td>\n",
       "    </tr>\n",
       "    <tr>\n",
       "      <th>4026</th>\n",
       "      <td>zygmunt.frajzyngier@colorado.edu</td>\n",
       "      <td>before_award</td>\n",
       "      <td>[[-0.37854484, -0.77708656, -0.9866584, -0.324...</td>\n",
       "    </tr>\n",
       "  </tbody>\n",
       "</table>\n",
       "<p>4027 rows × 3 columns</p>\n",
       "</div>"
      ],
      "text/plain": [
       "                                 email before_after_award  \\\n",
       "0                 00t0holtgrav@bsu.edu        after_award   \n",
       "1                 00t0holtgrav@bsu.edu       before_award   \n",
       "2           a.satpute@northeastern.edu        after_award   \n",
       "3           a.satpute@northeastern.edu       before_award   \n",
       "4                     aabrewer@uci.edu        after_award   \n",
       "...                                ...                ...   \n",
       "4022                      zook@uky.edu       before_award   \n",
       "4023                      zulu@msu.edu        after_award   \n",
       "4024                      zulu@msu.edu       before_award   \n",
       "4025  zygmunt.frajzyngier@colorado.edu        after_award   \n",
       "4026  zygmunt.frajzyngier@colorado.edu       before_award   \n",
       "\n",
       "                                       embedding_matrix  \n",
       "0     [[-0.32955742, -0.5743396, -0.97046256, 0.2215...  \n",
       "1     [[-0.30634096, -0.4522231, -0.97391766, -0.939...  \n",
       "2     [[-0.32639113, -0.16873796, -0.15368238, 0.286...  \n",
       "3     [[-0.3914881, -0.11487491, -0.9629283, -0.3523...  \n",
       "4     [[-0.4823957, -0.40220445, -0.99880356, -0.968...  \n",
       "...                                                 ...  \n",
       "4022  [[-0.055216346, -0.15407999, -0.9122512, 0.754...  \n",
       "4023  [[-0.15892313, -0.11903335, -0.9209364, -0.578...  \n",
       "4024  [[-0.27684975, -0.20300557, -0.6392335, 0.1452...  \n",
       "4025  [[-0.26335523, -0.17618415, -0.17456537, 0.923...  \n",
       "4026  [[-0.37854484, -0.77708656, -0.9866584, -0.324...  \n",
       "\n",
       "[4027 rows x 3 columns]"
      ]
     },
     "execution_count": 14,
     "metadata": {},
     "output_type": "execute_result"
    }
   ],
   "source": [
    "# Stacks the embedding matrices together (grouped by `author` and `before_after_award`)\n",
    "group_by_embedding = df.groupby(by=[\"email\", \"before_after_award\"])['abstract_embedding'].apply(lambda x: np.vstack(x)).reset_index(name='embedding_matrix')\n",
    "group_by_embedding"
   ]
  },
  {
   "cell_type": "code",
   "execution_count": 15,
   "metadata": {},
   "outputs": [
    {
     "data": {
      "text/html": [
       "<div>\n",
       "<style scoped>\n",
       "    .dataframe tbody tr th:only-of-type {\n",
       "        vertical-align: middle;\n",
       "    }\n",
       "\n",
       "    .dataframe tbody tr th {\n",
       "        vertical-align: top;\n",
       "    }\n",
       "\n",
       "    .dataframe thead th {\n",
       "        text-align: right;\n",
       "    }\n",
       "</style>\n",
       "<table border=\"1\" class=\"dataframe\">\n",
       "  <thead>\n",
       "    <tr style=\"text-align: right;\">\n",
       "      <th></th>\n",
       "      <th>email</th>\n",
       "      <th>before_after_award</th>\n",
       "      <th>embedding_matrix</th>\n",
       "    </tr>\n",
       "  </thead>\n",
       "  <tbody>\n",
       "    <tr>\n",
       "      <th>0</th>\n",
       "      <td>00t0holtgrav@bsu.edu</td>\n",
       "      <td>after_award</td>\n",
       "      <td>[[-0.32955742, -0.5743396, -0.97046256, 0.2215...</td>\n",
       "    </tr>\n",
       "    <tr>\n",
       "      <th>1</th>\n",
       "      <td>00t0holtgrav@bsu.edu</td>\n",
       "      <td>before_award</td>\n",
       "      <td>[[-0.30634096, -0.4522231, -0.97391766, -0.939...</td>\n",
       "    </tr>\n",
       "    <tr>\n",
       "      <th>2</th>\n",
       "      <td>a.satpute@northeastern.edu</td>\n",
       "      <td>after_award</td>\n",
       "      <td>[[-0.32639113, -0.16873796, -0.15368238, 0.286...</td>\n",
       "    </tr>\n",
       "    <tr>\n",
       "      <th>3</th>\n",
       "      <td>a.satpute@northeastern.edu</td>\n",
       "      <td>before_award</td>\n",
       "      <td>[[-0.3914881, -0.11487491, -0.9629283, -0.3523...</td>\n",
       "    </tr>\n",
       "    <tr>\n",
       "      <th>4</th>\n",
       "      <td>aabrewer@uci.edu</td>\n",
       "      <td>after_award</td>\n",
       "      <td>[[-0.4823957, -0.40220445, -0.99880356, -0.968...</td>\n",
       "    </tr>\n",
       "    <tr>\n",
       "      <th>...</th>\n",
       "      <td>...</td>\n",
       "      <td>...</td>\n",
       "      <td>...</td>\n",
       "    </tr>\n",
       "    <tr>\n",
       "      <th>4022</th>\n",
       "      <td>zook@uky.edu</td>\n",
       "      <td>before_award</td>\n",
       "      <td>[[-0.055216346, -0.15407999, -0.9122512, 0.754...</td>\n",
       "    </tr>\n",
       "    <tr>\n",
       "      <th>4023</th>\n",
       "      <td>zulu@msu.edu</td>\n",
       "      <td>after_award</td>\n",
       "      <td>[[-0.15892313, -0.11903335, -0.9209364, -0.578...</td>\n",
       "    </tr>\n",
       "    <tr>\n",
       "      <th>4024</th>\n",
       "      <td>zulu@msu.edu</td>\n",
       "      <td>before_award</td>\n",
       "      <td>[[-0.27684975, -0.20300557, -0.6392335, 0.1452...</td>\n",
       "    </tr>\n",
       "    <tr>\n",
       "      <th>4025</th>\n",
       "      <td>zygmunt.frajzyngier@colorado.edu</td>\n",
       "      <td>after_award</td>\n",
       "      <td>[[-0.26335523, -0.17618415, -0.17456537, 0.923...</td>\n",
       "    </tr>\n",
       "    <tr>\n",
       "      <th>4026</th>\n",
       "      <td>zygmunt.frajzyngier@colorado.edu</td>\n",
       "      <td>before_award</td>\n",
       "      <td>[[-0.37854484, -0.77708656, -0.9866584, -0.324...</td>\n",
       "    </tr>\n",
       "  </tbody>\n",
       "</table>\n",
       "<p>3986 rows × 3 columns</p>\n",
       "</div>"
      ],
      "text/plain": [
       "                                 email before_after_award  \\\n",
       "0                 00t0holtgrav@bsu.edu        after_award   \n",
       "1                 00t0holtgrav@bsu.edu       before_award   \n",
       "2           a.satpute@northeastern.edu        after_award   \n",
       "3           a.satpute@northeastern.edu       before_award   \n",
       "4                     aabrewer@uci.edu        after_award   \n",
       "...                                ...                ...   \n",
       "4022                      zook@uky.edu       before_award   \n",
       "4023                      zulu@msu.edu        after_award   \n",
       "4024                      zulu@msu.edu       before_award   \n",
       "4025  zygmunt.frajzyngier@colorado.edu        after_award   \n",
       "4026  zygmunt.frajzyngier@colorado.edu       before_award   \n",
       "\n",
       "                                       embedding_matrix  \n",
       "0     [[-0.32955742, -0.5743396, -0.97046256, 0.2215...  \n",
       "1     [[-0.30634096, -0.4522231, -0.97391766, -0.939...  \n",
       "2     [[-0.32639113, -0.16873796, -0.15368238, 0.286...  \n",
       "3     [[-0.3914881, -0.11487491, -0.9629283, -0.3523...  \n",
       "4     [[-0.4823957, -0.40220445, -0.99880356, -0.968...  \n",
       "...                                                 ...  \n",
       "4022  [[-0.055216346, -0.15407999, -0.9122512, 0.754...  \n",
       "4023  [[-0.15892313, -0.11903335, -0.9209364, -0.578...  \n",
       "4024  [[-0.27684975, -0.20300557, -0.6392335, 0.1452...  \n",
       "4025  [[-0.26335523, -0.17618415, -0.17456537, 0.923...  \n",
       "4026  [[-0.37854484, -0.77708656, -0.9866584, -0.324...  \n",
       "\n",
       "[3986 rows x 3 columns]"
      ]
     },
     "execution_count": 15,
     "metadata": {},
     "output_type": "execute_result"
    }
   ],
   "source": [
    "# Remove authors (emails) with either no before_award or no_award\n",
    "before_after_count = group_by_embedding.groupby(by='email')['before_after_award'].count()\n",
    "filtered_email = before_after_count.index[np.where(before_after_count < 2)[0].tolist()]\n",
    "\n",
    "group_by_embedding = group_by_embedding[~group_by_embedding['email'].isin(filtered_email)]\n",
    "group_by_embedding"
   ]
  },
  {
   "cell_type": "markdown",
   "metadata": {},
   "source": [
    "## (Pairwise) Distance-based approach"
   ]
  },
  {
   "cell_type": "markdown",
   "metadata": {},
   "source": [
    "### Mean of cosine distance"
   ]
  },
  {
   "cell_type": "code",
   "execution_count": 16,
   "metadata": {},
   "outputs": [],
   "source": [
    "# Define a function to calculate the mean cosine distance within the embedding \n",
    "# matrix of the author's publications (either before or after NSF funding)\n",
    "def calculate_mean_cosine_distance(embedding_matrix):\n",
    "    cosine_distance = pdist(embedding_matrix, 'cosine')\n",
    "    cosine_distance_matrix = squareform(cosine_distance)\n",
    "    mean_cosine_distance = np.mean(cosine_distance_matrix)\n",
    "\n",
    "    return mean_cosine_distance\n",
    "\n",
    "group_by_embedding[\"mean_cosine_distance\"] = group_by_embedding[\"embedding_matrix\"].\\\n",
    "    apply(lambda row: calculate_mean_cosine_distance(row))"
   ]
  },
  {
   "cell_type": "code",
   "execution_count": 17,
   "metadata": {},
   "outputs": [
    {
     "data": {
      "text/html": [
       "<div>\n",
       "<style scoped>\n",
       "    .dataframe tbody tr th:only-of-type {\n",
       "        vertical-align: middle;\n",
       "    }\n",
       "\n",
       "    .dataframe tbody tr th {\n",
       "        vertical-align: top;\n",
       "    }\n",
       "\n",
       "    .dataframe thead th {\n",
       "        text-align: right;\n",
       "    }\n",
       "</style>\n",
       "<table border=\"1\" class=\"dataframe\">\n",
       "  <thead>\n",
       "    <tr style=\"text-align: right;\">\n",
       "      <th></th>\n",
       "      <th>after_award</th>\n",
       "      <th>before_award</th>\n",
       "    </tr>\n",
       "    <tr>\n",
       "      <th>email</th>\n",
       "      <th></th>\n",
       "      <th></th>\n",
       "    </tr>\n",
       "  </thead>\n",
       "  <tbody>\n",
       "    <tr>\n",
       "      <th>00t0holtgrav@bsu.edu</th>\n",
       "      <td>0.225915</td>\n",
       "      <td>0.264751</td>\n",
       "    </tr>\n",
       "    <tr>\n",
       "      <th>a.satpute@northeastern.edu</th>\n",
       "      <td>0.236865</td>\n",
       "      <td>0.253264</td>\n",
       "    </tr>\n",
       "    <tr>\n",
       "      <th>aabrewer@uci.edu</th>\n",
       "      <td>0.227764</td>\n",
       "      <td>0.276672</td>\n",
       "    </tr>\n",
       "    <tr>\n",
       "      <th>aag6@psu.edu</th>\n",
       "      <td>0.365709</td>\n",
       "      <td>0.298098</td>\n",
       "    </tr>\n",
       "    <tr>\n",
       "      <th>aam72@georgetown.edu</th>\n",
       "      <td>0.210023</td>\n",
       "      <td>0.251496</td>\n",
       "    </tr>\n",
       "    <tr>\n",
       "      <th>...</th>\n",
       "      <td>...</td>\n",
       "      <td>...</td>\n",
       "    </tr>\n",
       "    <tr>\n",
       "      <th>zkrizan@iastate.edu</th>\n",
       "      <td>0.370208</td>\n",
       "      <td>0.305669</td>\n",
       "    </tr>\n",
       "    <tr>\n",
       "      <th>zoe.wool@rice.edu</th>\n",
       "      <td>0.162485</td>\n",
       "      <td>0.198947</td>\n",
       "    </tr>\n",
       "    <tr>\n",
       "      <th>zook@uky.edu</th>\n",
       "      <td>0.277160</td>\n",
       "      <td>0.238168</td>\n",
       "    </tr>\n",
       "    <tr>\n",
       "      <th>zulu@msu.edu</th>\n",
       "      <td>0.287962</td>\n",
       "      <td>0.285075</td>\n",
       "    </tr>\n",
       "    <tr>\n",
       "      <th>zygmunt.frajzyngier@colorado.edu</th>\n",
       "      <td>0.263132</td>\n",
       "      <td>0.233319</td>\n",
       "    </tr>\n",
       "  </tbody>\n",
       "</table>\n",
       "<p>1993 rows × 2 columns</p>\n",
       "</div>"
      ],
      "text/plain": [
       "                                  after_award  before_award\n",
       "email                                                      \n",
       "00t0holtgrav@bsu.edu                 0.225915      0.264751\n",
       "a.satpute@northeastern.edu           0.236865      0.253264\n",
       "aabrewer@uci.edu                     0.227764      0.276672\n",
       "aag6@psu.edu                         0.365709      0.298098\n",
       "aam72@georgetown.edu                 0.210023      0.251496\n",
       "...                                       ...           ...\n",
       "zkrizan@iastate.edu                  0.370208      0.305669\n",
       "zoe.wool@rice.edu                    0.162485      0.198947\n",
       "zook@uky.edu                         0.277160      0.238168\n",
       "zulu@msu.edu                         0.287962      0.285075\n",
       "zygmunt.frajzyngier@colorado.edu     0.263132      0.233319\n",
       "\n",
       "[1993 rows x 2 columns]"
      ]
     },
     "execution_count": 17,
     "metadata": {},
     "output_type": "execute_result"
    }
   ],
   "source": [
    "# Convert the dataframe about mean_cosine_distance from long to wide format\n",
    "mean_cosine_distance_wide = group_by_embedding.pivot(index='email', \n",
    "                                                     columns='before_after_award', \n",
    "                                                     values='mean_cosine_distance')\n",
    "mean_cosine_distance_wide.columns.name = None\n",
    "mean_cosine_distance_wide"
   ]
  },
  {
   "cell_type": "code",
   "execution_count": 18,
   "metadata": {},
   "outputs": [],
   "source": [
    "# Calculate difference in mean_cosine_distance\n",
    "mean_cosine_distance_wide['mean_diff'] = mean_cosine_distance_wide['after_award'] - mean_cosine_distance_wide['before_award']"
   ]
  },
  {
   "cell_type": "markdown",
   "metadata": {},
   "source": [
    "#### Check descriptive statistics of difference in mean_cosine_distance"
   ]
  },
  {
   "cell_type": "code",
   "execution_count": 19,
   "metadata": {},
   "outputs": [
    {
     "data": {
      "text/plain": [
       "after_award     0.251614\n",
       "before_award    0.257974\n",
       "mean_diff      -0.006360\n",
       "dtype: float64"
      ]
     },
     "execution_count": 19,
     "metadata": {},
     "output_type": "execute_result"
    }
   ],
   "source": [
    "mean_cosine_distance_wide.apply(np.mean, axis=0)"
   ]
  },
  {
   "cell_type": "code",
   "execution_count": 20,
   "metadata": {},
   "outputs": [
    {
     "data": {
      "text/plain": [
       "[Text(0.5, 1.0, 'Boxplot of Difference in Mean Cosine Distance')]"
      ]
     },
     "execution_count": 20,
     "metadata": {},
     "output_type": "execute_result"
    },
    {
     "data": {
      "image/png": "[encoded data removed]",
      "text/plain": [
       "<Figure size 640x480 with 1 Axes>"
      ]
     },
     "metadata": {},
     "output_type": "display_data"
    }
   ],
   "source": [
    "sns.boxplot(y=mean_cosine_distance_wide['mean_diff']).\\\n",
    "    set(title='Boxplot of Difference in Mean Cosine Distance')"
   ]
  },
  {
   "cell_type": "markdown",
   "metadata": {},
   "source": [
    "#### Check assumptions (for paired-sample t-test)"
   ]
  },
  {
   "cell_type": "code",
   "execution_count": 21,
   "metadata": {},
   "outputs": [
    {
     "data": {
      "text/plain": [
       "ShapiroResult(statistic=0.961269736289978, pvalue=1.1662562536820683e-22)"
      ]
     },
     "execution_count": 21,
     "metadata": {},
     "output_type": "execute_result"
    }
   ],
   "source": [
    "shapiro(mean_cosine_distance_wide['mean_diff'])"
   ]
  },
  {
   "cell_type": "code",
   "execution_count": 22,
   "metadata": {},
   "outputs": [
    {
     "data": {
      "image/png": "[encoded data removed]",
      "text/plain": [
       "<Figure size 640x480 with 1 Axes>"
      ]
     },
     "metadata": {},
     "output_type": "display_data"
    }
   ],
   "source": [
    "sm.qqplot(mean_cosine_distance_wide['mean_diff'], line ='45') \n",
    "py.show()"
   ]
  },
  {
   "cell_type": "markdown",
   "metadata": {},
   "source": [
    "Both the results of Shapiro-Wilk test and QQ-plot indicates the assumption of normality (of error) is violated. Hence, we will use the non-parametric version of paired-sample t-test, i.e., **Wilcoxon signed-rank test**."
   ]
  },
  {
   "cell_type": "code",
   "execution_count": 23,
   "metadata": {},
   "outputs": [
    {
     "data": {
      "text/plain": [
       "WilcoxonResult(statistic=901785.0, pvalue=0.0010384179908780348)"
      ]
     },
     "execution_count": 23,
     "metadata": {},
     "output_type": "execute_result"
    }
   ],
   "source": [
    "wilcoxon(mean_cosine_distance_wide['mean_diff'])"
   ]
  },
  {
   "cell_type": "code",
   "execution_count": 24,
   "metadata": {},
   "outputs": [],
   "source": [
    "# Define a function using bootstrapping to calculate confidence interval of mean difference\n",
    "def bootstrap_effect_size(group1, group2, n_bootstrap=10000):\n",
    "    np.random.seed(42)\n",
    "    bootstrapped_means_diff = []\n",
    "\n",
    "    for _ in range(n_bootstrap):\n",
    "        boot_group1 = np.random.choice(group1, size=len(group1), replace=True)\n",
    "        boot_group2 = np.random.choice(group2, size=len(group2), replace=True)\n",
    "        bootstrapped_means_diff.append(boot_group2.mean() - boot_group1.mean())\n",
    "\n",
    "    # Calculate the 95% confidence interval\n",
    "    lower, upper = np.percentile(bootstrapped_means_diff, [2.5, 97.5])\n",
    "    \n",
    "    return np.mean(bootstrapped_means_diff), lower, upper"
   ]
  },
  {
   "cell_type": "code",
   "execution_count": 25,
   "metadata": {},
   "outputs": [
    {
     "name": "stdout",
     "output_type": "stream",
     "text": [
      "Mean Difference (after_award - before_award): -0.006341889082910074, 95% CI: [-0.010373143294593618, -0.00219632177906876]\n"
     ]
    }
   ],
   "source": [
    "mean_diff, ci_lower, ci_upper = bootstrap_effect_size(\\\n",
    "    mean_cosine_distance_wide['before_award'],\n",
    "    mean_cosine_distance_wide['after_award'])\n",
    "\n",
    "print(f\"Mean Difference (after_award - before_award): {mean_diff}, 95% CI: [{ci_lower}, {ci_upper}]\")"
   ]
  },
  {
   "cell_type": "markdown",
   "metadata": {},
   "source": [
    "**Discussion**:\n",
    "\n",
    "Both the results of Wilcoxon signed-rank test and bootstrapped confidence interval of mean difference indicate that there is a significant difference between the research topic diversity before and after an author receives the NSF funding. Specifically, an author's diversity of research topics decrease after receiving the NSF funding."
   ]
  },
  {
   "cell_type": "markdown",
   "metadata": {},
   "source": [
    "### Entropy of consine distance"
   ]
  },
  {
   "cell_type": "code",
   "execution_count": 26,
   "metadata": {},
   "outputs": [],
   "source": [
    "# Define a function to calculate the entropy of cosine distance within the embedding \n",
    "# matrix of the author's publications (either before or after NSF funding): A \n",
    "# higher entropy value suggests a more diverse or spread-out set of distances\n",
    "def calculate_cosine_distance_entropy(embedding_matrix):\n",
    "    cosine_distance = pdist(embedding_matrix, 'cosine')\n",
    " \n",
    "    # Normalize cosine distances to sum to 1\n",
    "    distance_probabilities = cosine_distance / np.sum(cosine_distance)\n",
    "    cosine_distance_entropy = entropy(distance_probabilities, base=2)\n",
    "\n",
    "    return cosine_distance_entropy\n",
    "\n",
    "group_by_embedding[\"cosine_distance_entropy\"] = group_by_embedding[\"embedding_matrix\"].\\\n",
    "    apply(lambda row: calculate_cosine_distance_entropy(row))"
   ]
  },
  {
   "cell_type": "code",
   "execution_count": 27,
   "metadata": {},
   "outputs": [
    {
     "data": {
      "text/html": [
       "<div>\n",
       "<style scoped>\n",
       "    .dataframe tbody tr th:only-of-type {\n",
       "        vertical-align: middle;\n",
       "    }\n",
       "\n",
       "    .dataframe tbody tr th {\n",
       "        vertical-align: top;\n",
       "    }\n",
       "\n",
       "    .dataframe thead th {\n",
       "        text-align: right;\n",
       "    }\n",
       "</style>\n",
       "<table border=\"1\" class=\"dataframe\">\n",
       "  <thead>\n",
       "    <tr style=\"text-align: right;\">\n",
       "      <th></th>\n",
       "      <th>after_award</th>\n",
       "      <th>before_award</th>\n",
       "    </tr>\n",
       "    <tr>\n",
       "      <th>email</th>\n",
       "      <th></th>\n",
       "      <th></th>\n",
       "    </tr>\n",
       "  </thead>\n",
       "  <tbody>\n",
       "    <tr>\n",
       "      <th>00t0holtgrav@bsu.edu</th>\n",
       "      <td>7.905158</td>\n",
       "      <td>7.894687</td>\n",
       "    </tr>\n",
       "    <tr>\n",
       "      <th>a.satpute@northeastern.edu</th>\n",
       "      <td>7.607206</td>\n",
       "      <td>6.310275</td>\n",
       "    </tr>\n",
       "    <tr>\n",
       "      <th>aabrewer@uci.edu</th>\n",
       "      <td>4.728154</td>\n",
       "      <td>6.931941</td>\n",
       "    </tr>\n",
       "    <tr>\n",
       "      <th>aag6@psu.edu</th>\n",
       "      <td>6.059200</td>\n",
       "      <td>6.532294</td>\n",
       "    </tr>\n",
       "    <tr>\n",
       "      <th>aam72@georgetown.edu</th>\n",
       "      <td>6.869627</td>\n",
       "      <td>7.620829</td>\n",
       "    </tr>\n",
       "    <tr>\n",
       "      <th>...</th>\n",
       "      <td>...</td>\n",
       "      <td>...</td>\n",
       "    </tr>\n",
       "    <tr>\n",
       "      <th>zkrizan@iastate.edu</th>\n",
       "      <td>5.583540</td>\n",
       "      <td>6.436101</td>\n",
       "    </tr>\n",
       "    <tr>\n",
       "      <th>zoe.wool@rice.edu</th>\n",
       "      <td>4.302202</td>\n",
       "      <td>5.043054</td>\n",
       "    </tr>\n",
       "    <tr>\n",
       "      <th>zook@uky.edu</th>\n",
       "      <td>10.195597</td>\n",
       "      <td>10.938481</td>\n",
       "    </tr>\n",
       "    <tr>\n",
       "      <th>zulu@msu.edu</th>\n",
       "      <td>6.723187</td>\n",
       "      <td>5.304507</td>\n",
       "    </tr>\n",
       "    <tr>\n",
       "      <th>zygmunt.frajzyngier@colorado.edu</th>\n",
       "      <td>5.212317</td>\n",
       "      <td>7.228143</td>\n",
       "    </tr>\n",
       "  </tbody>\n",
       "</table>\n",
       "<p>1993 rows × 2 columns</p>\n",
       "</div>"
      ],
      "text/plain": [
       "                                  after_award  before_award\n",
       "email                                                      \n",
       "00t0holtgrav@bsu.edu                 7.905158      7.894687\n",
       "a.satpute@northeastern.edu           7.607206      6.310275\n",
       "aabrewer@uci.edu                     4.728154      6.931941\n",
       "aag6@psu.edu                         6.059200      6.532294\n",
       "aam72@georgetown.edu                 6.869627      7.620829\n",
       "...                                       ...           ...\n",
       "zkrizan@iastate.edu                  5.583540      6.436101\n",
       "zoe.wool@rice.edu                    4.302202      5.043054\n",
       "zook@uky.edu                        10.195597     10.938481\n",
       "zulu@msu.edu                         6.723187      5.304507\n",
       "zygmunt.frajzyngier@colorado.edu     5.212317      7.228143\n",
       "\n",
       "[1993 rows x 2 columns]"
      ]
     },
     "execution_count": 27,
     "metadata": {},
     "output_type": "execute_result"
    }
   ],
   "source": [
    "# Convert the dataframe about mean_cosine_distance from long to wide format\n",
    "cosine_distance_entropy_wide = group_by_embedding.pivot(index='email', \n",
    "                                                        columns='before_after_award', \n",
    "                                                        values='cosine_distance_entropy')\n",
    "cosine_distance_entropy_wide.columns.name = None\n",
    "cosine_distance_entropy_wide"
   ]
  },
  {
   "cell_type": "markdown",
   "metadata": {},
   "source": [
    "#### Check descriptive statistics of difference in cosine_distance_entropy"
   ]
  },
  {
   "cell_type": "code",
   "execution_count": 28,
   "metadata": {},
   "outputs": [
    {
     "name": "stdout",
     "output_type": "stream",
     "text": [
      "1993\n",
      "1992\n"
     ]
    }
   ],
   "source": [
    "cosine_distance_entropy_wide['entropy_diff'] = cosine_distance_entropy_wide['after_award'] - cosine_distance_entropy_wide['before_award']\n",
    "print(len(cosine_distance_entropy_wide))\n",
    "# Drop missing values\n",
    "cosine_distance_entropy_wide.dropna(axis=0, inplace=True)\n",
    "print(len(cosine_distance_entropy_wide))"
   ]
  },
  {
   "cell_type": "code",
   "execution_count": 29,
   "metadata": {},
   "outputs": [
    {
     "data": {
      "text/plain": [
       "after_award     6.585283\n",
       "before_award    7.211661\n",
       "entropy_diff   -0.626379\n",
       "dtype: float64"
      ]
     },
     "execution_count": 29,
     "metadata": {},
     "output_type": "execute_result"
    }
   ],
   "source": [
    "cosine_distance_entropy_wide.apply(np.mean, axis=0)"
   ]
  },
  {
   "cell_type": "code",
   "execution_count": 30,
   "metadata": {},
   "outputs": [
    {
     "data": {
      "text/plain": [
       "[Text(0.5, 1.0, 'Boxplot of Difference in Entropy of Cosine Distance')]"
      ]
     },
     "execution_count": 30,
     "metadata": {},
     "output_type": "execute_result"
    },
    {
     "data": {
      "image/png": "[encoded data removed]",
      "text/plain": [
       "<Figure size 640x480 with 1 Axes>"
      ]
     },
     "metadata": {},
     "output_type": "display_data"
    }
   ],
   "source": [
    "sns.boxplot(y=cosine_distance_entropy_wide['entropy_diff']).\\\n",
    "    set(title='Boxplot of Difference in Entropy of Cosine Distance')"
   ]
  },
  {
   "cell_type": "markdown",
   "metadata": {},
   "source": [
    "#### Check assumptions (for paired-sample t-test)"
   ]
  },
  {
   "cell_type": "code",
   "execution_count": 31,
   "metadata": {},
   "outputs": [
    {
     "data": {
      "text/plain": [
       "ShapiroResult(statistic=0.9842143058776855, pvalue=4.9561263160960087e-14)"
      ]
     },
     "execution_count": 31,
     "metadata": {},
     "output_type": "execute_result"
    }
   ],
   "source": [
    "shapiro(cosine_distance_entropy_wide['entropy_diff'])"
   ]
  },
  {
   "cell_type": "code",
   "execution_count": 32,
   "metadata": {},
   "outputs": [
    {
     "data": {
      "image/png": "[encoded data removed]",
      "text/plain": [
       "<Figure size 640x480 with 1 Axes>"
      ]
     },
     "metadata": {},
     "output_type": "display_data"
    }
   ],
   "source": [
    "sm.qqplot(cosine_distance_entropy_wide['entropy_diff'], line ='45') \n",
    "py.show()"
   ]
  },
  {
   "cell_type": "markdown",
   "metadata": {},
   "source": [
    "Both the results of Shapiro-Wilk test and QQ-plot indicates the assumption of normality (of error) is violated. Hence, we will use the non-parametric version of paired-sample t-test, i.e., **Wilcoxon signed-rank test**."
   ]
  },
  {
   "cell_type": "code",
   "execution_count": 33,
   "metadata": {},
   "outputs": [
    {
     "data": {
      "text/plain": [
       "WilcoxonResult(statistic=529957.0, pvalue=1.1430101155707752e-66)"
      ]
     },
     "execution_count": 33,
     "metadata": {},
     "output_type": "execute_result"
    }
   ],
   "source": [
    "wilcoxon(cosine_distance_entropy_wide['entropy_diff'])"
   ]
  },
  {
   "cell_type": "code",
   "execution_count": 34,
   "metadata": {},
   "outputs": [
    {
     "name": "stdout",
     "output_type": "stream",
     "text": [
      "Mean Difference (after_award - before_award): -0.6266795638734182, 95% CI: [-0.8158749414923414, -0.4419406910758808]\n"
     ]
    }
   ],
   "source": [
    "mean_diff, ci_lower, ci_upper = bootstrap_effect_size(\\\n",
    "    cosine_distance_entropy_wide['before_award'],\n",
    "    cosine_distance_entropy_wide['after_award'])\n",
    "\n",
    "print(f\"Mean Difference (after_award - before_award): {mean_diff}, 95% CI: [{ci_lower}, {ci_upper}]\")"
   ]
  },
  {
   "cell_type": "markdown",
   "metadata": {},
   "source": [
    "**Discussion**:\n",
    "\n",
    "Both the results of Wilcoxon signed-rank test and bootstrapped confidence interval of mean difference indicate that there is a significant difference between the research topic diversity before and after an author receives the NSF funding. Specifically, an author's diversity of research topics decrease after receiving the NSF funding.\n",
    "\n",
    "Together with the the results of mean_cosine_distance, distance-based approach provides strong support for the **\"trap\" of research funding** (in terms of research diversity)."
   ]
  },
  {
   "cell_type": "markdown",
   "metadata": {},
   "source": [
    "## Cluster-based approach"
   ]
  },
  {
   "cell_type": "code",
   "execution_count": 248,
   "metadata": {},
   "outputs": [],
   "source": [
    "# Define a function to define the optimal clustering for the embedding \n",
    "# matrix of the author's publications (either before or after NSF funding)\n",
    "def find_optimal_clustering(embedding_matrix):\n",
    "    np.random.seed(42)\n",
    "\n",
    "    # Standardize the matrix for PCA\n",
    "    scaler = StandardScaler()\n",
    "    embedding_matrix_scaled = scaler.fit_transform(embedding_matrix)\n",
    "\n",
    "    # Conduct PCA for dimensionality reduction\n",
    "    pca = PCA(n_components=0.95)\n",
    "    embedding_matrix_pca = pca.fit_transform(embedding_matrix_scaled)\n",
    "\n",
    "    # Perform mean-shift clustering\n",
    "    best_silhouette = -1\n",
    "    quantile_range = np.linspace(0.1, 0.9, 9)\n",
    "    labels_best_model = []\n",
    "\n",
    "    for quantile in quantile_range:\n",
    "        bandwidth = estimate_bandwidth(embedding_matrix_pca, quantile=quantile)\n",
    "        # \n",
    "        if bandwidth == 0.0:\n",
    "            continue\n",
    "        mean_shift = MeanShift(bandwidth=bandwidth, bin_seeding=True,)\n",
    "        labels = mean_shift.fit_predict(embedding_matrix_pca)\n",
    "        \n",
    "        if len(np.unique(labels)) > 1:  # Ensure at least two clusters (excluding noise)\n",
    "            silhouette = silhouette_score(embedding_matrix_pca, labels)\n",
    "            if silhouette > best_silhouette:\n",
    "                best_silhouette = silhouette\n",
    "                labels_best_model = labels\n",
    "\n",
    "    return labels_best_model"
   ]
  },
  {
   "cell_type": "code",
   "execution_count": 301,
   "metadata": {},
   "outputs": [],
   "source": [
    "group_by_embedding[\"clustering_labels\"] = group_by_embedding[\"embedding_matrix\"].\\\n",
    "    apply(lambda row: find_optimal_clustering(row))"
   ]
  },
  {
   "cell_type": "code",
   "execution_count": 300,
   "metadata": {},
   "outputs": [
    {
     "data": {
      "text/plain": [
       "(array([], dtype=int64), array([], dtype=int64))"
      ]
     },
     "execution_count": 300,
     "metadata": {},
     "output_type": "execute_result"
    }
   ],
   "source": [
    "np.where(group_by_embedding.loc[0, \"embedding_matrix\"] == 0.0)"
   ]
  },
  {
   "cell_type": "code",
   "execution_count": 290,
   "metadata": {},
   "outputs": [
    {
     "data": {
      "text/plain": [
       "array([0, 0, 0, 0, 0, 0, 0, 0, 0, 0, 0, 0, 0, 0, 0, 0, 0, 0, 0, 0, 0, 0,\n",
       "       1, 0])"
      ]
     },
     "execution_count": 290,
     "metadata": {},
     "output_type": "execute_result"
    }
   ],
   "source": [
    "labels = find_optimal_clustering(group_by_embedding.loc[0, \"embedding_matrix\"])\n",
    "labels"
   ]
  },
  {
   "cell_type": "code",
   "execution_count": 275,
   "metadata": {},
   "outputs": [
    {
     "name": "stdout",
     "output_type": "stream",
     "text": [
      "[[-0.32955742 -0.5743396  -0.97046256 ... -0.4467987   0.9811127\n",
      "   0.5050169 ]\n",
      " [ 0.11660193 -0.23294932 -0.7758116  ... -0.3901316   0.9847074\n",
      "  -0.69921404]\n",
      " [-0.413393   -0.47022167 -0.9146638  ... -0.5384978   0.9698779\n",
      "   0.8524677 ]\n",
      " ...\n",
      " [-0.437627    0.14406663 -0.64892656 ... -0.6704814   0.88478774\n",
      "   0.22775292]\n",
      " [-0.23840106 -0.3052539  -0.15703969 ... -0.2524873  -0.5118025\n",
      "   0.8479255 ]\n",
      " [-0.45286506  0.00441344 -0.98582006 ... -0.5609053  -0.16387282\n",
      "  -0.95966077]]\n"
     ]
    }
   ],
   "source": [
    "print(group_by_embedding.loc[0, \"embedding_matrix\"])"
   ]
  },
  {
   "cell_type": "code",
   "execution_count": 297,
   "metadata": {},
   "outputs": [
    {
     "data": {
      "text/plain": [
       "34.252296"
      ]
     },
     "execution_count": 297,
     "metadata": {},
     "output_type": "execute_result"
    }
   ],
   "source": [
    "def compute_kl_divergence(embedding_matrix, labels):\n",
    "    kl_divergences = []\n",
    "\n",
    "    unique_labels = np.unique(labels)\n",
    "    for label_i in unique_labels:\n",
    "        for label_j in unique_labels:\n",
    "            if label_i == label_j:\n",
    "                continue\n",
    "\n",
    "            cluster_i_data = embedding_matrix[np.where(labels == label_i)]\n",
    "            cluster_j_data = embedding_matrix[np.where(labels == label_j)]\n",
    "\n",
    "            distribution_i = np.mean(cluster_i_data, axis=0)\n",
    "            distribution_j = np.mean(cluster_j_data, axis=0)\n",
    "            \n",
    "            # Smoothing to prevent zero probabilities\n",
    "            epsilon = 1e-9\n",
    "            distribution_i_smoothed = distribution_i + epsilon\n",
    "            distribution_j_smoothed = distribution_j + epsilon\n",
    "\n",
    "            # Compute KL divergence between smoothed distributions\n",
    "            kl_divergence = kl_div(distribution_i_smoothed, distribution_j_smoothed)\n",
    "            # Replace 'Inf' with 'NaN' before summing to easily filter them out later\n",
    "            kl_divergence = np.where(np.isinf(kl_divergence), np.nan, kl_divergence)\n",
    "            kl_divergence_sum = np.nansum(kl_divergence)\n",
    "\n",
    "            kl_divergences.append(kl_divergence_sum)\n",
    "\n",
    "    # Aggregate measure: Average KL Divergence\n",
    "    average_kl_divergence = np.mean(kl_divergences)\n",
    "    return average_kl_divergence\n",
    "\n",
    "compute_kl_divergence(group_by_embedding.loc[0, \"embedding_matrix\"], labels)"
   ]
  },
  {
   "cell_type": "code",
   "execution_count": 219,
   "metadata": {},
   "outputs": [
    {
     "data": {
      "text/plain": [
       "array([[-3.5630972e-03, -1.9706295e+00, -5.2908403e-01, ...,\n",
       "         5.7731020e-01,  3.6208847e-01,  9.6837282e-01],\n",
       "       [ 2.7201624e+00, -4.7754392e-01,  7.0250474e-02, ...,\n",
       "         1.0211101e+00,  3.7194279e-01, -8.2446539e-01],\n",
       "       [-5.1536477e-01, -1.5152650e+00, -3.5727841e-01, ...,\n",
       "        -1.4084962e-01,  3.3128986e-01,  1.4856516e+00],\n",
       "       ...,\n",
       "       [-6.6330910e-01,  1.1713519e+00,  4.6093228e-01, ...,\n",
       "        -1.1745055e+00,  9.8027751e-02,  5.5558699e-01],\n",
       "       [ 5.5293071e-01, -7.9377121e-01,  1.9754627e+00, ...,\n",
       "         2.0990992e+00, -3.7305181e+00,  1.4788892e+00],\n",
       "       [-7.5633496e-01,  5.6057250e-01, -5.7637006e-01, ...,\n",
       "        -3.1633821e-01, -2.7767200e+00, -1.2122140e+00]], dtype=float32)"
      ]
     },
     "execution_count": 219,
     "metadata": {},
     "output_type": "execute_result"
    }
   ],
   "source": [
    "scaler = StandardScaler()\n",
    "scaler.fit_transform(group_by_embedding.loc[0, \"embedding_matrix\"])"
   ]
  },
  {
   "cell_type": "markdown",
   "metadata": {},
   "source": [
    "# Examine potential interaction effects using mixed model"
   ]
  },
  {
   "cell_type": "code",
   "execution_count": null,
   "metadata": {},
   "outputs": [],
   "source": []
  }
 ],
 "metadata": {
  "kernelspec": {
   "display_name": "base",
   "language": "python",
   "name": "python3"
  },
  "language_info": {
   "codemirror_mode": {
    "name": "ipython",
    "version": 3
   },
   "file_extension": ".py",
   "mimetype": "text/x-python",
   "name": "python",
   "nbconvert_exporter": "python",
   "pygments_lexer": "ipython3",
   "version": "3.11.4"
  }
 },
 "nbformat": 4,
 "nbformat_minor": 2
}
