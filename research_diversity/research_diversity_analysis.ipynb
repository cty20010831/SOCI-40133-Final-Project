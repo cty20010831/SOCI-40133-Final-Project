{
 "cells": [
  {
   "cell_type": "markdown",
   "metadata": {},
   "source": [
    "# Import required libraries"
   ]
  },
  {
   "cell_type": "code",
   "execution_count": null,
   "metadata": {},
   "outputs": [],
   "source": [
    "import os\n",
    "import pandas as pd\n",
    "import numpy as np\n",
    "import seaborn as sns\n",
    "import matplotlib.pyplot as plt\n",
    "%matplotlib inline\n",
    "\n",
    "# Modules for SciBert\n",
    "from transformers import AutoTokenizer, AutoModel\n",
    "import torch\n",
    "\n",
    "# Modules for calculating diversity of research topics\n",
    "from scipy.spatial.distance import pdist, squareform\n",
    "from scipy.stats import entropy\n",
    "from sklearn.decomposition import PCA\n",
    "from sklearn.cluster import MeanShift, estimate_bandwidth\n",
    "from sklearn.preprocessing import StandardScaler\n",
    "from sklearn.metrics import silhouette_score\n",
    "from scipy.special import kl_div\n",
    "\n",
    "# Module for conducting repeated-measure tests\n",
    "from scipy.stats import wilcoxon\n",
    "from scipy.stats import shapiro\n",
    "import statsmodels.api as sm\n",
    "import pylab as py \n",
    "\n",
    "# Modules for linear mixed model\n",
    "import statsmodels.formula.api as smf\n",
    "from sklearn.utils import resample\n",
    "\n",
    "# Modules for author colloboration\n",
    "import ast\n",
    "import networkx as nx\n",
    "import pickle\n",
    "\n",
    "# Ignore warning messages (only) for display purpose\n",
    "import warnings\n",
    "warnings.filterwarnings('ignore')"
   ]
  },
  {
   "cell_type": "markdown",
   "metadata": {},
   "source": [
    "# Read data"
   ]
  },
  {
   "cell_type": "code",
   "execution_count": 95,
   "metadata": {},
   "outputs": [
    {
     "data": {
      "text/html": [
       "<div>\n",
       "<style scoped>\n",
       "    .dataframe tbody tr th:only-of-type {\n",
       "        vertical-align: middle;\n",
       "    }\n",
       "\n",
       "    .dataframe tbody tr th {\n",
       "        vertical-align: top;\n",
       "    }\n",
       "\n",
       "    .dataframe thead th {\n",
       "        text-align: right;\n",
       "    }\n",
       "</style>\n",
       "<table border=\"1\" class=\"dataframe\">\n",
       "  <thead>\n",
       "    <tr style=\"text-align: right;\">\n",
       "      <th></th>\n",
       "      <th>first_name</th>\n",
       "      <th>middle_name</th>\n",
       "      <th>last_name</th>\n",
       "      <th>email</th>\n",
       "      <th>institution</th>\n",
       "      <th>award_year</th>\n",
       "      <th>award_amount</th>\n",
       "      <th>paper_title</th>\n",
       "      <th>journal</th>\n",
       "      <th>publication_year</th>\n",
       "      <th>...</th>\n",
       "      <th>citation_2019</th>\n",
       "      <th>citation_2020</th>\n",
       "      <th>citation_2021</th>\n",
       "      <th>citation_2022</th>\n",
       "      <th>citation_2023</th>\n",
       "      <th>citation_2024</th>\n",
       "      <th>tokenized_title</th>\n",
       "      <th>normalized_title</th>\n",
       "      <th>tokenized_abstract</th>\n",
       "      <th>normalized_abstract</th>\n",
       "    </tr>\n",
       "  </thead>\n",
       "  <tbody>\n",
       "    <tr>\n",
       "      <th>0</th>\n",
       "      <td>Talal</td>\n",
       "      <td>NaN</td>\n",
       "      <td>Asad</td>\n",
       "      <td>talalasad@earthlink.net</td>\n",
       "      <td>cuny graduate school university center</td>\n",
       "      <td>2011</td>\n",
       "      <td>19901</td>\n",
       "      <td>Effect of oxidation and geometrical dimensions...</td>\n",
       "      <td>Desalination</td>\n",
       "      <td>2011</td>\n",
       "      <td>...</td>\n",
       "      <td>13</td>\n",
       "      <td>5</td>\n",
       "      <td>10</td>\n",
       "      <td>5</td>\n",
       "      <td>7</td>\n",
       "      <td>1</td>\n",
       "      <td>['Effect', 'of', 'oxidation', 'and', 'geometri...</td>\n",
       "      <td>['effect', 'oxidation', 'geometrical', 'dimens...</td>\n",
       "      <td>['This', 'study', 'reports', 'for', 'the', 'fi...</td>\n",
       "      <td>['study', 'report', 'time', 'use', 'oxidize', ...</td>\n",
       "    </tr>\n",
       "    <tr>\n",
       "      <th>1</th>\n",
       "      <td>Talal</td>\n",
       "      <td>NaN</td>\n",
       "      <td>Asad</td>\n",
       "      <td>talalasad@earthlink.net</td>\n",
       "      <td>cuny graduate school university center</td>\n",
       "      <td>2011</td>\n",
       "      <td>19901</td>\n",
       "      <td>Synthesis and biological evaluation of new pyr...</td>\n",
       "      <td>Molecules</td>\n",
       "      <td>2014</td>\n",
       "      <td>...</td>\n",
       "      <td>13</td>\n",
       "      <td>5</td>\n",
       "      <td>10</td>\n",
       "      <td>5</td>\n",
       "      <td>7</td>\n",
       "      <td>1</td>\n",
       "      <td>['Synthesis', 'and', 'biological', 'evaluation...</td>\n",
       "      <td>['synthesis', 'biological', 'evaluation', 'new...</td>\n",
       "      <td>['A', 'selected', 'set', 'of', 'substituted', ...</td>\n",
       "      <td>['select', 'set', 'substituted', 'pyridone', '...</td>\n",
       "    </tr>\n",
       "    <tr>\n",
       "      <th>2</th>\n",
       "      <td>Talal</td>\n",
       "      <td>NaN</td>\n",
       "      <td>Asad</td>\n",
       "      <td>talalasad@earthlink.net</td>\n",
       "      <td>cuny graduate school university center</td>\n",
       "      <td>2011</td>\n",
       "      <td>19901</td>\n",
       "      <td>Synthesis of 6-Ethyl-1, 2, 9-trioxopyrrolo [3,...</td>\n",
       "      <td>Zeitschrift für Naturforschung B</td>\n",
       "      <td>2013</td>\n",
       "      <td>...</td>\n",
       "      <td>13</td>\n",
       "      <td>5</td>\n",
       "      <td>10</td>\n",
       "      <td>5</td>\n",
       "      <td>7</td>\n",
       "      <td>1</td>\n",
       "      <td>['Synthesis', 'of', '6', 'Ethyl-1', '2', '9', ...</td>\n",
       "      <td>['synthesis', 'ethyl-1', 'trioxopyrrolo', 'f',...</td>\n",
       "      <td>['Interaction', 'of', '6', 'amino-1', 'ethyl-4...</td>\n",
       "      <td>['interaction', 'amino-1', 'ethyl-4', 'oxoquin...</td>\n",
       "    </tr>\n",
       "    <tr>\n",
       "      <th>3</th>\n",
       "      <td>Talal</td>\n",
       "      <td>NaN</td>\n",
       "      <td>Asad</td>\n",
       "      <td>talalasad@earthlink.net</td>\n",
       "      <td>cuny graduate school university center</td>\n",
       "      <td>2011</td>\n",
       "      <td>19901</td>\n",
       "      <td>Randa M. Al-As’ ada, Mustafa M. El-abadelaha, ...</td>\n",
       "      <td>Z. Naturforsch</td>\n",
       "      <td>2013</td>\n",
       "      <td>...</td>\n",
       "      <td>13</td>\n",
       "      <td>5</td>\n",
       "      <td>10</td>\n",
       "      <td>5</td>\n",
       "      <td>7</td>\n",
       "      <td>1</td>\n",
       "      <td>['Randa', 'M.', 'Al', 'As', 'ada', 'Mustafa', ...</td>\n",
       "      <td>['randa', 'm.', 'al', 'ada', 'mustafa', 'm.', ...</td>\n",
       "      <td>['Interaction', 'of', '6', 'amino-1', 'ethyl-4...</td>\n",
       "      <td>['interaction', 'amino-1', 'ethyl-4', 'oxoquin...</td>\n",
       "    </tr>\n",
       "    <tr>\n",
       "      <th>4</th>\n",
       "      <td>Leaf</td>\n",
       "      <td>NaN</td>\n",
       "      <td>Van Boven</td>\n",
       "      <td>vanboven@colorado.edu</td>\n",
       "      <td>university of colorado at boulder</td>\n",
       "      <td>2011</td>\n",
       "      <td>250000</td>\n",
       "      <td>Identifiable but not identical: Combining soci...</td>\n",
       "      <td>Journal of Consumer research</td>\n",
       "      <td>2012</td>\n",
       "      <td>...</td>\n",
       "      <td>868</td>\n",
       "      <td>1234</td>\n",
       "      <td>1132</td>\n",
       "      <td>1198</td>\n",
       "      <td>1222</td>\n",
       "      <td>179</td>\n",
       "      <td>['Identifiable', 'but', 'not', 'identical', 'C...</td>\n",
       "      <td>['identifiable', 'identical', 'combine', 'soci...</td>\n",
       "      <td>['How', 'do', 'consumers', 'reconcile', 'confl...</td>\n",
       "      <td>['consumer', 'reconcile', 'conflicting', 'moti...</td>\n",
       "    </tr>\n",
       "  </tbody>\n",
       "</table>\n",
       "<p>5 rows × 41 columns</p>\n",
       "</div>"
      ],
      "text/plain": [
       "  first_name middle_name  last_name                    email  \\\n",
       "0      Talal         NaN       Asad  talalasad@earthlink.net   \n",
       "1      Talal         NaN       Asad  talalasad@earthlink.net   \n",
       "2      Talal         NaN       Asad  talalasad@earthlink.net   \n",
       "3      Talal         NaN       Asad  talalasad@earthlink.net   \n",
       "4       Leaf         NaN  Van Boven    vanboven@colorado.edu   \n",
       "\n",
       "                              institution  award_year  award_amount  \\\n",
       "0  cuny graduate school university center        2011         19901   \n",
       "1  cuny graduate school university center        2011         19901   \n",
       "2  cuny graduate school university center        2011         19901   \n",
       "3  cuny graduate school university center        2011         19901   \n",
       "4       university of colorado at boulder        2011        250000   \n",
       "\n",
       "                                         paper_title  \\\n",
       "0  Effect of oxidation and geometrical dimensions...   \n",
       "1  Synthesis and biological evaluation of new pyr...   \n",
       "2  Synthesis of 6-Ethyl-1, 2, 9-trioxopyrrolo [3,...   \n",
       "3  Randa M. Al-As’ ada, Mustafa M. El-abadelaha, ...   \n",
       "4  Identifiable but not identical: Combining soci...   \n",
       "\n",
       "                            journal  publication_year  ... citation_2019  \\\n",
       "0                      Desalination              2011  ...            13   \n",
       "1                         Molecules              2014  ...            13   \n",
       "2  Zeitschrift für Naturforschung B              2013  ...            13   \n",
       "3                    Z. Naturforsch              2013  ...            13   \n",
       "4      Journal of Consumer research              2012  ...           868   \n",
       "\n",
       "  citation_2020  citation_2021  citation_2022  citation_2023  citation_2024  \\\n",
       "0             5             10              5              7              1   \n",
       "1             5             10              5              7              1   \n",
       "2             5             10              5              7              1   \n",
       "3             5             10              5              7              1   \n",
       "4          1234           1132           1198           1222            179   \n",
       "\n",
       "                                     tokenized_title  \\\n",
       "0  ['Effect', 'of', 'oxidation', 'and', 'geometri...   \n",
       "1  ['Synthesis', 'and', 'biological', 'evaluation...   \n",
       "2  ['Synthesis', 'of', '6', 'Ethyl-1', '2', '9', ...   \n",
       "3  ['Randa', 'M.', 'Al', 'As', 'ada', 'Mustafa', ...   \n",
       "4  ['Identifiable', 'but', 'not', 'identical', 'C...   \n",
       "\n",
       "                                    normalized_title  \\\n",
       "0  ['effect', 'oxidation', 'geometrical', 'dimens...   \n",
       "1  ['synthesis', 'biological', 'evaluation', 'new...   \n",
       "2  ['synthesis', 'ethyl-1', 'trioxopyrrolo', 'f',...   \n",
       "3  ['randa', 'm.', 'al', 'ada', 'mustafa', 'm.', ...   \n",
       "4  ['identifiable', 'identical', 'combine', 'soci...   \n",
       "\n",
       "                                  tokenized_abstract  \\\n",
       "0  ['This', 'study', 'reports', 'for', 'the', 'fi...   \n",
       "1  ['A', 'selected', 'set', 'of', 'substituted', ...   \n",
       "2  ['Interaction', 'of', '6', 'amino-1', 'ethyl-4...   \n",
       "3  ['Interaction', 'of', '6', 'amino-1', 'ethyl-4...   \n",
       "4  ['How', 'do', 'consumers', 'reconcile', 'confl...   \n",
       "\n",
       "                                 normalized_abstract  \n",
       "0  ['study', 'report', 'time', 'use', 'oxidize', ...  \n",
       "1  ['select', 'set', 'substituted', 'pyridone', '...  \n",
       "2  ['interaction', 'amino-1', 'ethyl-4', 'oxoquin...  \n",
       "3  ['interaction', 'amino-1', 'ethyl-4', 'oxoquin...  \n",
       "4  ['consumer', 'reconcile', 'conflicting', 'moti...  \n",
       "\n",
       "[5 rows x 41 columns]"
      ]
     },
     "execution_count": 95,
     "metadata": {},
     "output_type": "execute_result"
    }
   ],
   "source": [
    "# Read dataframe\n",
    "df = pd.read_csv(\"../database/preprocessed_content_analysis.csv\")\n",
    "df.drop(columns=['Unnamed: 0'], inplace=True)\n",
    "df.head()"
   ]
  },
  {
   "cell_type": "code",
   "execution_count": 96,
   "metadata": {},
   "outputs": [
    {
     "data": {
      "text/plain": [
       "Index(['first_name', 'middle_name', 'last_name', 'email', 'institution',\n",
       "       'award_year', 'award_amount', 'paper_title', 'journal',\n",
       "       'publication_year', 'coauthors', 'paper_abstract',\n",
       "       'paper_total_citations', 'citation_2001', 'citation_2002',\n",
       "       'citation_2003', 'citation_2004', 'citation_2005', 'citation_2006',\n",
       "       'citation_2007', 'citation_2008', 'citation_2009', 'citation_2010',\n",
       "       'citation_2011', 'citation_2012', 'citation_2013', 'citation_2014',\n",
       "       'citation_2015', 'citation_2016', 'citation_2017', 'citation_2018',\n",
       "       'citation_2019', 'citation_2020', 'citation_2021', 'citation_2022',\n",
       "       'citation_2023', 'citation_2024', 'tokenized_title', 'normalized_title',\n",
       "       'tokenized_abstract', 'normalized_abstract'],\n",
       "      dtype='object')"
      ]
     },
     "execution_count": 96,
     "metadata": {},
     "output_type": "execute_result"
    }
   ],
   "source": [
    "df.columns"
   ]
  },
  {
   "cell_type": "markdown",
   "metadata": {},
   "source": [
    "# Use SciBERT to construct embeddings of each paper's abstract"
   ]
  },
  {
   "cell_type": "code",
   "execution_count": 97,
   "metadata": {},
   "outputs": [],
   "source": [
    "# Load SciBERT tokenizer and model\n",
    "tokenizer = AutoTokenizer.from_pretrained('allenai/scibert_scivocab_uncased')\n",
    "model = AutoModel.from_pretrained('allenai/scibert_scivocab_uncased')"
   ]
  },
  {
   "cell_type": "code",
   "execution_count": 98,
   "metadata": {},
   "outputs": [],
   "source": [
    "embeddings_path = \"../database/abstract_embeddings.npz\"\n",
    "\n",
    "if os.path.exists(embeddings_path):\n",
    "    npz_file = np.load(embeddings_path)\n",
    "    df['abstract_embedding'] = [npz_file[key] for key in npz_file.files]\n",
    "else:\n",
    "    embeddings_dict = {}\n",
    "    for index, row in df.iterrows():\n",
    "        text = row['paper_abstract']\n",
    "        encoded_input = tokenizer(text, return_tensors='pt', max_length=512, truncation=True)\n",
    "\n",
    "        with torch.no_grad():\n",
    "            output = model(**encoded_input)\n",
    "\n",
    "        embedding = output.pooler_output.cpu().detach().numpy().flatten()\n",
    "        embeddings_dict[f'embedding_{index}'] = embedding\n",
    "    \n",
    "    # Save embeddings as .npz\n",
    "    np.savez(embeddings_path, **embeddings_dict)"
   ]
  },
  {
   "cell_type": "markdown",
   "metadata": {},
   "source": [
    "Visualize the embedding (take James Evans as a case study)"
   ]
  },
  {
   "cell_type": "markdown",
   "metadata": {},
   "source": [
    "# Use repeated-measure test to test the effect of funding on diversity of publication"
   ]
  },
  {
   "cell_type": "code",
   "execution_count": 99,
   "metadata": {},
   "outputs": [],
   "source": [
    "# Add a column indicating whether the specific publication is before or after NSF award\n",
    "# Here, we take publication year which is the same as award year as \"before_award\"\n",
    "df[\"before_after_award\"] = np.where(df[\"publication_year\"] <= df[\"award_year\"], \"before_award\", \"after_award\")"
   ]
  },
  {
   "cell_type": "code",
   "execution_count": 100,
   "metadata": {},
   "outputs": [
    {
     "data": {
      "text/html": [
       "<div>\n",
       "<style scoped>\n",
       "    .dataframe tbody tr th:only-of-type {\n",
       "        vertical-align: middle;\n",
       "    }\n",
       "\n",
       "    .dataframe tbody tr th {\n",
       "        vertical-align: top;\n",
       "    }\n",
       "\n",
       "    .dataframe thead th {\n",
       "        text-align: right;\n",
       "    }\n",
       "</style>\n",
       "<table border=\"1\" class=\"dataframe\">\n",
       "  <thead>\n",
       "    <tr style=\"text-align: right;\">\n",
       "      <th></th>\n",
       "      <th>email</th>\n",
       "      <th>before_after_award</th>\n",
       "      <th>embedding_matrix</th>\n",
       "    </tr>\n",
       "  </thead>\n",
       "  <tbody>\n",
       "    <tr>\n",
       "      <th>0</th>\n",
       "      <td>00t0holtgrav@bsu.edu</td>\n",
       "      <td>after_award</td>\n",
       "      <td>[[-0.32955742, -0.5743396, -0.97046256, 0.2215...</td>\n",
       "    </tr>\n",
       "    <tr>\n",
       "      <th>1</th>\n",
       "      <td>00t0holtgrav@bsu.edu</td>\n",
       "      <td>before_award</td>\n",
       "      <td>[[-0.30634096, -0.4522231, -0.97391766, -0.939...</td>\n",
       "    </tr>\n",
       "    <tr>\n",
       "      <th>2</th>\n",
       "      <td>a.satpute@northeastern.edu</td>\n",
       "      <td>after_award</td>\n",
       "      <td>[[-0.32639113, -0.16873796, -0.15368238, 0.286...</td>\n",
       "    </tr>\n",
       "    <tr>\n",
       "      <th>3</th>\n",
       "      <td>a.satpute@northeastern.edu</td>\n",
       "      <td>before_award</td>\n",
       "      <td>[[-0.3914881, -0.11487491, -0.9629283, -0.3523...</td>\n",
       "    </tr>\n",
       "    <tr>\n",
       "      <th>4</th>\n",
       "      <td>aabrewer@uci.edu</td>\n",
       "      <td>after_award</td>\n",
       "      <td>[[-0.4823957, -0.40220445, -0.99880356, -0.968...</td>\n",
       "    </tr>\n",
       "    <tr>\n",
       "      <th>...</th>\n",
       "      <td>...</td>\n",
       "      <td>...</td>\n",
       "      <td>...</td>\n",
       "    </tr>\n",
       "    <tr>\n",
       "      <th>4022</th>\n",
       "      <td>zook@uky.edu</td>\n",
       "      <td>before_award</td>\n",
       "      <td>[[-0.055216346, -0.15407999, -0.9122512, 0.754...</td>\n",
       "    </tr>\n",
       "    <tr>\n",
       "      <th>4023</th>\n",
       "      <td>zulu@msu.edu</td>\n",
       "      <td>after_award</td>\n",
       "      <td>[[-0.15892313, -0.11903335, -0.9209364, -0.578...</td>\n",
       "    </tr>\n",
       "    <tr>\n",
       "      <th>4024</th>\n",
       "      <td>zulu@msu.edu</td>\n",
       "      <td>before_award</td>\n",
       "      <td>[[-0.27684975, -0.20300557, -0.6392335, 0.1452...</td>\n",
       "    </tr>\n",
       "    <tr>\n",
       "      <th>4025</th>\n",
       "      <td>zygmunt.frajzyngier@colorado.edu</td>\n",
       "      <td>after_award</td>\n",
       "      <td>[[-0.26335523, -0.17618415, -0.17456537, 0.923...</td>\n",
       "    </tr>\n",
       "    <tr>\n",
       "      <th>4026</th>\n",
       "      <td>zygmunt.frajzyngier@colorado.edu</td>\n",
       "      <td>before_award</td>\n",
       "      <td>[[-0.37854484, -0.77708656, -0.9866584, -0.324...</td>\n",
       "    </tr>\n",
       "  </tbody>\n",
       "</table>\n",
       "<p>4027 rows × 3 columns</p>\n",
       "</div>"
      ],
      "text/plain": [
       "                                 email before_after_award  \\\n",
       "0                 00t0holtgrav@bsu.edu        after_award   \n",
       "1                 00t0holtgrav@bsu.edu       before_award   \n",
       "2           a.satpute@northeastern.edu        after_award   \n",
       "3           a.satpute@northeastern.edu       before_award   \n",
       "4                     aabrewer@uci.edu        after_award   \n",
       "...                                ...                ...   \n",
       "4022                      zook@uky.edu       before_award   \n",
       "4023                      zulu@msu.edu        after_award   \n",
       "4024                      zulu@msu.edu       before_award   \n",
       "4025  zygmunt.frajzyngier@colorado.edu        after_award   \n",
       "4026  zygmunt.frajzyngier@colorado.edu       before_award   \n",
       "\n",
       "                                       embedding_matrix  \n",
       "0     [[-0.32955742, -0.5743396, -0.97046256, 0.2215...  \n",
       "1     [[-0.30634096, -0.4522231, -0.97391766, -0.939...  \n",
       "2     [[-0.32639113, -0.16873796, -0.15368238, 0.286...  \n",
       "3     [[-0.3914881, -0.11487491, -0.9629283, -0.3523...  \n",
       "4     [[-0.4823957, -0.40220445, -0.99880356, -0.968...  \n",
       "...                                                 ...  \n",
       "4022  [[-0.055216346, -0.15407999, -0.9122512, 0.754...  \n",
       "4023  [[-0.15892313, -0.11903335, -0.9209364, -0.578...  \n",
       "4024  [[-0.27684975, -0.20300557, -0.6392335, 0.1452...  \n",
       "4025  [[-0.26335523, -0.17618415, -0.17456537, 0.923...  \n",
       "4026  [[-0.37854484, -0.77708656, -0.9866584, -0.324...  \n",
       "\n",
       "[4027 rows x 3 columns]"
      ]
     },
     "execution_count": 100,
     "metadata": {},
     "output_type": "execute_result"
    }
   ],
   "source": [
    "# Stacks the embedding matrices together (grouped by `author` and `before_after_award`)\n",
    "group_by_embedding = df.groupby(by=[\"email\", \"before_after_award\"])['abstract_embedding'].apply(lambda x: np.vstack(x)).reset_index(name='embedding_matrix')\n",
    "group_by_embedding"
   ]
  },
  {
   "cell_type": "code",
   "execution_count": 101,
   "metadata": {},
   "outputs": [
    {
     "data": {
      "text/html": [
       "<div>\n",
       "<style scoped>\n",
       "    .dataframe tbody tr th:only-of-type {\n",
       "        vertical-align: middle;\n",
       "    }\n",
       "\n",
       "    .dataframe tbody tr th {\n",
       "        vertical-align: top;\n",
       "    }\n",
       "\n",
       "    .dataframe thead th {\n",
       "        text-align: right;\n",
       "    }\n",
       "</style>\n",
       "<table border=\"1\" class=\"dataframe\">\n",
       "  <thead>\n",
       "    <tr style=\"text-align: right;\">\n",
       "      <th></th>\n",
       "      <th>email</th>\n",
       "      <th>before_after_award</th>\n",
       "      <th>embedding_matrix</th>\n",
       "    </tr>\n",
       "  </thead>\n",
       "  <tbody>\n",
       "    <tr>\n",
       "      <th>0</th>\n",
       "      <td>00t0holtgrav@bsu.edu</td>\n",
       "      <td>after_award</td>\n",
       "      <td>[[-0.32955742, -0.5743396, -0.97046256, 0.2215...</td>\n",
       "    </tr>\n",
       "    <tr>\n",
       "      <th>1</th>\n",
       "      <td>00t0holtgrav@bsu.edu</td>\n",
       "      <td>before_award</td>\n",
       "      <td>[[-0.30634096, -0.4522231, -0.97391766, -0.939...</td>\n",
       "    </tr>\n",
       "    <tr>\n",
       "      <th>2</th>\n",
       "      <td>a.satpute@northeastern.edu</td>\n",
       "      <td>after_award</td>\n",
       "      <td>[[-0.32639113, -0.16873796, -0.15368238, 0.286...</td>\n",
       "    </tr>\n",
       "    <tr>\n",
       "      <th>3</th>\n",
       "      <td>a.satpute@northeastern.edu</td>\n",
       "      <td>before_award</td>\n",
       "      <td>[[-0.3914881, -0.11487491, -0.9629283, -0.3523...</td>\n",
       "    </tr>\n",
       "    <tr>\n",
       "      <th>4</th>\n",
       "      <td>aabrewer@uci.edu</td>\n",
       "      <td>after_award</td>\n",
       "      <td>[[-0.4823957, -0.40220445, -0.99880356, -0.968...</td>\n",
       "    </tr>\n",
       "    <tr>\n",
       "      <th>...</th>\n",
       "      <td>...</td>\n",
       "      <td>...</td>\n",
       "      <td>...</td>\n",
       "    </tr>\n",
       "    <tr>\n",
       "      <th>4022</th>\n",
       "      <td>zook@uky.edu</td>\n",
       "      <td>before_award</td>\n",
       "      <td>[[-0.055216346, -0.15407999, -0.9122512, 0.754...</td>\n",
       "    </tr>\n",
       "    <tr>\n",
       "      <th>4023</th>\n",
       "      <td>zulu@msu.edu</td>\n",
       "      <td>after_award</td>\n",
       "      <td>[[-0.15892313, -0.11903335, -0.9209364, -0.578...</td>\n",
       "    </tr>\n",
       "    <tr>\n",
       "      <th>4024</th>\n",
       "      <td>zulu@msu.edu</td>\n",
       "      <td>before_award</td>\n",
       "      <td>[[-0.27684975, -0.20300557, -0.6392335, 0.1452...</td>\n",
       "    </tr>\n",
       "    <tr>\n",
       "      <th>4025</th>\n",
       "      <td>zygmunt.frajzyngier@colorado.edu</td>\n",
       "      <td>after_award</td>\n",
       "      <td>[[-0.26335523, -0.17618415, -0.17456537, 0.923...</td>\n",
       "    </tr>\n",
       "    <tr>\n",
       "      <th>4026</th>\n",
       "      <td>zygmunt.frajzyngier@colorado.edu</td>\n",
       "      <td>before_award</td>\n",
       "      <td>[[-0.37854484, -0.77708656, -0.9866584, -0.324...</td>\n",
       "    </tr>\n",
       "  </tbody>\n",
       "</table>\n",
       "<p>3986 rows × 3 columns</p>\n",
       "</div>"
      ],
      "text/plain": [
       "                                 email before_after_award  \\\n",
       "0                 00t0holtgrav@bsu.edu        after_award   \n",
       "1                 00t0holtgrav@bsu.edu       before_award   \n",
       "2           a.satpute@northeastern.edu        after_award   \n",
       "3           a.satpute@northeastern.edu       before_award   \n",
       "4                     aabrewer@uci.edu        after_award   \n",
       "...                                ...                ...   \n",
       "4022                      zook@uky.edu       before_award   \n",
       "4023                      zulu@msu.edu        after_award   \n",
       "4024                      zulu@msu.edu       before_award   \n",
       "4025  zygmunt.frajzyngier@colorado.edu        after_award   \n",
       "4026  zygmunt.frajzyngier@colorado.edu       before_award   \n",
       "\n",
       "                                       embedding_matrix  \n",
       "0     [[-0.32955742, -0.5743396, -0.97046256, 0.2215...  \n",
       "1     [[-0.30634096, -0.4522231, -0.97391766, -0.939...  \n",
       "2     [[-0.32639113, -0.16873796, -0.15368238, 0.286...  \n",
       "3     [[-0.3914881, -0.11487491, -0.9629283, -0.3523...  \n",
       "4     [[-0.4823957, -0.40220445, -0.99880356, -0.968...  \n",
       "...                                                 ...  \n",
       "4022  [[-0.055216346, -0.15407999, -0.9122512, 0.754...  \n",
       "4023  [[-0.15892313, -0.11903335, -0.9209364, -0.578...  \n",
       "4024  [[-0.27684975, -0.20300557, -0.6392335, 0.1452...  \n",
       "4025  [[-0.26335523, -0.17618415, -0.17456537, 0.923...  \n",
       "4026  [[-0.37854484, -0.77708656, -0.9866584, -0.324...  \n",
       "\n",
       "[3986 rows x 3 columns]"
      ]
     },
     "execution_count": 101,
     "metadata": {},
     "output_type": "execute_result"
    }
   ],
   "source": [
    "# Remove authors (emails) with either no before_award or no_award\n",
    "before_after_count = group_by_embedding.groupby(by='email')['before_after_award'].count()\n",
    "filtered_email = before_after_count.index[np.where(before_after_count < 2)[0].tolist()]\n",
    "\n",
    "group_by_embedding = group_by_embedding[~group_by_embedding['email'].isin(filtered_email)]\n",
    "group_by_embedding"
   ]
  },
  {
   "cell_type": "markdown",
   "metadata": {},
   "source": [
    "## (Pairwise) Distance-based approach"
   ]
  },
  {
   "cell_type": "markdown",
   "metadata": {},
   "source": [
    "### Mean of cosine distance"
   ]
  },
  {
   "cell_type": "code",
   "execution_count": 102,
   "metadata": {},
   "outputs": [],
   "source": [
    "# Define a function to calculate the mean cosine distance within the embedding \n",
    "# matrix of the author's publications (either before or after NSF funding)\n",
    "def calculate_mean_cosine_distance(embedding_matrix):\n",
    "    cosine_distance = pdist(embedding_matrix, 'cosine')\n",
    "    cosine_distance_matrix = squareform(cosine_distance)\n",
    "    mean_cosine_distance = np.mean(cosine_distance_matrix)\n",
    "\n",
    "    return mean_cosine_distance\n",
    "\n",
    "group_by_embedding[\"mean_cosine_distance\"] = group_by_embedding[\"embedding_matrix\"].\\\n",
    "    apply(lambda row: calculate_mean_cosine_distance(row))"
   ]
  },
  {
   "cell_type": "code",
   "execution_count": 103,
   "metadata": {},
   "outputs": [
    {
     "data": {
      "text/html": [
       "<div>\n",
       "<style scoped>\n",
       "    .dataframe tbody tr th:only-of-type {\n",
       "        vertical-align: middle;\n",
       "    }\n",
       "\n",
       "    .dataframe tbody tr th {\n",
       "        vertical-align: top;\n",
       "    }\n",
       "\n",
       "    .dataframe thead th {\n",
       "        text-align: right;\n",
       "    }\n",
       "</style>\n",
       "<table border=\"1\" class=\"dataframe\">\n",
       "  <thead>\n",
       "    <tr style=\"text-align: right;\">\n",
       "      <th></th>\n",
       "      <th>after_award</th>\n",
       "      <th>before_award</th>\n",
       "    </tr>\n",
       "    <tr>\n",
       "      <th>email</th>\n",
       "      <th></th>\n",
       "      <th></th>\n",
       "    </tr>\n",
       "  </thead>\n",
       "  <tbody>\n",
       "    <tr>\n",
       "      <th>00t0holtgrav@bsu.edu</th>\n",
       "      <td>0.225915</td>\n",
       "      <td>0.264751</td>\n",
       "    </tr>\n",
       "    <tr>\n",
       "      <th>a.satpute@northeastern.edu</th>\n",
       "      <td>0.236865</td>\n",
       "      <td>0.253264</td>\n",
       "    </tr>\n",
       "    <tr>\n",
       "      <th>aabrewer@uci.edu</th>\n",
       "      <td>0.227764</td>\n",
       "      <td>0.276672</td>\n",
       "    </tr>\n",
       "    <tr>\n",
       "      <th>aag6@psu.edu</th>\n",
       "      <td>0.365709</td>\n",
       "      <td>0.298098</td>\n",
       "    </tr>\n",
       "    <tr>\n",
       "      <th>aam72@georgetown.edu</th>\n",
       "      <td>0.210023</td>\n",
       "      <td>0.251496</td>\n",
       "    </tr>\n",
       "    <tr>\n",
       "      <th>...</th>\n",
       "      <td>...</td>\n",
       "      <td>...</td>\n",
       "    </tr>\n",
       "    <tr>\n",
       "      <th>zkrizan@iastate.edu</th>\n",
       "      <td>0.370208</td>\n",
       "      <td>0.305669</td>\n",
       "    </tr>\n",
       "    <tr>\n",
       "      <th>zoe.wool@rice.edu</th>\n",
       "      <td>0.162485</td>\n",
       "      <td>0.198947</td>\n",
       "    </tr>\n",
       "    <tr>\n",
       "      <th>zook@uky.edu</th>\n",
       "      <td>0.277160</td>\n",
       "      <td>0.238168</td>\n",
       "    </tr>\n",
       "    <tr>\n",
       "      <th>zulu@msu.edu</th>\n",
       "      <td>0.287962</td>\n",
       "      <td>0.285075</td>\n",
       "    </tr>\n",
       "    <tr>\n",
       "      <th>zygmunt.frajzyngier@colorado.edu</th>\n",
       "      <td>0.263132</td>\n",
       "      <td>0.233319</td>\n",
       "    </tr>\n",
       "  </tbody>\n",
       "</table>\n",
       "<p>1993 rows × 2 columns</p>\n",
       "</div>"
      ],
      "text/plain": [
       "                                  after_award  before_award\n",
       "email                                                      \n",
       "00t0holtgrav@bsu.edu                 0.225915      0.264751\n",
       "a.satpute@northeastern.edu           0.236865      0.253264\n",
       "aabrewer@uci.edu                     0.227764      0.276672\n",
       "aag6@psu.edu                         0.365709      0.298098\n",
       "aam72@georgetown.edu                 0.210023      0.251496\n",
       "...                                       ...           ...\n",
       "zkrizan@iastate.edu                  0.370208      0.305669\n",
       "zoe.wool@rice.edu                    0.162485      0.198947\n",
       "zook@uky.edu                         0.277160      0.238168\n",
       "zulu@msu.edu                         0.287962      0.285075\n",
       "zygmunt.frajzyngier@colorado.edu     0.263132      0.233319\n",
       "\n",
       "[1993 rows x 2 columns]"
      ]
     },
     "execution_count": 103,
     "metadata": {},
     "output_type": "execute_result"
    }
   ],
   "source": [
    "# Convert the dataframe about mean_cosine_distance from long to wide format\n",
    "mean_cosine_distance_wide = group_by_embedding.pivot(index='email', \n",
    "                                                     columns='before_after_award', \n",
    "                                                     values='mean_cosine_distance')\n",
    "mean_cosine_distance_wide.columns.name = None\n",
    "mean_cosine_distance_wide"
   ]
  },
  {
   "cell_type": "code",
   "execution_count": 104,
   "metadata": {},
   "outputs": [],
   "source": [
    "# Calculate difference in mean_cosine_distance\n",
    "mean_cosine_distance_wide['mean_diff'] = mean_cosine_distance_wide['after_award'] - mean_cosine_distance_wide['before_award']"
   ]
  },
  {
   "cell_type": "markdown",
   "metadata": {},
   "source": [
    "#### Check descriptive statistics of difference in mean_cosine_distance"
   ]
  },
  {
   "cell_type": "code",
   "execution_count": 105,
   "metadata": {},
   "outputs": [
    {
     "data": {
      "text/plain": [
       "after_award     0.251614\n",
       "before_award    0.257974\n",
       "mean_diff      -0.006360\n",
       "dtype: float64"
      ]
     },
     "execution_count": 105,
     "metadata": {},
     "output_type": "execute_result"
    }
   ],
   "source": [
    "mean_cosine_distance_wide.apply(np.mean, axis=0)"
   ]
  },
  {
   "cell_type": "code",
   "execution_count": 106,
   "metadata": {},
   "outputs": [
    {
     "data": {
      "text/plain": [
       "[Text(0.5, 1.0, 'Boxplot of Difference in Mean Cosine Distance')]"
      ]
     },
     "execution_count": 106,
     "metadata": {},
     "output_type": "execute_result"
    },
    {
     "data": {
      "image/png": "[encoded data removed]",
      "text/plain": [
       "<Figure size 640x480 with 1 Axes>"
      ]
     },
     "metadata": {},
     "output_type": "display_data"
    }
   ],
   "source": [
    "sns.boxplot(y=mean_cosine_distance_wide['mean_diff']).\\\n",
    "    set(title='Boxplot of Difference in Mean Cosine Distance')"
   ]
  },
  {
   "cell_type": "markdown",
   "metadata": {},
   "source": [
    "#### Check assumptions (for paired-sample t-test)"
   ]
  },
  {
   "cell_type": "code",
   "execution_count": 107,
   "metadata": {},
   "outputs": [
    {
     "data": {
      "text/plain": [
       "ShapiroResult(statistic=0.9612683391943463, pvalue=1.1652183184123936e-22)"
      ]
     },
     "execution_count": 107,
     "metadata": {},
     "output_type": "execute_result"
    }
   ],
   "source": [
    "shapiro(mean_cosine_distance_wide['mean_diff'])"
   ]
  },
  {
   "cell_type": "code",
   "execution_count": 108,
   "metadata": {},
   "outputs": [
    {
     "data": {
      "image/png": "[encoded data removed]",
      "text/plain": [
       "<Figure size 640x480 with 1 Axes>"
      ]
     },
     "metadata": {},
     "output_type": "display_data"
    }
   ],
   "source": [
    "sm.qqplot(mean_cosine_distance_wide['mean_diff'], line ='45') \n",
    "py.show()"
   ]
  },
  {
   "cell_type": "markdown",
   "metadata": {},
   "source": [
    "Both the results of Shapiro-Wilk test and QQ-plot indicates the assumption of normality (of error) is violated. Hence, we will use the non-parametric version of paired-sample t-test, i.e., **Wilcoxon signed-rank test**."
   ]
  },
  {
   "cell_type": "code",
   "execution_count": 109,
   "metadata": {},
   "outputs": [
    {
     "data": {
      "text/plain": [
       "WilcoxonResult(statistic=901785.0, pvalue=0.0010384179908780348)"
      ]
     },
     "execution_count": 109,
     "metadata": {},
     "output_type": "execute_result"
    }
   ],
   "source": [
    "wilcoxon(mean_cosine_distance_wide['mean_diff'])"
   ]
  },
  {
   "cell_type": "code",
   "execution_count": 110,
   "metadata": {},
   "outputs": [],
   "source": [
    "# Define a function using bootstrapping to calculate confidence interval of mean difference\n",
    "def bootstrap_effect_size(group1, group2, n_bootstrap=10000):\n",
    "    np.random.seed(42)\n",
    "    bootstrapped_means_diff = []\n",
    "\n",
    "    for _ in range(n_bootstrap):\n",
    "        boot_group1 = np.random.choice(group1, size=len(group1), replace=True)\n",
    "        boot_group2 = np.random.choice(group2, size=len(group2), replace=True)\n",
    "        bootstrapped_means_diff.append(boot_group2.mean() - boot_group1.mean())\n",
    "\n",
    "    # Calculate the 95% confidence interval\n",
    "    lower, upper = np.percentile(bootstrapped_means_diff, [2.5, 97.5])\n",
    "    \n",
    "    return np.mean(bootstrapped_means_diff), lower, upper"
   ]
  },
  {
   "cell_type": "code",
   "execution_count": 111,
   "metadata": {},
   "outputs": [
    {
     "name": "stdout",
     "output_type": "stream",
     "text": [
      "Mean Difference (after_award - before_award): -0.006341889082910074, 95% CI: [-0.010373143294593618, -0.00219632177906876]\n"
     ]
    }
   ],
   "source": [
    "mean_diff, ci_lower, ci_upper = bootstrap_effect_size(\\\n",
    "    mean_cosine_distance_wide['before_award'],\n",
    "    mean_cosine_distance_wide['after_award'])\n",
    "\n",
    "print(f\"Mean Difference (after_award - before_award): {mean_diff}, 95% CI: [{ci_lower}, {ci_upper}]\")"
   ]
  },
  {
   "cell_type": "markdown",
   "metadata": {},
   "source": [
    "**Discussion**:\n",
    "\n",
    "Both the results of Wilcoxon signed-rank test and bootstrapped confidence interval of mean difference indicate that there is a significant difference between the research topic diversity before and after an author receives the NSF funding. Specifically, an author's diversity of research topics decrease after receiving the NSF funding."
   ]
  },
  {
   "cell_type": "markdown",
   "metadata": {},
   "source": [
    "### Entropy of consine distance"
   ]
  },
  {
   "cell_type": "code",
   "execution_count": 112,
   "metadata": {},
   "outputs": [],
   "source": [
    "# Define a function to calculate the entropy of cosine distance within the embedding \n",
    "# matrix of the author's publications (either before or after NSF funding): A \n",
    "# higher entropy value suggests a more diverse or spread-out set of distances\n",
    "def calculate_cosine_distance_entropy(embedding_matrix):\n",
    "    cosine_distance = pdist(embedding_matrix, 'cosine')\n",
    " \n",
    "    # Normalize cosine distances to sum to 1\n",
    "    distance_probabilities = cosine_distance / np.sum(cosine_distance)\n",
    "    cosine_distance_entropy = entropy(distance_probabilities, base=2)\n",
    "\n",
    "    return cosine_distance_entropy\n",
    "\n",
    "group_by_embedding[\"cosine_distance_entropy\"] = group_by_embedding[\"embedding_matrix\"].\\\n",
    "    apply(lambda row: calculate_cosine_distance_entropy(row))"
   ]
  },
  {
   "cell_type": "code",
   "execution_count": 113,
   "metadata": {},
   "outputs": [
    {
     "data": {
      "text/html": [
       "<div>\n",
       "<style scoped>\n",
       "    .dataframe tbody tr th:only-of-type {\n",
       "        vertical-align: middle;\n",
       "    }\n",
       "\n",
       "    .dataframe tbody tr th {\n",
       "        vertical-align: top;\n",
       "    }\n",
       "\n",
       "    .dataframe thead th {\n",
       "        text-align: right;\n",
       "    }\n",
       "</style>\n",
       "<table border=\"1\" class=\"dataframe\">\n",
       "  <thead>\n",
       "    <tr style=\"text-align: right;\">\n",
       "      <th></th>\n",
       "      <th>after_award</th>\n",
       "      <th>before_award</th>\n",
       "    </tr>\n",
       "    <tr>\n",
       "      <th>email</th>\n",
       "      <th></th>\n",
       "      <th></th>\n",
       "    </tr>\n",
       "  </thead>\n",
       "  <tbody>\n",
       "    <tr>\n",
       "      <th>00t0holtgrav@bsu.edu</th>\n",
       "      <td>7.905158</td>\n",
       "      <td>7.894687</td>\n",
       "    </tr>\n",
       "    <tr>\n",
       "      <th>a.satpute@northeastern.edu</th>\n",
       "      <td>7.607206</td>\n",
       "      <td>6.310275</td>\n",
       "    </tr>\n",
       "    <tr>\n",
       "      <th>aabrewer@uci.edu</th>\n",
       "      <td>4.728154</td>\n",
       "      <td>6.931941</td>\n",
       "    </tr>\n",
       "    <tr>\n",
       "      <th>aag6@psu.edu</th>\n",
       "      <td>6.059200</td>\n",
       "      <td>6.532294</td>\n",
       "    </tr>\n",
       "    <tr>\n",
       "      <th>aam72@georgetown.edu</th>\n",
       "      <td>6.869627</td>\n",
       "      <td>7.620829</td>\n",
       "    </tr>\n",
       "    <tr>\n",
       "      <th>...</th>\n",
       "      <td>...</td>\n",
       "      <td>...</td>\n",
       "    </tr>\n",
       "    <tr>\n",
       "      <th>zkrizan@iastate.edu</th>\n",
       "      <td>5.583540</td>\n",
       "      <td>6.436101</td>\n",
       "    </tr>\n",
       "    <tr>\n",
       "      <th>zoe.wool@rice.edu</th>\n",
       "      <td>4.302202</td>\n",
       "      <td>5.043054</td>\n",
       "    </tr>\n",
       "    <tr>\n",
       "      <th>zook@uky.edu</th>\n",
       "      <td>10.195597</td>\n",
       "      <td>10.938481</td>\n",
       "    </tr>\n",
       "    <tr>\n",
       "      <th>zulu@msu.edu</th>\n",
       "      <td>6.723187</td>\n",
       "      <td>5.304507</td>\n",
       "    </tr>\n",
       "    <tr>\n",
       "      <th>zygmunt.frajzyngier@colorado.edu</th>\n",
       "      <td>5.212317</td>\n",
       "      <td>7.228143</td>\n",
       "    </tr>\n",
       "  </tbody>\n",
       "</table>\n",
       "<p>1993 rows × 2 columns</p>\n",
       "</div>"
      ],
      "text/plain": [
       "                                  after_award  before_award\n",
       "email                                                      \n",
       "00t0holtgrav@bsu.edu                 7.905158      7.894687\n",
       "a.satpute@northeastern.edu           7.607206      6.310275\n",
       "aabrewer@uci.edu                     4.728154      6.931941\n",
       "aag6@psu.edu                         6.059200      6.532294\n",
       "aam72@georgetown.edu                 6.869627      7.620829\n",
       "...                                       ...           ...\n",
       "zkrizan@iastate.edu                  5.583540      6.436101\n",
       "zoe.wool@rice.edu                    4.302202      5.043054\n",
       "zook@uky.edu                        10.195597     10.938481\n",
       "zulu@msu.edu                         6.723187      5.304507\n",
       "zygmunt.frajzyngier@colorado.edu     5.212317      7.228143\n",
       "\n",
       "[1993 rows x 2 columns]"
      ]
     },
     "execution_count": 113,
     "metadata": {},
     "output_type": "execute_result"
    }
   ],
   "source": [
    "# Convert the dataframe about mean_cosine_distance from long to wide format\n",
    "cosine_distance_entropy_wide = group_by_embedding.pivot(index='email', \n",
    "                                                        columns='before_after_award', \n",
    "                                                        values='cosine_distance_entropy')\n",
    "cosine_distance_entropy_wide.columns.name = None\n",
    "cosine_distance_entropy_wide"
   ]
  },
  {
   "cell_type": "markdown",
   "metadata": {},
   "source": [
    "#### Check descriptive statistics of difference in cosine_distance_entropy"
   ]
  },
  {
   "cell_type": "code",
   "execution_count": 114,
   "metadata": {},
   "outputs": [
    {
     "name": "stdout",
     "output_type": "stream",
     "text": [
      "1993\n",
      "1992\n"
     ]
    }
   ],
   "source": [
    "cosine_distance_entropy_wide['entropy_diff'] = cosine_distance_entropy_wide['after_award'] - cosine_distance_entropy_wide['before_award']\n",
    "print(len(cosine_distance_entropy_wide))\n",
    "# Drop missing values\n",
    "cosine_distance_entropy_wide.dropna(axis=0, inplace=True)\n",
    "print(len(cosine_distance_entropy_wide))"
   ]
  },
  {
   "cell_type": "code",
   "execution_count": 115,
   "metadata": {},
   "outputs": [
    {
     "data": {
      "text/plain": [
       "after_award     6.585283\n",
       "before_award    7.211661\n",
       "entropy_diff   -0.626379\n",
       "dtype: float64"
      ]
     },
     "execution_count": 115,
     "metadata": {},
     "output_type": "execute_result"
    }
   ],
   "source": [
    "cosine_distance_entropy_wide.apply(np.mean, axis=0)"
   ]
  },
  {
   "cell_type": "code",
   "execution_count": 116,
   "metadata": {},
   "outputs": [
    {
     "data": {
      "text/plain": [
       "[Text(0.5, 1.0, 'Boxplot of Difference in Entropy of Cosine Distance')]"
      ]
     },
     "execution_count": 116,
     "metadata": {},
     "output_type": "execute_result"
    },
    {
     "data": {
      "image/png": "[encoded data removed]",
      "text/plain": [
       "<Figure size 640x480 with 1 Axes>"
      ]
     },
     "metadata": {},
     "output_type": "display_data"
    }
   ],
   "source": [
    "sns.boxplot(y=cosine_distance_entropy_wide['entropy_diff']).\\\n",
    "    set(title='Boxplot of Difference in Entropy of Cosine Distance')"
   ]
  },
  {
   "cell_type": "markdown",
   "metadata": {},
   "source": [
    "#### Check assumptions (for paired-sample t-test)"
   ]
  },
  {
   "cell_type": "code",
   "execution_count": 117,
   "metadata": {},
   "outputs": [
    {
     "data": {
      "text/plain": [
       "ShapiroResult(statistic=0.9842136061301034, pvalue=4.95174012779043e-14)"
      ]
     },
     "execution_count": 117,
     "metadata": {},
     "output_type": "execute_result"
    }
   ],
   "source": [
    "shapiro(cosine_distance_entropy_wide['entropy_diff'])"
   ]
  },
  {
   "cell_type": "code",
   "execution_count": 118,
   "metadata": {},
   "outputs": [
    {
     "data": {
      "image/png": "[encoded data removed]",
      "text/plain": [
       "<Figure size 640x480 with 1 Axes>"
      ]
     },
     "metadata": {},
     "output_type": "display_data"
    }
   ],
   "source": [
    "sm.qqplot(cosine_distance_entropy_wide['entropy_diff'], line ='45') \n",
    "py.show()"
   ]
  },
  {
   "cell_type": "markdown",
   "metadata": {},
   "source": [
    "Both the results of Shapiro-Wilk test and QQ-plot indicates the assumption of normality (of error) is violated. Hence, we will use the non-parametric version of paired-sample t-test, i.e., **Wilcoxon signed-rank test**."
   ]
  },
  {
   "cell_type": "code",
   "execution_count": 119,
   "metadata": {},
   "outputs": [
    {
     "data": {
      "text/plain": [
       "WilcoxonResult(statistic=529957.0, pvalue=1.1430101155707752e-66)"
      ]
     },
     "execution_count": 119,
     "metadata": {},
     "output_type": "execute_result"
    }
   ],
   "source": [
    "wilcoxon(cosine_distance_entropy_wide['entropy_diff'])"
   ]
  },
  {
   "cell_type": "code",
   "execution_count": 27,
   "metadata": {},
   "outputs": [
    {
     "name": "stdout",
     "output_type": "stream",
     "text": [
      "Mean Difference (after_award - before_award): -0.6266795638734182, 95% CI: [-0.8158749414923414, -0.4419406910758808]\n"
     ]
    }
   ],
   "source": [
    "mean_diff, ci_lower, ci_upper = bootstrap_effect_size(\\\n",
    "    cosine_distance_entropy_wide['before_award'],\n",
    "    cosine_distance_entropy_wide['after_award'])\n",
    "\n",
    "print(f\"Mean Difference (after_award - before_award): {mean_diff}, 95% CI: [{ci_lower}, {ci_upper}]\")"
   ]
  },
  {
   "cell_type": "markdown",
   "metadata": {},
   "source": [
    "**Discussion**:\n",
    "\n",
    "Both the results of Wilcoxon signed-rank test and bootstrapped confidence interval of mean difference indicate that there is a significant difference between the research topic diversity before and after an author receives the NSF funding. Specifically, an author's diversity of research topics decrease after receiving the NSF funding.\n",
    "\n",
    "Together with the the results of mean_cosine_distance, distance-based approach provides strong support for the **\"trap\" of research funding** (in terms of research diversity)."
   ]
  },
  {
   "cell_type": "markdown",
   "metadata": {},
   "source": [
    "# Perform Hierarchical Clustering of Vectors of Cosine Distance"
   ]
  },
  {
   "cell_type": "markdown",
   "metadata": {},
   "source": [
    "## Convert to (pairwise) distance matrix"
   ]
  },
  {
   "cell_type": "code",
   "execution_count": 93,
   "metadata": {},
   "outputs": [],
   "source": [
    "# Define a function to calculate the (pairwise) cosine distance matrix within the embedding \n",
    "# matrix of the author's publications (either before or after NSF funding)\n",
    "def calculate_cosine_distance_matrix(embedding_matrix):\n",
    "    cosine_distance = pdist(embedding_matrix, 'cosine')\n",
    "    cosine_distance_matrix = squareform(cosine_distance)\n",
    "    return cosine_distance_matrix"
   ]
  },
  {
   "cell_type": "code",
   "execution_count": 32,
   "metadata": {},
   "outputs": [],
   "source": [
    "group_by_embedding[\"cosine_distance_matrix\"] = group_by_embedding[\"embedding_matrix\"].\\\n",
    "    apply(lambda row: calculate_cosine_distance_matrix(row))"
   ]
  },
  {
   "cell_type": "markdown",
   "metadata": {},
   "source": [
    "## Perform hierarichal clustering"
   ]
  },
  {
   "cell_type": "code",
   "execution_count": 44,
   "metadata": {},
   "outputs": [],
   "source": [
    "# Remove rows with only one paper abstract\n",
    "group_by_embedding = group_by_embedding[group_by_embedding[\"cosine_distance_matrix\"].apply(lambda row: row.shape) != (1,1)]"
   ]
  },
  {
   "cell_type": "code",
   "execution_count": 45,
   "metadata": {},
   "outputs": [
    {
     "data": {
      "text/html": [
       "<div>\n",
       "<style scoped>\n",
       "    .dataframe tbody tr th:only-of-type {\n",
       "        vertical-align: middle;\n",
       "    }\n",
       "\n",
       "    .dataframe tbody tr th {\n",
       "        vertical-align: top;\n",
       "    }\n",
       "\n",
       "    .dataframe thead th {\n",
       "        text-align: right;\n",
       "    }\n",
       "</style>\n",
       "<table border=\"1\" class=\"dataframe\">\n",
       "  <thead>\n",
       "    <tr style=\"text-align: right;\">\n",
       "      <th></th>\n",
       "      <th>email</th>\n",
       "      <th>before_after_award</th>\n",
       "      <th>embedding_matrix</th>\n",
       "      <th>mean_cosine_distance</th>\n",
       "      <th>cosine_distance_entropy</th>\n",
       "      <th>cosine_distance_matrix</th>\n",
       "    </tr>\n",
       "  </thead>\n",
       "  <tbody>\n",
       "    <tr>\n",
       "      <th>0</th>\n",
       "      <td>00t0holtgrav@bsu.edu</td>\n",
       "      <td>after_award</td>\n",
       "      <td>[[-0.32955742, -0.5743396, -0.97046256, 0.2215...</td>\n",
       "      <td>0.225915</td>\n",
       "      <td>7.905158</td>\n",
       "      <td>[[0.0, 0.24487056097264404, 0.0655054972615338...</td>\n",
       "    </tr>\n",
       "    <tr>\n",
       "      <th>1</th>\n",
       "      <td>00t0holtgrav@bsu.edu</td>\n",
       "      <td>before_award</td>\n",
       "      <td>[[-0.30634096, -0.4522231, -0.97391766, -0.939...</td>\n",
       "      <td>0.264751</td>\n",
       "      <td>7.894687</td>\n",
       "      <td>[[0.0, 0.16214069541189446, 0.1240591396139629...</td>\n",
       "    </tr>\n",
       "    <tr>\n",
       "      <th>2</th>\n",
       "      <td>a.satpute@northeastern.edu</td>\n",
       "      <td>after_award</td>\n",
       "      <td>[[-0.32639113, -0.16873796, -0.15368238, 0.286...</td>\n",
       "      <td>0.236865</td>\n",
       "      <td>7.607206</td>\n",
       "      <td>[[0.0, 0.2243770669730849, 0.15926944551408184...</td>\n",
       "    </tr>\n",
       "    <tr>\n",
       "      <th>3</th>\n",
       "      <td>a.satpute@northeastern.edu</td>\n",
       "      <td>before_award</td>\n",
       "      <td>[[-0.3914881, -0.11487491, -0.9629283, -0.3523...</td>\n",
       "      <td>0.253264</td>\n",
       "      <td>6.310275</td>\n",
       "      <td>[[0.0, 0.13635626581841054, 0.2639823245279238...</td>\n",
       "    </tr>\n",
       "    <tr>\n",
       "      <th>4</th>\n",
       "      <td>aabrewer@uci.edu</td>\n",
       "      <td>after_award</td>\n",
       "      <td>[[-0.4823957, -0.40220445, -0.99880356, -0.968...</td>\n",
       "      <td>0.227764</td>\n",
       "      <td>4.728154</td>\n",
       "      <td>[[0.0, 0.33605013846371534, 0.2835891033739369...</td>\n",
       "    </tr>\n",
       "    <tr>\n",
       "      <th>...</th>\n",
       "      <td>...</td>\n",
       "      <td>...</td>\n",
       "      <td>...</td>\n",
       "      <td>...</td>\n",
       "      <td>...</td>\n",
       "      <td>...</td>\n",
       "    </tr>\n",
       "    <tr>\n",
       "      <th>4022</th>\n",
       "      <td>zook@uky.edu</td>\n",
       "      <td>before_award</td>\n",
       "      <td>[[-0.055216346, -0.15407999, -0.9122512, 0.754...</td>\n",
       "      <td>0.238168</td>\n",
       "      <td>10.938481</td>\n",
       "      <td>[[0.0, 0.13559384301024846, 0.1712137140639575...</td>\n",
       "    </tr>\n",
       "    <tr>\n",
       "      <th>4023</th>\n",
       "      <td>zulu@msu.edu</td>\n",
       "      <td>after_award</td>\n",
       "      <td>[[-0.15892313, -0.11903335, -0.9209364, -0.578...</td>\n",
       "      <td>0.287962</td>\n",
       "      <td>6.723187</td>\n",
       "      <td>[[0.0, 0.08053250336950457, 0.1777543845776095...</td>\n",
       "    </tr>\n",
       "    <tr>\n",
       "      <th>4024</th>\n",
       "      <td>zulu@msu.edu</td>\n",
       "      <td>before_award</td>\n",
       "      <td>[[-0.27684975, -0.20300557, -0.6392335, 0.1452...</td>\n",
       "      <td>0.285075</td>\n",
       "      <td>5.304507</td>\n",
       "      <td>[[0.0, 0.0, 0.41665456815486757, 0.15144244205...</td>\n",
       "    </tr>\n",
       "    <tr>\n",
       "      <th>4025</th>\n",
       "      <td>zygmunt.frajzyngier@colorado.edu</td>\n",
       "      <td>after_award</td>\n",
       "      <td>[[-0.26335523, -0.17618415, -0.17456537, 0.923...</td>\n",
       "      <td>0.263132</td>\n",
       "      <td>5.212317</td>\n",
       "      <td>[[0.0, 0.678038978890815, 0.743185531948591, 0...</td>\n",
       "    </tr>\n",
       "    <tr>\n",
       "      <th>4026</th>\n",
       "      <td>zygmunt.frajzyngier@colorado.edu</td>\n",
       "      <td>before_award</td>\n",
       "      <td>[[-0.37854484, -0.77708656, -0.9866584, -0.324...</td>\n",
       "      <td>0.233319</td>\n",
       "      <td>7.228143</td>\n",
       "      <td>[[0.0, 0.08089607646017216, 0.0960084569351500...</td>\n",
       "    </tr>\n",
       "  </tbody>\n",
       "</table>\n",
       "<p>3864 rows × 6 columns</p>\n",
       "</div>"
      ],
      "text/plain": [
       "                                 email before_after_award  \\\n",
       "0                 00t0holtgrav@bsu.edu        after_award   \n",
       "1                 00t0holtgrav@bsu.edu       before_award   \n",
       "2           a.satpute@northeastern.edu        after_award   \n",
       "3           a.satpute@northeastern.edu       before_award   \n",
       "4                     aabrewer@uci.edu        after_award   \n",
       "...                                ...                ...   \n",
       "4022                      zook@uky.edu       before_award   \n",
       "4023                      zulu@msu.edu        after_award   \n",
       "4024                      zulu@msu.edu       before_award   \n",
       "4025  zygmunt.frajzyngier@colorado.edu        after_award   \n",
       "4026  zygmunt.frajzyngier@colorado.edu       before_award   \n",
       "\n",
       "                                       embedding_matrix  mean_cosine_distance  \\\n",
       "0     [[-0.32955742, -0.5743396, -0.97046256, 0.2215...              0.225915   \n",
       "1     [[-0.30634096, -0.4522231, -0.97391766, -0.939...              0.264751   \n",
       "2     [[-0.32639113, -0.16873796, -0.15368238, 0.286...              0.236865   \n",
       "3     [[-0.3914881, -0.11487491, -0.9629283, -0.3523...              0.253264   \n",
       "4     [[-0.4823957, -0.40220445, -0.99880356, -0.968...              0.227764   \n",
       "...                                                 ...                   ...   \n",
       "4022  [[-0.055216346, -0.15407999, -0.9122512, 0.754...              0.238168   \n",
       "4023  [[-0.15892313, -0.11903335, -0.9209364, -0.578...              0.287962   \n",
       "4024  [[-0.27684975, -0.20300557, -0.6392335, 0.1452...              0.285075   \n",
       "4025  [[-0.26335523, -0.17618415, -0.17456537, 0.923...              0.263132   \n",
       "4026  [[-0.37854484, -0.77708656, -0.9866584, -0.324...              0.233319   \n",
       "\n",
       "      cosine_distance_entropy  \\\n",
       "0                    7.905158   \n",
       "1                    7.894687   \n",
       "2                    7.607206   \n",
       "3                    6.310275   \n",
       "4                    4.728154   \n",
       "...                       ...   \n",
       "4022                10.938481   \n",
       "4023                 6.723187   \n",
       "4024                 5.304507   \n",
       "4025                 5.212317   \n",
       "4026                 7.228143   \n",
       "\n",
       "                                 cosine_distance_matrix  \n",
       "0     [[0.0, 0.24487056097264404, 0.0655054972615338...  \n",
       "1     [[0.0, 0.16214069541189446, 0.1240591396139629...  \n",
       "2     [[0.0, 0.2243770669730849, 0.15926944551408184...  \n",
       "3     [[0.0, 0.13635626581841054, 0.2639823245279238...  \n",
       "4     [[0.0, 0.33605013846371534, 0.2835891033739369...  \n",
       "...                                                 ...  \n",
       "4022  [[0.0, 0.13559384301024846, 0.1712137140639575...  \n",
       "4023  [[0.0, 0.08053250336950457, 0.1777543845776095...  \n",
       "4024  [[0.0, 0.0, 0.41665456815486757, 0.15144244205...  \n",
       "4025  [[0.0, 0.678038978890815, 0.743185531948591, 0...  \n",
       "4026  [[0.0, 0.08089607646017216, 0.0960084569351500...  \n",
       "\n",
       "[3864 rows x 6 columns]"
      ]
     },
     "execution_count": 45,
     "metadata": {},
     "output_type": "execute_result"
    }
   ],
   "source": [
    "# Remove authors (emails) with either no before_award or no_award\n",
    "before_after_count = group_by_embedding.groupby(by='email')['before_after_award'].count()\n",
    "filtered_email = before_after_count.index[np.where(before_after_count < 2)[0].tolist()]\n",
    "\n",
    "group_by_embedding = group_by_embedding[~group_by_embedding['email'].isin(filtered_email)]\n",
    "group_by_embedding"
   ]
  },
  {
   "cell_type": "code",
   "execution_count": 46,
   "metadata": {},
   "outputs": [],
   "source": [
    "group_by_embedding[\"hierarchical_clustering\"] = group_by_embedding[\"cosine_distance_matrix\"].\\\n",
    "    apply(lambda row: linkage(row, method='ward'))"
   ]
  },
  {
   "cell_type": "code",
   "execution_count": 54,
   "metadata": {},
   "outputs": [
    {
     "data": {
      "text/plain": [
       "0       (23, 4)\n",
       "1       (23, 4)\n",
       "2       (20, 4)\n",
       "3       (13, 4)\n",
       "4        (7, 4)\n",
       "         ...   \n",
       "4022    (66, 4)\n",
       "4023    (15, 4)\n",
       "4024     (9, 4)\n",
       "4025     (9, 4)\n",
       "4026    (18, 4)\n",
       "Name: hierarchical_clustering, Length: 3864, dtype: object"
      ]
     },
     "execution_count": 54,
     "metadata": {},
     "output_type": "execute_result"
    }
   ],
   "source": [
    "group_by_embedding[\"hierarchical_clustering\"].apply(lambda row: row.shape)"
   ]
  },
  {
   "cell_type": "code",
   "execution_count": 55,
   "metadata": {},
   "outputs": [],
   "source": [
    "# Find the optimal number of clusters based on Silhouette Score \n",
    "# and assign labels to the optimal number of clusters\n",
    "def find_optimal_n_cluster(cosine_distance_matrix, hierarchical_clustering_matrix):\n",
    "    silhouette_scores = []\n",
    "    range_n_clusters = range(2, min(10, hierarchical_clustering_matrix.shape[0]))\n",
    "\n",
    "    for n_clusters in range_n_clusters:\n",
    "        cluster_labels = fcluster(hierarchical_clustering_matrix, n_clusters, criterion='maxclust')\n",
    "        silhouette_avg = silhouette_score(cosine_distance_matrix, cluster_labels, metric=\"precomputed\")\n",
    "        silhouette_scores.append(silhouette_avg)\n",
    "\n",
    "    # Determine the optimal number of clusters based on the highest silhouette score\n",
    "    optimal_n_clusters = range_n_clusters[np.argmax(silhouette_scores)]\n",
    "\n",
    "    # Assign cluster labels to the optimal_n_clusters\n",
    "    final_cluster_labels = fcluster(hierarchical_clustering_matrix, optimal_n_clusters, criterion='maxclust')\n",
    "    \n",
    "    return final_cluster_labels"
   ]
  },
  {
   "cell_type": "code",
   "execution_count": 58,
   "metadata": {},
   "outputs": [
    {
     "ename": "ValueError",
     "evalue": "attempt to get argmax of an empty sequence",
     "output_type": "error",
     "traceback": [
      "\u001b[0;31m---------------------------------------------------------------------------\u001b[0m",
      "\u001b[0;31mValueError\u001b[0m                                Traceback (most recent call last)",
      "Cell \u001b[0;32mIn[58], line 1\u001b[0m\n\u001b[0;32m----> 1\u001b[0m group_by_embedding[\u001b[38;5;124m\"\u001b[39m\u001b[38;5;124mhierarchical_clustering_labels\u001b[39m\u001b[38;5;124m\"\u001b[39m] \u001b[38;5;241m=\u001b[39m \u001b[43mgroup_by_embedding\u001b[49m\u001b[38;5;241;43m.\u001b[39;49m\u001b[43mapply\u001b[49m\u001b[43m(\u001b[49m\u001b[38;5;28;43;01mlambda\u001b[39;49;00m\u001b[43m \u001b[49m\u001b[43mrow\u001b[49m\u001b[43m:\u001b[49m\u001b[43m \u001b[49m\u001b[43mfind_optimal_n_cluster\u001b[49m\u001b[43m(\u001b[49m\u001b[43mrow\u001b[49m\u001b[43m[\u001b[49m\u001b[38;5;124;43m'\u001b[39;49m\u001b[38;5;124;43mcosine_distance_matrix\u001b[39;49m\u001b[38;5;124;43m'\u001b[39;49m\u001b[43m]\u001b[49m\u001b[43m,\u001b[49m\u001b[43m \u001b[49m\u001b[43mrow\u001b[49m\u001b[43m[\u001b[49m\u001b[38;5;124;43m'\u001b[39;49m\u001b[38;5;124;43mhierarchical_clustering\u001b[39;49m\u001b[38;5;124;43m'\u001b[39;49m\u001b[43m]\u001b[49m\u001b[43m)\u001b[49m\u001b[43m,\u001b[49m\u001b[43m \u001b[49m\u001b[43maxis\u001b[49m\u001b[38;5;241;43m=\u001b[39;49m\u001b[38;5;241;43m1\u001b[39;49m\u001b[43m)\u001b[49m\n",
      "File \u001b[0;32m/opt/homebrew/lib/python3.11/site-packages/pandas/core/frame.py:10347\u001b[0m, in \u001b[0;36mDataFrame.apply\u001b[0;34m(self, func, axis, raw, result_type, args, by_row, engine, engine_kwargs, **kwargs)\u001b[0m\n\u001b[1;32m  10333\u001b[0m \u001b[38;5;28;01mfrom\u001b[39;00m \u001b[38;5;21;01mpandas\u001b[39;00m\u001b[38;5;21;01m.\u001b[39;00m\u001b[38;5;21;01mcore\u001b[39;00m\u001b[38;5;21;01m.\u001b[39;00m\u001b[38;5;21;01mapply\u001b[39;00m \u001b[38;5;28;01mimport\u001b[39;00m frame_apply\n\u001b[1;32m  10335\u001b[0m op \u001b[38;5;241m=\u001b[39m frame_apply(\n\u001b[1;32m  10336\u001b[0m     \u001b[38;5;28mself\u001b[39m,\n\u001b[1;32m  10337\u001b[0m     func\u001b[38;5;241m=\u001b[39mfunc,\n\u001b[0;32m   (...)\u001b[0m\n\u001b[1;32m  10345\u001b[0m     kwargs\u001b[38;5;241m=\u001b[39mkwargs,\n\u001b[1;32m  10346\u001b[0m )\n\u001b[0;32m> 10347\u001b[0m \u001b[38;5;28;01mreturn\u001b[39;00m \u001b[43mop\u001b[49m\u001b[38;5;241;43m.\u001b[39;49m\u001b[43mapply\u001b[49m\u001b[43m(\u001b[49m\u001b[43m)\u001b[49m\u001b[38;5;241m.\u001b[39m__finalize__(\u001b[38;5;28mself\u001b[39m, method\u001b[38;5;241m=\u001b[39m\u001b[38;5;124m\"\u001b[39m\u001b[38;5;124mapply\u001b[39m\u001b[38;5;124m\"\u001b[39m)\n",
      "File \u001b[0;32m/opt/homebrew/lib/python3.11/site-packages/pandas/core/apply.py:916\u001b[0m, in \u001b[0;36mFrameApply.apply\u001b[0;34m(self)\u001b[0m\n\u001b[1;32m    913\u001b[0m \u001b[38;5;28;01melif\u001b[39;00m \u001b[38;5;28mself\u001b[39m\u001b[38;5;241m.\u001b[39mraw:\n\u001b[1;32m    914\u001b[0m     \u001b[38;5;28;01mreturn\u001b[39;00m \u001b[38;5;28mself\u001b[39m\u001b[38;5;241m.\u001b[39mapply_raw(engine\u001b[38;5;241m=\u001b[39m\u001b[38;5;28mself\u001b[39m\u001b[38;5;241m.\u001b[39mengine, engine_kwargs\u001b[38;5;241m=\u001b[39m\u001b[38;5;28mself\u001b[39m\u001b[38;5;241m.\u001b[39mengine_kwargs)\n\u001b[0;32m--> 916\u001b[0m \u001b[38;5;28;01mreturn\u001b[39;00m \u001b[38;5;28;43mself\u001b[39;49m\u001b[38;5;241;43m.\u001b[39;49m\u001b[43mapply_standard\u001b[49m\u001b[43m(\u001b[49m\u001b[43m)\u001b[49m\n",
      "File \u001b[0;32m/opt/homebrew/lib/python3.11/site-packages/pandas/core/apply.py:1063\u001b[0m, in \u001b[0;36mFrameApply.apply_standard\u001b[0;34m(self)\u001b[0m\n\u001b[1;32m   1061\u001b[0m \u001b[38;5;28;01mdef\u001b[39;00m \u001b[38;5;21mapply_standard\u001b[39m(\u001b[38;5;28mself\u001b[39m):\n\u001b[1;32m   1062\u001b[0m     \u001b[38;5;28;01mif\u001b[39;00m \u001b[38;5;28mself\u001b[39m\u001b[38;5;241m.\u001b[39mengine \u001b[38;5;241m==\u001b[39m \u001b[38;5;124m\"\u001b[39m\u001b[38;5;124mpython\u001b[39m\u001b[38;5;124m\"\u001b[39m:\n\u001b[0;32m-> 1063\u001b[0m         results, res_index \u001b[38;5;241m=\u001b[39m \u001b[38;5;28;43mself\u001b[39;49m\u001b[38;5;241;43m.\u001b[39;49m\u001b[43mapply_series_generator\u001b[49m\u001b[43m(\u001b[49m\u001b[43m)\u001b[49m\n\u001b[1;32m   1064\u001b[0m     \u001b[38;5;28;01melse\u001b[39;00m:\n\u001b[1;32m   1065\u001b[0m         results, res_index \u001b[38;5;241m=\u001b[39m \u001b[38;5;28mself\u001b[39m\u001b[38;5;241m.\u001b[39mapply_series_numba()\n",
      "File \u001b[0;32m/opt/homebrew/lib/python3.11/site-packages/pandas/core/apply.py:1081\u001b[0m, in \u001b[0;36mFrameApply.apply_series_generator\u001b[0;34m(self)\u001b[0m\n\u001b[1;32m   1078\u001b[0m \u001b[38;5;28;01mwith\u001b[39;00m option_context(\u001b[38;5;124m\"\u001b[39m\u001b[38;5;124mmode.chained_assignment\u001b[39m\u001b[38;5;124m\"\u001b[39m, \u001b[38;5;28;01mNone\u001b[39;00m):\n\u001b[1;32m   1079\u001b[0m     \u001b[38;5;28;01mfor\u001b[39;00m i, v \u001b[38;5;129;01min\u001b[39;00m \u001b[38;5;28menumerate\u001b[39m(series_gen):\n\u001b[1;32m   1080\u001b[0m         \u001b[38;5;66;03m# ignore SettingWithCopy here in case the user mutates\u001b[39;00m\n\u001b[0;32m-> 1081\u001b[0m         results[i] \u001b[38;5;241m=\u001b[39m \u001b[38;5;28;43mself\u001b[39;49m\u001b[38;5;241;43m.\u001b[39;49m\u001b[43mfunc\u001b[49m\u001b[43m(\u001b[49m\u001b[43mv\u001b[49m\u001b[43m,\u001b[49m\u001b[43m \u001b[49m\u001b[38;5;241;43m*\u001b[39;49m\u001b[38;5;28;43mself\u001b[39;49m\u001b[38;5;241;43m.\u001b[39;49m\u001b[43margs\u001b[49m\u001b[43m,\u001b[49m\u001b[43m \u001b[49m\u001b[38;5;241;43m*\u001b[39;49m\u001b[38;5;241;43m*\u001b[39;49m\u001b[38;5;28;43mself\u001b[39;49m\u001b[38;5;241;43m.\u001b[39;49m\u001b[43mkwargs\u001b[49m\u001b[43m)\u001b[49m\n\u001b[1;32m   1082\u001b[0m         \u001b[38;5;28;01mif\u001b[39;00m \u001b[38;5;28misinstance\u001b[39m(results[i], ABCSeries):\n\u001b[1;32m   1083\u001b[0m             \u001b[38;5;66;03m# If we have a view on v, we need to make a copy because\u001b[39;00m\n\u001b[1;32m   1084\u001b[0m             \u001b[38;5;66;03m#  series_generator will swap out the underlying data\u001b[39;00m\n\u001b[1;32m   1085\u001b[0m             results[i] \u001b[38;5;241m=\u001b[39m results[i]\u001b[38;5;241m.\u001b[39mcopy(deep\u001b[38;5;241m=\u001b[39m\u001b[38;5;28;01mFalse\u001b[39;00m)\n",
      "Cell \u001b[0;32mIn[58], line 1\u001b[0m, in \u001b[0;36m<lambda>\u001b[0;34m(row)\u001b[0m\n\u001b[0;32m----> 1\u001b[0m group_by_embedding[\u001b[38;5;124m\"\u001b[39m\u001b[38;5;124mhierarchical_clustering_labels\u001b[39m\u001b[38;5;124m\"\u001b[39m] \u001b[38;5;241m=\u001b[39m group_by_embedding\u001b[38;5;241m.\u001b[39mapply(\u001b[38;5;28;01mlambda\u001b[39;00m row: \u001b[43mfind_optimal_n_cluster\u001b[49m\u001b[43m(\u001b[49m\u001b[43mrow\u001b[49m\u001b[43m[\u001b[49m\u001b[38;5;124;43m'\u001b[39;49m\u001b[38;5;124;43mcosine_distance_matrix\u001b[39;49m\u001b[38;5;124;43m'\u001b[39;49m\u001b[43m]\u001b[49m\u001b[43m,\u001b[49m\u001b[43m \u001b[49m\u001b[43mrow\u001b[49m\u001b[43m[\u001b[49m\u001b[38;5;124;43m'\u001b[39;49m\u001b[38;5;124;43mhierarchical_clustering\u001b[39;49m\u001b[38;5;124;43m'\u001b[39;49m\u001b[43m]\u001b[49m\u001b[43m)\u001b[49m, axis\u001b[38;5;241m=\u001b[39m\u001b[38;5;241m1\u001b[39m)\n",
      "Cell \u001b[0;32mIn[55], line 13\u001b[0m, in \u001b[0;36mfind_optimal_n_cluster\u001b[0;34m(cosine_distance_matrix, hierarchical_clustering_matrix)\u001b[0m\n\u001b[1;32m     10\u001b[0m     silhouette_scores\u001b[38;5;241m.\u001b[39mappend(silhouette_avg)\n\u001b[1;32m     12\u001b[0m \u001b[38;5;66;03m# Determine the optimal number of clusters based on the highest silhouette score\u001b[39;00m\n\u001b[0;32m---> 13\u001b[0m optimal_n_clusters \u001b[38;5;241m=\u001b[39m range_n_clusters[\u001b[43mnp\u001b[49m\u001b[38;5;241;43m.\u001b[39;49m\u001b[43margmax\u001b[49m\u001b[43m(\u001b[49m\u001b[43msilhouette_scores\u001b[49m\u001b[43m)\u001b[49m]\n\u001b[1;32m     15\u001b[0m \u001b[38;5;66;03m# Assign cluster labels to the optimal_n_clusters\u001b[39;00m\n\u001b[1;32m     16\u001b[0m final_cluster_labels \u001b[38;5;241m=\u001b[39m fcluster(hierarchical_clustering_matrix, optimal_n_clusters, criterion\u001b[38;5;241m=\u001b[39m\u001b[38;5;124m'\u001b[39m\u001b[38;5;124mmaxclust\u001b[39m\u001b[38;5;124m'\u001b[39m)\n",
      "File \u001b[0;32m/opt/homebrew/lib/python3.11/site-packages/numpy/core/fromnumeric.py:1229\u001b[0m, in \u001b[0;36margmax\u001b[0;34m(a, axis, out, keepdims)\u001b[0m\n\u001b[1;32m   1142\u001b[0m \u001b[38;5;250m\u001b[39m\u001b[38;5;124;03m\"\"\"\u001b[39;00m\n\u001b[1;32m   1143\u001b[0m \u001b[38;5;124;03mReturns the indices of the maximum values along an axis.\u001b[39;00m\n\u001b[1;32m   1144\u001b[0m \n\u001b[0;32m   (...)\u001b[0m\n\u001b[1;32m   1226\u001b[0m \u001b[38;5;124;03m(2, 1, 4)\u001b[39;00m\n\u001b[1;32m   1227\u001b[0m \u001b[38;5;124;03m\"\"\"\u001b[39;00m\n\u001b[1;32m   1228\u001b[0m kwds \u001b[38;5;241m=\u001b[39m {\u001b[38;5;124m'\u001b[39m\u001b[38;5;124mkeepdims\u001b[39m\u001b[38;5;124m'\u001b[39m: keepdims} \u001b[38;5;28;01mif\u001b[39;00m keepdims \u001b[38;5;129;01mis\u001b[39;00m \u001b[38;5;129;01mnot\u001b[39;00m np\u001b[38;5;241m.\u001b[39m_NoValue \u001b[38;5;28;01melse\u001b[39;00m {}\n\u001b[0;32m-> 1229\u001b[0m \u001b[38;5;28;01mreturn\u001b[39;00m \u001b[43m_wrapfunc\u001b[49m\u001b[43m(\u001b[49m\u001b[43ma\u001b[49m\u001b[43m,\u001b[49m\u001b[43m \u001b[49m\u001b[38;5;124;43m'\u001b[39;49m\u001b[38;5;124;43margmax\u001b[39;49m\u001b[38;5;124;43m'\u001b[39;49m\u001b[43m,\u001b[49m\u001b[43m \u001b[49m\u001b[43maxis\u001b[49m\u001b[38;5;241;43m=\u001b[39;49m\u001b[43maxis\u001b[49m\u001b[43m,\u001b[49m\u001b[43m \u001b[49m\u001b[43mout\u001b[49m\u001b[38;5;241;43m=\u001b[39;49m\u001b[43mout\u001b[49m\u001b[43m,\u001b[49m\u001b[43m \u001b[49m\u001b[38;5;241;43m*\u001b[39;49m\u001b[38;5;241;43m*\u001b[39;49m\u001b[43mkwds\u001b[49m\u001b[43m)\u001b[49m\n",
      "File \u001b[0;32m/opt/homebrew/lib/python3.11/site-packages/numpy/core/fromnumeric.py:56\u001b[0m, in \u001b[0;36m_wrapfunc\u001b[0;34m(obj, method, *args, **kwds)\u001b[0m\n\u001b[1;32m     54\u001b[0m bound \u001b[38;5;241m=\u001b[39m \u001b[38;5;28mgetattr\u001b[39m(obj, method, \u001b[38;5;28;01mNone\u001b[39;00m)\n\u001b[1;32m     55\u001b[0m \u001b[38;5;28;01mif\u001b[39;00m bound \u001b[38;5;129;01mis\u001b[39;00m \u001b[38;5;28;01mNone\u001b[39;00m:\n\u001b[0;32m---> 56\u001b[0m     \u001b[38;5;28;01mreturn\u001b[39;00m \u001b[43m_wrapit\u001b[49m\u001b[43m(\u001b[49m\u001b[43mobj\u001b[49m\u001b[43m,\u001b[49m\u001b[43m \u001b[49m\u001b[43mmethod\u001b[49m\u001b[43m,\u001b[49m\u001b[43m \u001b[49m\u001b[38;5;241;43m*\u001b[39;49m\u001b[43margs\u001b[49m\u001b[43m,\u001b[49m\u001b[43m \u001b[49m\u001b[38;5;241;43m*\u001b[39;49m\u001b[38;5;241;43m*\u001b[39;49m\u001b[43mkwds\u001b[49m\u001b[43m)\u001b[49m\n\u001b[1;32m     58\u001b[0m \u001b[38;5;28;01mtry\u001b[39;00m:\n\u001b[1;32m     59\u001b[0m     \u001b[38;5;28;01mreturn\u001b[39;00m bound(\u001b[38;5;241m*\u001b[39margs, \u001b[38;5;241m*\u001b[39m\u001b[38;5;241m*\u001b[39mkwds)\n",
      "File \u001b[0;32m/opt/homebrew/lib/python3.11/site-packages/numpy/core/fromnumeric.py:45\u001b[0m, in \u001b[0;36m_wrapit\u001b[0;34m(obj, method, *args, **kwds)\u001b[0m\n\u001b[1;32m     43\u001b[0m \u001b[38;5;28;01mexcept\u001b[39;00m \u001b[38;5;167;01mAttributeError\u001b[39;00m:\n\u001b[1;32m     44\u001b[0m     wrap \u001b[38;5;241m=\u001b[39m \u001b[38;5;28;01mNone\u001b[39;00m\n\u001b[0;32m---> 45\u001b[0m result \u001b[38;5;241m=\u001b[39m \u001b[38;5;28;43mgetattr\u001b[39;49m\u001b[43m(\u001b[49m\u001b[43masarray\u001b[49m\u001b[43m(\u001b[49m\u001b[43mobj\u001b[49m\u001b[43m)\u001b[49m\u001b[43m,\u001b[49m\u001b[43m \u001b[49m\u001b[43mmethod\u001b[49m\u001b[43m)\u001b[49m\u001b[43m(\u001b[49m\u001b[38;5;241;43m*\u001b[39;49m\u001b[43margs\u001b[49m\u001b[43m,\u001b[49m\u001b[43m \u001b[49m\u001b[38;5;241;43m*\u001b[39;49m\u001b[38;5;241;43m*\u001b[39;49m\u001b[43mkwds\u001b[49m\u001b[43m)\u001b[49m\n\u001b[1;32m     46\u001b[0m \u001b[38;5;28;01mif\u001b[39;00m wrap:\n\u001b[1;32m     47\u001b[0m     \u001b[38;5;28;01mif\u001b[39;00m \u001b[38;5;129;01mnot\u001b[39;00m \u001b[38;5;28misinstance\u001b[39m(result, mu\u001b[38;5;241m.\u001b[39mndarray):\n",
      "\u001b[0;31mValueError\u001b[0m: attempt to get argmax of an empty sequence"
     ]
    }
   ],
   "source": [
    "group_by_embedding[\"hierarchical_clustering_labels\"] = group_by_embedding.apply(lambda row: find_optimal_n_cluster(row['cosine_distance_matrix'], row['hierarchical_clustering']), axis=1)"
   ]
  },
  {
   "cell_type": "markdown",
   "metadata": {},
   "source": [
    "# Examine potential mediator(s)"
   ]
  },
  {
   "cell_type": "markdown",
   "metadata": {},
   "source": [
    "## Add collaboration-related information to the DataFrame"
   ]
  },
  {
   "cell_type": "code",
   "execution_count": 120,
   "metadata": {},
   "outputs": [],
   "source": [
    "# Convert the string representation of a list\n",
    "df['coauthors'] = df['coauthors'].apply(ast.literal_eval)\n",
    "\n",
    "# Explode the DataFrame on the 'coauthors' column to get each collaboration on a separate row\n",
    "exploded_df = df.explode('coauthors')\n",
    "\n",
    "# Create tuples of (author's email, coauthor) for each row in the exploded DataFrame\n",
    "collaborations = [(row['email'], coauthor) for _, row in exploded_df.iterrows() for coauthor in [row['coauthors']]]"
   ]
  },
  {
   "cell_type": "code",
   "execution_count": 121,
   "metadata": {},
   "outputs": [],
   "source": [
    "# Create a DataFrame from the collaboration counts\n",
    "collaborations_df = pd.DataFrame({\n",
    "    'email': [email for email, _ in collaborations],\n",
    "    'collaboration': collaborations,\n",
    "})"
   ]
  },
  {
   "cell_type": "code",
   "execution_count": 122,
   "metadata": {},
   "outputs": [
    {
     "data": {
      "text/html": [
       "<div>\n",
       "<style scoped>\n",
       "    .dataframe tbody tr th:only-of-type {\n",
       "        vertical-align: middle;\n",
       "    }\n",
       "\n",
       "    .dataframe tbody tr th {\n",
       "        vertical-align: top;\n",
       "    }\n",
       "\n",
       "    .dataframe thead th {\n",
       "        text-align: right;\n",
       "    }\n",
       "</style>\n",
       "<table border=\"1\" class=\"dataframe\">\n",
       "  <thead>\n",
       "    <tr style=\"text-align: right;\">\n",
       "      <th></th>\n",
       "      <th>email</th>\n",
       "      <th>collaboration</th>\n",
       "    </tr>\n",
       "  </thead>\n",
       "  <tbody>\n",
       "    <tr>\n",
       "      <th>0</th>\n",
       "      <td>talalasad@earthlink.net</td>\n",
       "      <td>(talalasad@earthlink.net, amjad h el-sheikh)</td>\n",
       "    </tr>\n",
       "    <tr>\n",
       "      <th>1</th>\n",
       "      <td>talalasad@earthlink.net</td>\n",
       "      <td>(talalasad@earthlink.net, yahya s al-degs)</td>\n",
       "    </tr>\n",
       "    <tr>\n",
       "      <th>2</th>\n",
       "      <td>talalasad@earthlink.net</td>\n",
       "      <td>(talalasad@earthlink.net, randa m al-as' ad)</td>\n",
       "    </tr>\n",
       "    <tr>\n",
       "      <th>3</th>\n",
       "      <td>talalasad@earthlink.net</td>\n",
       "      <td>(talalasad@earthlink.net, jamal a sweileh)</td>\n",
       "    </tr>\n",
       "    <tr>\n",
       "      <th>4</th>\n",
       "      <td>talalasad@earthlink.net</td>\n",
       "      <td>(talalasad@earthlink.net, ayman m saleh)</td>\n",
       "    </tr>\n",
       "    <tr>\n",
       "      <th>...</th>\n",
       "      <td>...</td>\n",
       "      <td>...</td>\n",
       "    </tr>\n",
       "    <tr>\n",
       "      <th>636340</th>\n",
       "      <td>francis.j.magilligan@dartmouth.edu</td>\n",
       "      <td>(francis.j.magilligan@dartmouth.edu, frank j m...</td>\n",
       "    </tr>\n",
       "    <tr>\n",
       "      <th>636341</th>\n",
       "      <td>francis.j.magilligan@dartmouth.edu</td>\n",
       "      <td>(francis.j.magilligan@dartmouth.edu, carl e re...</td>\n",
       "    </tr>\n",
       "    <tr>\n",
       "      <th>636342</th>\n",
       "      <td>francis.j.magilligan@dartmouth.edu</td>\n",
       "      <td>(francis.j.magilligan@dartmouth.edu, e wohl)</td>\n",
       "    </tr>\n",
       "    <tr>\n",
       "      <th>636343</th>\n",
       "      <td>francis.j.magilligan@dartmouth.edu</td>\n",
       "      <td>(francis.j.magilligan@dartmouth.edu, fj magill...</td>\n",
       "    </tr>\n",
       "    <tr>\n",
       "      <th>636344</th>\n",
       "      <td>francis.j.magilligan@dartmouth.edu</td>\n",
       "      <td>(francis.j.magilligan@dartmouth.edu, sl rathburn)</td>\n",
       "    </tr>\n",
       "  </tbody>\n",
       "</table>\n",
       "<p>636345 rows × 2 columns</p>\n",
       "</div>"
      ],
      "text/plain": [
       "                                     email  \\\n",
       "0                  talalasad@earthlink.net   \n",
       "1                  talalasad@earthlink.net   \n",
       "2                  talalasad@earthlink.net   \n",
       "3                  talalasad@earthlink.net   \n",
       "4                  talalasad@earthlink.net   \n",
       "...                                    ...   \n",
       "636340  francis.j.magilligan@dartmouth.edu   \n",
       "636341  francis.j.magilligan@dartmouth.edu   \n",
       "636342  francis.j.magilligan@dartmouth.edu   \n",
       "636343  francis.j.magilligan@dartmouth.edu   \n",
       "636344  francis.j.magilligan@dartmouth.edu   \n",
       "\n",
       "                                            collaboration  \n",
       "0            (talalasad@earthlink.net, amjad h el-sheikh)  \n",
       "1              (talalasad@earthlink.net, yahya s al-degs)  \n",
       "2            (talalasad@earthlink.net, randa m al-as' ad)  \n",
       "3              (talalasad@earthlink.net, jamal a sweileh)  \n",
       "4                (talalasad@earthlink.net, ayman m saleh)  \n",
       "...                                                   ...  \n",
       "636340  (francis.j.magilligan@dartmouth.edu, frank j m...  \n",
       "636341  (francis.j.magilligan@dartmouth.edu, carl e re...  \n",
       "636342       (francis.j.magilligan@dartmouth.edu, e wohl)  \n",
       "636343  (francis.j.magilligan@dartmouth.edu, fj magill...  \n",
       "636344  (francis.j.magilligan@dartmouth.edu, sl rathburn)  \n",
       "\n",
       "[636345 rows x 2 columns]"
      ]
     },
     "execution_count": 122,
     "metadata": {},
     "output_type": "execute_result"
    }
   ],
   "source": [
    "collaborations_df"
   ]
  },
  {
   "cell_type": "markdown",
   "metadata": {},
   "source": [
    "## Build collaboration network for `before_award` and `right_after_award` periods"
   ]
  },
  {
   "cell_type": "markdown",
   "metadata": {},
   "source": [
    "In the following section, I will use closeness centrality measure to operationalize collaboration diversity (put in another way, enclosedness of a collaboration network) for each author. Specifically, I will first construct a collaboration network for each year and then extract aggregate measures for the period (e.g., before_award or right_after_award) for each author to calculate the change in collaboration diversity."
   ]
  },
  {
   "cell_type": "code",
   "execution_count": 123,
   "metadata": {},
   "outputs": [],
   "source": [
    "# Create a new column called before_rigth_after_after_award for mediation analysis (temporal order)\n",
    "# Here choose a 3-year time frame for rigth_after_award period\n",
    "df.loc[df[\"publication_year\"] <= df[\"award_year\"], 'before_rigth_after_after_award'] = 'before_award'\n",
    "df.loc[(df[\"publication_year\"] > df[\"award_year\"]) & (df[\"publication_year\"] < df[\"award_year\"] + 3), 'before_rigth_after_after_award'] = 'right_after_award'\n",
    "df.loc[df[\"publication_year\"] >= df[\"award_year\"] + 3, 'before_rigth_after_after_award'] = 'after_award'"
   ]
  },
  {
   "cell_type": "code",
   "execution_count": 124,
   "metadata": {},
   "outputs": [
    {
     "data": {
      "text/plain": [
       "before_rigth_after_after_award\n",
       "before_award         62816\n",
       "right_after_award    34845\n",
       "after_award          17747\n",
       "Name: count, dtype: int64"
      ]
     },
     "execution_count": 124,
     "metadata": {},
     "output_type": "execute_result"
    }
   ],
   "source": [
    "df['before_rigth_after_after_award'].value_counts()"
   ]
  },
  {
   "cell_type": "code",
   "execution_count": 125,
   "metadata": {},
   "outputs": [
    {
     "data": {
      "text/plain": [
       "0         before_award\n",
       "1          after_award\n",
       "2          after_award\n",
       "3          after_award\n",
       "4          after_award\n",
       "              ...     \n",
       "115403    before_award\n",
       "115404    before_award\n",
       "115405    before_award\n",
       "115406    before_award\n",
       "115407    before_award\n",
       "Name: before_after_award, Length: 115408, dtype: object"
      ]
     },
     "execution_count": 125,
     "metadata": {},
     "output_type": "execute_result"
    }
   ],
   "source": [
    "df['before_after_award']"
   ]
  },
  {
   "cell_type": "code",
   "execution_count": 126,
   "metadata": {},
   "outputs": [],
   "source": [
    "# Add year related information to the collaborations_df \n",
    "collaborations_df = pd.merge(df[['email', 'publication_year', 'before_after_award']], \n",
    "                             collaborations_df, on='email', how='inner')"
   ]
  },
  {
   "cell_type": "code",
   "execution_count": 127,
   "metadata": {},
   "outputs": [],
   "source": [
    "# Store degree and closeness centrality measures for each year in Pickle (Python's object serialization)\n",
    "yearly_degree_centrality_path = '../database/yearly_degree_centrality.pkl'\n",
    "yearly_closeness_centrality_path = '../database/yearly_closeness_centrality.pkl'\n",
    "\n",
    "if os.path.exists(yearly_degree_centrality_path) and os.path.exists(yearly_closeness_centrality_path):\n",
    "    with open(yearly_degree_centrality_path, 'rb') as f:\n",
    "        yearly_degree_centrality = pickle.load(f)\n",
    "    \n",
    "    with open(yearly_closeness_centrality_path, 'rb') as f:\n",
    "        yearly_closeness_centrality = pickle.load(f)\n",
    "    \n",
    "else:\n",
    "    # Initialize a dictionary to store yearly networks\n",
    "    yearly_networks = {}\n",
    "\n",
    "    for year, group in collaborations_df.groupby('publication_year'):\n",
    "        G_year = nx.Graph()\n",
    "        for _, row in group.iterrows():\n",
    "            author_email, coauthor = row['collaboration']\n",
    "            # Dynamically count the number of collaboration between two authors for each year\n",
    "            if G_year.has_edge(author_email, coauthor):\n",
    "                # If it exists, increment the weight by 1\n",
    "                G_year[author_email][coauthor]['weight'] += 1\n",
    "            else:\n",
    "                # Otherwise, add a new edge with weight 1\n",
    "                G_year.add_edge(author_email, coauthor, weight=1)\n",
    "            \n",
    "        yearly_networks[year] = G_year\n",
    "\n",
    "    # Store degree and closness measures for each year\n",
    "    yearly_degree_centrality = {}\n",
    "    yearly_closeness_centrality = {}\n",
    "\n",
    "    for year, network in yearly_networks.items():\n",
    "        print(f\"Begin deriving degree centrality measures for year {year}\")\n",
    "        yearly_degree_centrality[year] = nx.degree_centrality(network)\n",
    "\n",
    "        print(f\"Begin deriving closeness centrality measures for year {year}\")\n",
    "        yearly_closeness_centrality[year] = nx.closeness_centrality(network)\n",
    "\n",
    "    # Save the centrality measures\n",
    "    with open(yearly_degree_centrality_path, 'wb') as f:\n",
    "        print(\"Save degree centrality measure\")\n",
    "        pickle.dump(yearly_degree_centrality, f)\n",
    "\n",
    "    with open(yearly_closeness_centrality_path, 'wb') as f:\n",
    "        print(\"Save closeness centrality measure\")\n",
    "        pickle.dump(yearly_closeness_centrality, f)"
   ]
  },
  {
   "cell_type": "code",
   "execution_count": 130,
   "metadata": {},
   "outputs": [],
   "source": [
    "grouped_years = collaborations_df.groupby(by=['email', 'before_after_award'])['publication_year'].unique()"
   ]
  },
  {
   "cell_type": "code",
   "execution_count": 131,
   "metadata": {},
   "outputs": [],
   "source": [
    "group_by_centrality = []\n",
    "\n",
    "for (email, before_after_award), years in grouped_years.items():\n",
    "    degree_values = []\n",
    "    closeness_values = []\n",
    "\n",
    "    for year in years:\n",
    "        # Append degree centrality measure for each author (in each year)\n",
    "        if year in yearly_degree_centrality and email in yearly_degree_centrality[year]:\n",
    "            degree_values.append(yearly_degree_centrality[year].get(email, 0))\n",
    "\n",
    "        # Append closeness centrality measure for each author (in each year)\n",
    "        if year in yearly_closeness_centrality and email in yearly_closeness_centrality[year]:\n",
    "            closeness_values.append(yearly_closeness_centrality[year].get(email, 0))\n",
    "\n",
    "    if sum([i != 0 for i in degree_values]) > 0:\n",
    "        average_degree = sum(degree_values) / sum([i != 0 for i in degree_values])\n",
    "    else:\n",
    "        average_degree = 0\n",
    "\n",
    "    if sum([i != 0 for i in degree_values]) > 0:\n",
    "        average_closeness = sum(closeness_values) / sum([i != 0 for i in closeness_values])\n",
    "    else:\n",
    "        average_closeness = 0\n",
    "\n",
    "    # Append to data list\n",
    "    group_by_centrality.append({\n",
    "        'email': email,\n",
    "        'before_after_award': before_after_award,\n",
    "        'average_degree': average_degree,\n",
    "        'average_closeness': average_closeness\n",
    "    })\n",
    "\n",
    "group_by_centrality = pd.DataFrame(group_by_centrality)"
   ]
  },
  {
   "cell_type": "code",
   "execution_count": 132,
   "metadata": {},
   "outputs": [
    {
     "data": {
      "text/html": [
       "<div>\n",
       "<style scoped>\n",
       "    .dataframe tbody tr th:only-of-type {\n",
       "        vertical-align: middle;\n",
       "    }\n",
       "\n",
       "    .dataframe tbody tr th {\n",
       "        vertical-align: top;\n",
       "    }\n",
       "\n",
       "    .dataframe thead th {\n",
       "        text-align: right;\n",
       "    }\n",
       "</style>\n",
       "<table border=\"1\" class=\"dataframe\">\n",
       "  <thead>\n",
       "    <tr style=\"text-align: right;\">\n",
       "      <th></th>\n",
       "      <th>after_award</th>\n",
       "      <th>before_award</th>\n",
       "    </tr>\n",
       "    <tr>\n",
       "      <th>email</th>\n",
       "      <th></th>\n",
       "      <th></th>\n",
       "    </tr>\n",
       "  </thead>\n",
       "  <tbody>\n",
       "    <tr>\n",
       "      <th>00t0holtgrav@bsu.edu</th>\n",
       "      <td>0.000766</td>\n",
       "      <td>0.000756</td>\n",
       "    </tr>\n",
       "    <tr>\n",
       "      <th>a.satpute@northeastern.edu</th>\n",
       "      <td>0.003191</td>\n",
       "      <td>0.000867</td>\n",
       "    </tr>\n",
       "    <tr>\n",
       "      <th>aabrewer@uci.edu</th>\n",
       "      <td>0.000244</td>\n",
       "      <td>0.000378</td>\n",
       "    </tr>\n",
       "    <tr>\n",
       "      <th>aag6@psu.edu</th>\n",
       "      <td>0.000320</td>\n",
       "      <td>0.000579</td>\n",
       "    </tr>\n",
       "    <tr>\n",
       "      <th>aam72@georgetown.edu</th>\n",
       "      <td>0.000522</td>\n",
       "      <td>0.000435</td>\n",
       "    </tr>\n",
       "    <tr>\n",
       "      <th>...</th>\n",
       "      <td>...</td>\n",
       "      <td>...</td>\n",
       "    </tr>\n",
       "    <tr>\n",
       "      <th>zkrizan@iastate.edu</th>\n",
       "      <td>0.000267</td>\n",
       "      <td>0.000307</td>\n",
       "    </tr>\n",
       "    <tr>\n",
       "      <th>zoe.wool@rice.edu</th>\n",
       "      <td>0.000157</td>\n",
       "      <td>0.000111</td>\n",
       "    </tr>\n",
       "    <tr>\n",
       "      <th>zook@uky.edu</th>\n",
       "      <td>0.001188</td>\n",
       "      <td>0.001222</td>\n",
       "    </tr>\n",
       "    <tr>\n",
       "      <th>zulu@msu.edu</th>\n",
       "      <td>0.000463</td>\n",
       "      <td>0.000574</td>\n",
       "    </tr>\n",
       "    <tr>\n",
       "      <th>zygmunt.frajzyngier@colorado.edu</th>\n",
       "      <td>0.000177</td>\n",
       "      <td>0.000275</td>\n",
       "    </tr>\n",
       "  </tbody>\n",
       "</table>\n",
       "<p>2034 rows × 2 columns</p>\n",
       "</div>"
      ],
      "text/plain": [
       "                                  after_award  before_award\n",
       "email                                                      \n",
       "00t0holtgrav@bsu.edu                 0.000766      0.000756\n",
       "a.satpute@northeastern.edu           0.003191      0.000867\n",
       "aabrewer@uci.edu                     0.000244      0.000378\n",
       "aag6@psu.edu                         0.000320      0.000579\n",
       "aam72@georgetown.edu                 0.000522      0.000435\n",
       "...                                       ...           ...\n",
       "zkrizan@iastate.edu                  0.000267      0.000307\n",
       "zoe.wool@rice.edu                    0.000157      0.000111\n",
       "zook@uky.edu                         0.001188      0.001222\n",
       "zulu@msu.edu                         0.000463      0.000574\n",
       "zygmunt.frajzyngier@colorado.edu     0.000177      0.000275\n",
       "\n",
       "[2034 rows x 2 columns]"
      ]
     },
     "execution_count": 132,
     "metadata": {},
     "output_type": "execute_result"
    }
   ],
   "source": [
    "# Convert the dataframe about average_degree from long to wide format\n",
    "average_degree_wide = group_by_centrality.drop('average_closeness', axis=1).pivot(\\\n",
    "    index='email', columns='before_after_award', values='average_degree')\n",
    "average_degree_wide.columns.name = None\n",
    "average_degree_wide"
   ]
  },
  {
   "cell_type": "code",
   "execution_count": null,
   "metadata": {},
   "outputs": [
    {
     "data": {
      "text/html": [
       "<div>\n",
       "<style scoped>\n",
       "    .dataframe tbody tr th:only-of-type {\n",
       "        vertical-align: middle;\n",
       "    }\n",
       "\n",
       "    .dataframe tbody tr th {\n",
       "        vertical-align: top;\n",
       "    }\n",
       "\n",
       "    .dataframe thead th {\n",
       "        text-align: right;\n",
       "    }\n",
       "</style>\n",
       "<table border=\"1\" class=\"dataframe\">\n",
       "  <thead>\n",
       "    <tr style=\"text-align: right;\">\n",
       "      <th></th>\n",
       "      <th>after_award</th>\n",
       "      <th>before_award</th>\n",
       "    </tr>\n",
       "    <tr>\n",
       "      <th>email</th>\n",
       "      <th></th>\n",
       "      <th></th>\n",
       "    </tr>\n",
       "  </thead>\n",
       "  <tbody>\n",
       "    <tr>\n",
       "      <th>00t0holtgrav@bsu.edu</th>\n",
       "      <td>0.160031</td>\n",
       "      <td>0.152599</td>\n",
       "    </tr>\n",
       "    <tr>\n",
       "      <th>a.satpute@northeastern.edu</th>\n",
       "      <td>0.177090</td>\n",
       "      <td>0.209292</td>\n",
       "    </tr>\n",
       "    <tr>\n",
       "      <th>aabrewer@uci.edu</th>\n",
       "      <td>0.174160</td>\n",
       "      <td>0.157203</td>\n",
       "    </tr>\n",
       "    <tr>\n",
       "      <th>aag6@psu.edu</th>\n",
       "      <td>0.000320</td>\n",
       "      <td>0.000579</td>\n",
       "    </tr>\n",
       "    <tr>\n",
       "      <th>aam72@georgetown.edu</th>\n",
       "      <td>0.192232</td>\n",
       "      <td>0.187448</td>\n",
       "    </tr>\n",
       "    <tr>\n",
       "      <th>...</th>\n",
       "      <td>...</td>\n",
       "      <td>...</td>\n",
       "    </tr>\n",
       "    <tr>\n",
       "      <th>zkrizan@iastate.edu</th>\n",
       "      <td>0.178573</td>\n",
       "      <td>0.177194</td>\n",
       "    </tr>\n",
       "    <tr>\n",
       "      <th>zoe.wool@rice.edu</th>\n",
       "      <td>0.000157</td>\n",
       "      <td>0.105947</td>\n",
       "    </tr>\n",
       "    <tr>\n",
       "      <th>zook@uky.edu</th>\n",
       "      <td>0.179656</td>\n",
       "      <td>0.175523</td>\n",
       "    </tr>\n",
       "    <tr>\n",
       "      <th>zulu@msu.edu</th>\n",
       "      <td>0.178312</td>\n",
       "      <td>0.174606</td>\n",
       "    </tr>\n",
       "    <tr>\n",
       "      <th>zygmunt.frajzyngier@colorado.edu</th>\n",
       "      <td>0.171520</td>\n",
       "      <td>0.158905</td>\n",
       "    </tr>\n",
       "  </tbody>\n",
       "</table>\n",
       "<p>2034 rows × 2 columns</p>\n",
       "</div>"
      ],
      "text/plain": [
       "                                  after_award  before_award\n",
       "email                                                      \n",
       "00t0holtgrav@bsu.edu                 0.160031      0.152599\n",
       "a.satpute@northeastern.edu           0.177090      0.209292\n",
       "aabrewer@uci.edu                     0.174160      0.157203\n",
       "aag6@psu.edu                         0.000320      0.000579\n",
       "aam72@georgetown.edu                 0.192232      0.187448\n",
       "...                                       ...           ...\n",
       "zkrizan@iastate.edu                  0.178573      0.177194\n",
       "zoe.wool@rice.edu                    0.000157      0.105947\n",
       "zook@uky.edu                         0.179656      0.175523\n",
       "zulu@msu.edu                         0.178312      0.174606\n",
       "zygmunt.frajzyngier@colorado.edu     0.171520      0.158905\n",
       "\n",
       "[2034 rows x 2 columns]"
      ]
     },
     "execution_count": 72,
     "metadata": {},
     "output_type": "execute_result"
    }
   ],
   "source": [
    "# Likewise, convert the dataframe about average_closeness from long to wide format\n",
    "average_closeness_wide = group_by_centrality.drop('average_degree', axis=1).pivot(\\\n",
    "    index='email', columns='before_after_award', values='average_closeness')\n",
    "average_closeness_wide.columns.name = None\n",
    "average_closeness_wide"
   ]
  },
  {
   "cell_type": "markdown",
   "metadata": {},
   "source": [
    "## Repeated measure test to test before and right after award difference in degree centrality"
   ]
  },
  {
   "cell_type": "code",
   "execution_count": 133,
   "metadata": {},
   "outputs": [],
   "source": [
    "# Filter out na values\n",
    "average_degree_wide.dropna(inplace=True)"
   ]
  },
  {
   "cell_type": "code",
   "execution_count": 134,
   "metadata": {},
   "outputs": [],
   "source": [
    "# Calculate difference in mean_cosine_distance\n",
    "average_degree_wide['mean_diff'] = average_degree_wide['after_award'] - average_degree_wide['before_award']"
   ]
  },
  {
   "cell_type": "code",
   "execution_count": 135,
   "metadata": {},
   "outputs": [
    {
     "data": {
      "text/plain": [
       "after_award     0.001161\n",
       "before_award    0.001121\n",
       "mean_diff       0.000040\n",
       "dtype: float64"
      ]
     },
     "execution_count": 135,
     "metadata": {},
     "output_type": "execute_result"
    }
   ],
   "source": [
    "average_degree_wide.apply(np.mean, axis=0)"
   ]
  },
  {
   "cell_type": "code",
   "execution_count": 136,
   "metadata": {},
   "outputs": [
    {
     "data": {
      "text/plain": [
       "WilcoxonResult(statistic=952724.0, pvalue=0.1211968700493568)"
      ]
     },
     "execution_count": 136,
     "metadata": {},
     "output_type": "execute_result"
    }
   ],
   "source": [
    "wilcoxon(average_degree_wide['mean_diff'])"
   ]
  },
  {
   "cell_type": "code",
   "execution_count": 137,
   "metadata": {},
   "outputs": [
    {
     "name": "stdout",
     "output_type": "stream",
     "text": [
      "Mean Difference (after_award - before_award): 3.918277698752575e-05, 95% CI: [-9.939896866246067e-05, 0.00017193616478637744]\n"
     ]
    }
   ],
   "source": [
    "mean_diff, ci_lower, ci_upper = bootstrap_effect_size(\\\n",
    "    average_degree_wide['before_award'],\n",
    "    average_degree_wide['after_award'])\n",
    "\n",
    "print(f\"Mean Difference (after_award - before_award): {mean_diff}, 95% CI: [{ci_lower}, {ci_upper}]\")"
   ]
  },
  {
   "cell_type": "markdown",
   "metadata": {},
   "source": [
    "## Repeated measure test to test before and right after award difference in closeness centrality"
   ]
  },
  {
   "cell_type": "code",
   "execution_count": 138,
   "metadata": {},
   "outputs": [],
   "source": [
    "# Filter out na values\n",
    "average_closeness_wide.dropna(inplace=True)"
   ]
  },
  {
   "cell_type": "code",
   "execution_count": 139,
   "metadata": {},
   "outputs": [],
   "source": [
    "# Calculate difference in mean_cosine_distance\n",
    "average_closeness_wide['mean_diff'] = average_closeness_wide['after_award'] - average_closeness_wide['before_award']"
   ]
  },
  {
   "cell_type": "code",
   "execution_count": 140,
   "metadata": {},
   "outputs": [
    {
     "data": {
      "text/plain": [
       "after_award     0.168344\n",
       "before_award    0.167566\n",
       "mean_diff       0.000777\n",
       "dtype: float64"
      ]
     },
     "execution_count": 140,
     "metadata": {},
     "output_type": "execute_result"
    }
   ],
   "source": [
    "average_closeness_wide.apply(np.mean, axis=0)"
   ]
  },
  {
   "cell_type": "code",
   "execution_count": 141,
   "metadata": {},
   "outputs": [
    {
     "data": {
      "text/plain": [
       "WilcoxonResult(statistic=815192.0, pvalue=4.968823805141583e-12)"
      ]
     },
     "execution_count": 141,
     "metadata": {},
     "output_type": "execute_result"
    }
   ],
   "source": [
    "wilcoxon(average_closeness_wide['mean_diff'])"
   ]
  },
  {
   "cell_type": "code",
   "execution_count": 142,
   "metadata": {},
   "outputs": [
    {
     "name": "stdout",
     "output_type": "stream",
     "text": [
      "Mean Difference (after_award - before_award): 0.000762184045084453, 95% CI: [-0.002159767249041927, 0.0036988562429706084]\n"
     ]
    }
   ],
   "source": [
    "mean_diff, ci_lower, ci_upper = bootstrap_effect_size(\\\n",
    "    average_closeness_wide['before_award'],\n",
    "    average_closeness_wide['after_award'])\n",
    "\n",
    "print(f\"Mean Difference (after_award - before_award): {mean_diff}, 95% CI: [{ci_lower}, {ci_upper}]\")"
   ]
  },
  {
   "cell_type": "markdown",
   "metadata": {},
   "source": [
    "# Build Linear Mixed Models to Further Examine the Effect of Funding on Research Diversity"
   ]
  },
  {
   "cell_type": "markdown",
   "metadata": {},
   "source": [
    "## Merge group_by_embedding and group_by_centrality"
   ]
  },
  {
   "cell_type": "code",
   "execution_count": 143,
   "metadata": {},
   "outputs": [
    {
     "data": {
      "text/html": [
       "<div>\n",
       "<style scoped>\n",
       "    .dataframe tbody tr th:only-of-type {\n",
       "        vertical-align: middle;\n",
       "    }\n",
       "\n",
       "    .dataframe tbody tr th {\n",
       "        vertical-align: top;\n",
       "    }\n",
       "\n",
       "    .dataframe thead th {\n",
       "        text-align: right;\n",
       "    }\n",
       "</style>\n",
       "<table border=\"1\" class=\"dataframe\">\n",
       "  <thead>\n",
       "    <tr style=\"text-align: right;\">\n",
       "      <th></th>\n",
       "      <th>email</th>\n",
       "      <th>before_after_award</th>\n",
       "      <th>embedding_matrix</th>\n",
       "      <th>mean_cosine_distance</th>\n",
       "      <th>cosine_distance_entropy</th>\n",
       "    </tr>\n",
       "  </thead>\n",
       "  <tbody>\n",
       "    <tr>\n",
       "      <th>0</th>\n",
       "      <td>00t0holtgrav@bsu.edu</td>\n",
       "      <td>after_award</td>\n",
       "      <td>[[-0.32955742, -0.5743396, -0.97046256, 0.2215...</td>\n",
       "      <td>0.225915</td>\n",
       "      <td>7.905158</td>\n",
       "    </tr>\n",
       "    <tr>\n",
       "      <th>1</th>\n",
       "      <td>00t0holtgrav@bsu.edu</td>\n",
       "      <td>before_award</td>\n",
       "      <td>[[-0.30634096, -0.4522231, -0.97391766, -0.939...</td>\n",
       "      <td>0.264751</td>\n",
       "      <td>7.894687</td>\n",
       "    </tr>\n",
       "    <tr>\n",
       "      <th>2</th>\n",
       "      <td>a.satpute@northeastern.edu</td>\n",
       "      <td>after_award</td>\n",
       "      <td>[[-0.32639113, -0.16873796, -0.15368238, 0.286...</td>\n",
       "      <td>0.236865</td>\n",
       "      <td>7.607206</td>\n",
       "    </tr>\n",
       "    <tr>\n",
       "      <th>3</th>\n",
       "      <td>a.satpute@northeastern.edu</td>\n",
       "      <td>before_award</td>\n",
       "      <td>[[-0.3914881, -0.11487491, -0.9629283, -0.3523...</td>\n",
       "      <td>0.253264</td>\n",
       "      <td>6.310275</td>\n",
       "    </tr>\n",
       "    <tr>\n",
       "      <th>4</th>\n",
       "      <td>aabrewer@uci.edu</td>\n",
       "      <td>after_award</td>\n",
       "      <td>[[-0.4823957, -0.40220445, -0.99880356, -0.968...</td>\n",
       "      <td>0.227764</td>\n",
       "      <td>4.728154</td>\n",
       "    </tr>\n",
       "    <tr>\n",
       "      <th>...</th>\n",
       "      <td>...</td>\n",
       "      <td>...</td>\n",
       "      <td>...</td>\n",
       "      <td>...</td>\n",
       "      <td>...</td>\n",
       "    </tr>\n",
       "    <tr>\n",
       "      <th>4022</th>\n",
       "      <td>zook@uky.edu</td>\n",
       "      <td>before_award</td>\n",
       "      <td>[[-0.055216346, -0.15407999, -0.9122512, 0.754...</td>\n",
       "      <td>0.238168</td>\n",
       "      <td>10.938481</td>\n",
       "    </tr>\n",
       "    <tr>\n",
       "      <th>4023</th>\n",
       "      <td>zulu@msu.edu</td>\n",
       "      <td>after_award</td>\n",
       "      <td>[[-0.15892313, -0.11903335, -0.9209364, -0.578...</td>\n",
       "      <td>0.287962</td>\n",
       "      <td>6.723187</td>\n",
       "    </tr>\n",
       "    <tr>\n",
       "      <th>4024</th>\n",
       "      <td>zulu@msu.edu</td>\n",
       "      <td>before_award</td>\n",
       "      <td>[[-0.27684975, -0.20300557, -0.6392335, 0.1452...</td>\n",
       "      <td>0.285075</td>\n",
       "      <td>5.304507</td>\n",
       "    </tr>\n",
       "    <tr>\n",
       "      <th>4025</th>\n",
       "      <td>zygmunt.frajzyngier@colorado.edu</td>\n",
       "      <td>after_award</td>\n",
       "      <td>[[-0.26335523, -0.17618415, -0.17456537, 0.923...</td>\n",
       "      <td>0.263132</td>\n",
       "      <td>5.212317</td>\n",
       "    </tr>\n",
       "    <tr>\n",
       "      <th>4026</th>\n",
       "      <td>zygmunt.frajzyngier@colorado.edu</td>\n",
       "      <td>before_award</td>\n",
       "      <td>[[-0.37854484, -0.77708656, -0.9866584, -0.324...</td>\n",
       "      <td>0.233319</td>\n",
       "      <td>7.228143</td>\n",
       "    </tr>\n",
       "  </tbody>\n",
       "</table>\n",
       "<p>3986 rows × 5 columns</p>\n",
       "</div>"
      ],
      "text/plain": [
       "                                 email before_after_award  \\\n",
       "0                 00t0holtgrav@bsu.edu        after_award   \n",
       "1                 00t0holtgrav@bsu.edu       before_award   \n",
       "2           a.satpute@northeastern.edu        after_award   \n",
       "3           a.satpute@northeastern.edu       before_award   \n",
       "4                     aabrewer@uci.edu        after_award   \n",
       "...                                ...                ...   \n",
       "4022                      zook@uky.edu       before_award   \n",
       "4023                      zulu@msu.edu        after_award   \n",
       "4024                      zulu@msu.edu       before_award   \n",
       "4025  zygmunt.frajzyngier@colorado.edu        after_award   \n",
       "4026  zygmunt.frajzyngier@colorado.edu       before_award   \n",
       "\n",
       "                                       embedding_matrix  mean_cosine_distance  \\\n",
       "0     [[-0.32955742, -0.5743396, -0.97046256, 0.2215...              0.225915   \n",
       "1     [[-0.30634096, -0.4522231, -0.97391766, -0.939...              0.264751   \n",
       "2     [[-0.32639113, -0.16873796, -0.15368238, 0.286...              0.236865   \n",
       "3     [[-0.3914881, -0.11487491, -0.9629283, -0.3523...              0.253264   \n",
       "4     [[-0.4823957, -0.40220445, -0.99880356, -0.968...              0.227764   \n",
       "...                                                 ...                   ...   \n",
       "4022  [[-0.055216346, -0.15407999, -0.9122512, 0.754...              0.238168   \n",
       "4023  [[-0.15892313, -0.11903335, -0.9209364, -0.578...              0.287962   \n",
       "4024  [[-0.27684975, -0.20300557, -0.6392335, 0.1452...              0.285075   \n",
       "4025  [[-0.26335523, -0.17618415, -0.17456537, 0.923...              0.263132   \n",
       "4026  [[-0.37854484, -0.77708656, -0.9866584, -0.324...              0.233319   \n",
       "\n",
       "      cosine_distance_entropy  \n",
       "0                    7.905158  \n",
       "1                    7.894687  \n",
       "2                    7.607206  \n",
       "3                    6.310275  \n",
       "4                    4.728154  \n",
       "...                       ...  \n",
       "4022                10.938481  \n",
       "4023                 6.723187  \n",
       "4024                 5.304507  \n",
       "4025                 5.212317  \n",
       "4026                 7.228143  \n",
       "\n",
       "[3986 rows x 5 columns]"
      ]
     },
     "execution_count": 143,
     "metadata": {},
     "output_type": "execute_result"
    }
   ],
   "source": [
    "group_by_embedding"
   ]
  },
  {
   "cell_type": "code",
   "execution_count": 144,
   "metadata": {},
   "outputs": [
    {
     "data": {
      "text/html": [
       "<div>\n",
       "<style scoped>\n",
       "    .dataframe tbody tr th:only-of-type {\n",
       "        vertical-align: middle;\n",
       "    }\n",
       "\n",
       "    .dataframe tbody tr th {\n",
       "        vertical-align: top;\n",
       "    }\n",
       "\n",
       "    .dataframe thead th {\n",
       "        text-align: right;\n",
       "    }\n",
       "</style>\n",
       "<table border=\"1\" class=\"dataframe\">\n",
       "  <thead>\n",
       "    <tr style=\"text-align: right;\">\n",
       "      <th></th>\n",
       "      <th>email</th>\n",
       "      <th>before_after_award</th>\n",
       "      <th>average_degree</th>\n",
       "      <th>average_closeness</th>\n",
       "    </tr>\n",
       "  </thead>\n",
       "  <tbody>\n",
       "    <tr>\n",
       "      <th>0</th>\n",
       "      <td>00t0holtgrav@bsu.edu</td>\n",
       "      <td>after_award</td>\n",
       "      <td>0.000766</td>\n",
       "      <td>0.160031</td>\n",
       "    </tr>\n",
       "    <tr>\n",
       "      <th>1</th>\n",
       "      <td>00t0holtgrav@bsu.edu</td>\n",
       "      <td>before_award</td>\n",
       "      <td>0.000756</td>\n",
       "      <td>0.152599</td>\n",
       "    </tr>\n",
       "    <tr>\n",
       "      <th>2</th>\n",
       "      <td>a.satpute@northeastern.edu</td>\n",
       "      <td>after_award</td>\n",
       "      <td>0.003191</td>\n",
       "      <td>0.177090</td>\n",
       "    </tr>\n",
       "    <tr>\n",
       "      <th>3</th>\n",
       "      <td>a.satpute@northeastern.edu</td>\n",
       "      <td>before_award</td>\n",
       "      <td>0.000867</td>\n",
       "      <td>0.209292</td>\n",
       "    </tr>\n",
       "    <tr>\n",
       "      <th>4</th>\n",
       "      <td>aabrewer@uci.edu</td>\n",
       "      <td>after_award</td>\n",
       "      <td>0.000244</td>\n",
       "      <td>0.174160</td>\n",
       "    </tr>\n",
       "    <tr>\n",
       "      <th>...</th>\n",
       "      <td>...</td>\n",
       "      <td>...</td>\n",
       "      <td>...</td>\n",
       "      <td>...</td>\n",
       "    </tr>\n",
       "    <tr>\n",
       "      <th>4022</th>\n",
       "      <td>zook@uky.edu</td>\n",
       "      <td>before_award</td>\n",
       "      <td>0.001222</td>\n",
       "      <td>0.175523</td>\n",
       "    </tr>\n",
       "    <tr>\n",
       "      <th>4023</th>\n",
       "      <td>zulu@msu.edu</td>\n",
       "      <td>after_award</td>\n",
       "      <td>0.000463</td>\n",
       "      <td>0.178312</td>\n",
       "    </tr>\n",
       "    <tr>\n",
       "      <th>4024</th>\n",
       "      <td>zulu@msu.edu</td>\n",
       "      <td>before_award</td>\n",
       "      <td>0.000574</td>\n",
       "      <td>0.174606</td>\n",
       "    </tr>\n",
       "    <tr>\n",
       "      <th>4025</th>\n",
       "      <td>zygmunt.frajzyngier@colorado.edu</td>\n",
       "      <td>after_award</td>\n",
       "      <td>0.000177</td>\n",
       "      <td>0.171520</td>\n",
       "    </tr>\n",
       "    <tr>\n",
       "      <th>4026</th>\n",
       "      <td>zygmunt.frajzyngier@colorado.edu</td>\n",
       "      <td>before_award</td>\n",
       "      <td>0.000275</td>\n",
       "      <td>0.158905</td>\n",
       "    </tr>\n",
       "  </tbody>\n",
       "</table>\n",
       "<p>4027 rows × 4 columns</p>\n",
       "</div>"
      ],
      "text/plain": [
       "                                 email before_after_award  average_degree  \\\n",
       "0                 00t0holtgrav@bsu.edu        after_award        0.000766   \n",
       "1                 00t0holtgrav@bsu.edu       before_award        0.000756   \n",
       "2           a.satpute@northeastern.edu        after_award        0.003191   \n",
       "3           a.satpute@northeastern.edu       before_award        0.000867   \n",
       "4                     aabrewer@uci.edu        after_award        0.000244   \n",
       "...                                ...                ...             ...   \n",
       "4022                      zook@uky.edu       before_award        0.001222   \n",
       "4023                      zulu@msu.edu        after_award        0.000463   \n",
       "4024                      zulu@msu.edu       before_award        0.000574   \n",
       "4025  zygmunt.frajzyngier@colorado.edu        after_award        0.000177   \n",
       "4026  zygmunt.frajzyngier@colorado.edu       before_award        0.000275   \n",
       "\n",
       "      average_closeness  \n",
       "0              0.160031  \n",
       "1              0.152599  \n",
       "2              0.177090  \n",
       "3              0.209292  \n",
       "4              0.174160  \n",
       "...                 ...  \n",
       "4022           0.175523  \n",
       "4023           0.178312  \n",
       "4024           0.174606  \n",
       "4025           0.171520  \n",
       "4026           0.158905  \n",
       "\n",
       "[4027 rows x 4 columns]"
      ]
     },
     "execution_count": 144,
     "metadata": {},
     "output_type": "execute_result"
    }
   ],
   "source": [
    "group_by_centrality"
   ]
  },
  {
   "cell_type": "code",
   "execution_count": 147,
   "metadata": {},
   "outputs": [],
   "source": [
    "# Merge group_by_embedding and group_by_centrality together\n",
    "group_by_merged = pd.merge(group_by_centrality, group_by_embedding.drop('embedding_matrix', axis=1), how='inner', on=['email', 'before_after_award'])"
   ]
  },
  {
   "cell_type": "code",
   "execution_count": 148,
   "metadata": {},
   "outputs": [
    {
     "data": {
      "text/html": [
       "<div>\n",
       "<style scoped>\n",
       "    .dataframe tbody tr th:only-of-type {\n",
       "        vertical-align: middle;\n",
       "    }\n",
       "\n",
       "    .dataframe tbody tr th {\n",
       "        vertical-align: top;\n",
       "    }\n",
       "\n",
       "    .dataframe thead th {\n",
       "        text-align: right;\n",
       "    }\n",
       "</style>\n",
       "<table border=\"1\" class=\"dataframe\">\n",
       "  <thead>\n",
       "    <tr style=\"text-align: right;\">\n",
       "      <th></th>\n",
       "      <th>email</th>\n",
       "      <th>before_after_award</th>\n",
       "      <th>average_degree</th>\n",
       "      <th>average_closeness</th>\n",
       "      <th>mean_cosine_distance</th>\n",
       "      <th>cosine_distance_entropy</th>\n",
       "    </tr>\n",
       "  </thead>\n",
       "  <tbody>\n",
       "    <tr>\n",
       "      <th>0</th>\n",
       "      <td>00t0holtgrav@bsu.edu</td>\n",
       "      <td>after_award</td>\n",
       "      <td>0.000766</td>\n",
       "      <td>0.160031</td>\n",
       "      <td>0.225915</td>\n",
       "      <td>7.905158</td>\n",
       "    </tr>\n",
       "    <tr>\n",
       "      <th>1</th>\n",
       "      <td>00t0holtgrav@bsu.edu</td>\n",
       "      <td>before_award</td>\n",
       "      <td>0.000756</td>\n",
       "      <td>0.152599</td>\n",
       "      <td>0.264751</td>\n",
       "      <td>7.894687</td>\n",
       "    </tr>\n",
       "    <tr>\n",
       "      <th>2</th>\n",
       "      <td>a.satpute@northeastern.edu</td>\n",
       "      <td>after_award</td>\n",
       "      <td>0.003191</td>\n",
       "      <td>0.177090</td>\n",
       "      <td>0.236865</td>\n",
       "      <td>7.607206</td>\n",
       "    </tr>\n",
       "    <tr>\n",
       "      <th>3</th>\n",
       "      <td>a.satpute@northeastern.edu</td>\n",
       "      <td>before_award</td>\n",
       "      <td>0.000867</td>\n",
       "      <td>0.209292</td>\n",
       "      <td>0.253264</td>\n",
       "      <td>6.310275</td>\n",
       "    </tr>\n",
       "    <tr>\n",
       "      <th>4</th>\n",
       "      <td>aabrewer@uci.edu</td>\n",
       "      <td>after_award</td>\n",
       "      <td>0.000244</td>\n",
       "      <td>0.174160</td>\n",
       "      <td>0.227764</td>\n",
       "      <td>4.728154</td>\n",
       "    </tr>\n",
       "    <tr>\n",
       "      <th>...</th>\n",
       "      <td>...</td>\n",
       "      <td>...</td>\n",
       "      <td>...</td>\n",
       "      <td>...</td>\n",
       "      <td>...</td>\n",
       "      <td>...</td>\n",
       "    </tr>\n",
       "    <tr>\n",
       "      <th>3981</th>\n",
       "      <td>zook@uky.edu</td>\n",
       "      <td>before_award</td>\n",
       "      <td>0.001222</td>\n",
       "      <td>0.175523</td>\n",
       "      <td>0.238168</td>\n",
       "      <td>10.938481</td>\n",
       "    </tr>\n",
       "    <tr>\n",
       "      <th>3982</th>\n",
       "      <td>zulu@msu.edu</td>\n",
       "      <td>after_award</td>\n",
       "      <td>0.000463</td>\n",
       "      <td>0.178312</td>\n",
       "      <td>0.287962</td>\n",
       "      <td>6.723187</td>\n",
       "    </tr>\n",
       "    <tr>\n",
       "      <th>3983</th>\n",
       "      <td>zulu@msu.edu</td>\n",
       "      <td>before_award</td>\n",
       "      <td>0.000574</td>\n",
       "      <td>0.174606</td>\n",
       "      <td>0.285075</td>\n",
       "      <td>5.304507</td>\n",
       "    </tr>\n",
       "    <tr>\n",
       "      <th>3984</th>\n",
       "      <td>zygmunt.frajzyngier@colorado.edu</td>\n",
       "      <td>after_award</td>\n",
       "      <td>0.000177</td>\n",
       "      <td>0.171520</td>\n",
       "      <td>0.263132</td>\n",
       "      <td>5.212317</td>\n",
       "    </tr>\n",
       "    <tr>\n",
       "      <th>3985</th>\n",
       "      <td>zygmunt.frajzyngier@colorado.edu</td>\n",
       "      <td>before_award</td>\n",
       "      <td>0.000275</td>\n",
       "      <td>0.158905</td>\n",
       "      <td>0.233319</td>\n",
       "      <td>7.228143</td>\n",
       "    </tr>\n",
       "  </tbody>\n",
       "</table>\n",
       "<p>3986 rows × 6 columns</p>\n",
       "</div>"
      ],
      "text/plain": [
       "                                 email before_after_award  average_degree  \\\n",
       "0                 00t0holtgrav@bsu.edu        after_award        0.000766   \n",
       "1                 00t0holtgrav@bsu.edu       before_award        0.000756   \n",
       "2           a.satpute@northeastern.edu        after_award        0.003191   \n",
       "3           a.satpute@northeastern.edu       before_award        0.000867   \n",
       "4                     aabrewer@uci.edu        after_award        0.000244   \n",
       "...                                ...                ...             ...   \n",
       "3981                      zook@uky.edu       before_award        0.001222   \n",
       "3982                      zulu@msu.edu        after_award        0.000463   \n",
       "3983                      zulu@msu.edu       before_award        0.000574   \n",
       "3984  zygmunt.frajzyngier@colorado.edu        after_award        0.000177   \n",
       "3985  zygmunt.frajzyngier@colorado.edu       before_award        0.000275   \n",
       "\n",
       "      average_closeness  mean_cosine_distance  cosine_distance_entropy  \n",
       "0              0.160031              0.225915                 7.905158  \n",
       "1              0.152599              0.264751                 7.894687  \n",
       "2              0.177090              0.236865                 7.607206  \n",
       "3              0.209292              0.253264                 6.310275  \n",
       "4              0.174160              0.227764                 4.728154  \n",
       "...                 ...                   ...                      ...  \n",
       "3981           0.175523              0.238168                10.938481  \n",
       "3982           0.178312              0.287962                 6.723187  \n",
       "3983           0.174606              0.285075                 5.304507  \n",
       "3984           0.171520              0.263132                 5.212317  \n",
       "3985           0.158905              0.233319                 7.228143  \n",
       "\n",
       "[3986 rows x 6 columns]"
      ]
     },
     "execution_count": 148,
     "metadata": {},
     "output_type": "execute_result"
    }
   ],
   "source": [
    "group_by_merged"
   ]
  },
  {
   "cell_type": "markdown",
   "metadata": {},
   "source": [
    "## Build Bootstrapped Linear Model with degree and closeness centrality as time-varying covariates"
   ]
  },
  {
   "cell_type": "code",
   "execution_count": null,
   "metadata": {},
   "outputs": [],
   "source": [
    "n_bootstraps = 1000\n",
    "bootstrap_estimates = {\n",
    "    'Intercept': [],\n",
    "    'before_after_award': [],\n",
    "    'average_degree': [],\n",
    "    'average_closeness': []\n",
    "}\n",
    "\n",
    "for _ in range(n_bootstraps):\n",
    "    # Resample the DataFrame with replacement at the subject (email) level\n",
    "    unique_emails = group_by_merged['email'].unique()\n",
    "    resampled_emails = resample(unique_emails)\n",
    "    resampled_df = pd.DataFrame()\n",
    "    for email in resampled_emails:\n",
    "        resampled_df = pd.concat([resampled_df, group_by_merged[group_by_merged['email'] == email]])\n",
    "\n",
    "    # Define and fit the model\n",
    "    # The model includes interactions between time (before_after_award) and the covariates if needed\n",
    "    model_formula = \"mean_cosine_distance ~ before_after_award * average_degree + before_after_award * average_closeness\"\n",
    "    model = smf.mixedlm(model_formula, data=resampled_df, groups=resampled_df[\"email\"])\n",
    "    result = model.fit()\n",
    "\n",
    "    # Store the parameter estimates\n",
    "    bootstrap_estimates['Intercept'].append(result.params['Intercept'])\n",
    "    if 'before_after_award[T.after]' in result.params:\n",
    "        bootstrap_estimates['before_after_award'].append(result.params['before_after_award[T.after]'])\n",
    "    bootstrap_estimates['average_degree'].append(result.params['average_degree'])\n",
    "    bootstrap_estimates['average_closeness'].append(result.params['average_closeness'])\n",
    "\n",
    "# Calculate the 95% confidence intervals for each parameter\n",
    "ci_95 = {param: np.percentile(bootstrap_estimates[param], [2.5, 97.5]) for param in bootstrap_estimates}\n",
    "\n",
    "for param, ci in ci_95.items():\n",
    "    print(f\"{param}: 95% CI = {ci}\")"
   ]
  }
 ],
 "metadata": {
  "kernelspec": {
   "display_name": "base",
   "language": "python",
   "name": "python3"
  },
  "language_info": {
   "codemirror_mode": {
    "name": "ipython",
    "version": 3
   },
   "file_extension": ".py",
   "mimetype": "text/x-python",
   "name": "python",
   "nbconvert_exporter": "python",
   "pygments_lexer": "ipython3",
   "version": "3.11.4"
  }
 },
 "nbformat": 4,
 "nbformat_minor": 2
}
